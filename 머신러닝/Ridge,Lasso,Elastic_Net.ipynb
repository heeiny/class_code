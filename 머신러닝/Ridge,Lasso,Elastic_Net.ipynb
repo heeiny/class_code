{
 "cells": [
  {
   "cell_type": "code",
   "execution_count": null,
   "id": "8be2eb17",
   "metadata": {},
   "outputs": [],
   "source": [
    "from sklearn.linear_model import Ridge\n",
    "from sklearn.model_selection import cross_val_score\n",
    "from sklearn.datasets import load_boston\n",
    "import numpy as np\n",
    "\n",
    "boston = load_boston()\n",
    "\n",
    "#Ridge\n",
    "\n",
    "ridge = Ridge(alpha=10)\n",
    "neg_mse_scores = cross_val_score(ridge , boston.data , boston.target , scoring=\"neg_mean_squared_error\", cv=5)\n",
    "rmse = np.sqrt(-1 *neg_mse_scores)\n",
    "avg_rmse = np.mean(rmse)\n",
    "\n",
    "print(f'5 fold의 개별 Negative MSE는 {np.round(neg_mse_scores, 3)}')\n",
    "print(f'5 fold의 개별 RMSE는 {np.round(rmse, 3)}')\n",
    "print(f'5 fold의 개별  RMSE의 평균는 {avg_rmse}')"
   ]
  }
 ],
 "metadata": {
  "kernelspec": {
   "display_name": "Python 3 (ipykernel)",
   "language": "python",
   "name": "python3"
  },
  "language_info": {
   "codemirror_mode": {
    "name": "ipython",
    "version": 3
   },
   "file_extension": ".py",
   "mimetype": "text/x-python",
   "name": "python",
   "nbconvert_exporter": "python",
   "pygments_lexer": "ipython3",
   "version": "3.9.13"
  },
  "toc": {
   "base_numbering": 1,
   "nav_menu": {},
   "number_sections": true,
   "sideBar": true,
   "skip_h1_title": false,
   "title_cell": "Table of Contents",
   "title_sidebar": "Contents",
   "toc_cell": false,
   "toc_position": {},
   "toc_section_display": true,
   "toc_window_display": false
  }
 },
 "nbformat": 4,
 "nbformat_minor": 5
}
