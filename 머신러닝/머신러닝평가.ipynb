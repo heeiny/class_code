{
 "cells": [
  {
   "cell_type": "code",
   "execution_count": 93,
   "id": "aea0cee5",
   "metadata": {
    "ExecuteTime": {
     "end_time": "2022-07-06T07:34:38.029985Z",
     "start_time": "2022-07-06T07:34:37.991971Z"
    }
   },
   "outputs": [],
   "source": [
    "#titanic데이터 로드\n",
    "import pandas as pd\n",
    "titanic = pd.read_csv('C:/apps/ml/datasets/titanic_train.csv')\n",
    "titanic.head()\n",
    "\n",
    "#titanic = df 로 변환\n",
    "df = titanic"
   ]
  },
  {
   "cell_type": "code",
   "execution_count": 94,
   "id": "a5372745",
   "metadata": {
    "ExecuteTime": {
     "end_time": "2022-07-06T07:34:38.290956Z",
     "start_time": "2022-07-06T07:34:38.263029Z"
    }
   },
   "outputs": [
    {
     "data": {
      "text/html": [
       "<div>\n",
       "<style scoped>\n",
       "    .dataframe tbody tr th:only-of-type {\n",
       "        vertical-align: middle;\n",
       "    }\n",
       "\n",
       "    .dataframe tbody tr th {\n",
       "        vertical-align: top;\n",
       "    }\n",
       "\n",
       "    .dataframe thead th {\n",
       "        text-align: right;\n",
       "    }\n",
       "</style>\n",
       "<table border=\"1\" class=\"dataframe\">\n",
       "  <thead>\n",
       "    <tr style=\"text-align: right;\">\n",
       "      <th></th>\n",
       "      <th>PassengerId</th>\n",
       "      <th>Survived</th>\n",
       "      <th>Pclass</th>\n",
       "      <th>Sex</th>\n",
       "      <th>Age</th>\n",
       "      <th>Fare</th>\n",
       "      <th>Embarked</th>\n",
       "    </tr>\n",
       "  </thead>\n",
       "  <tbody>\n",
       "    <tr>\n",
       "      <th>0</th>\n",
       "      <td>1</td>\n",
       "      <td>0</td>\n",
       "      <td>3</td>\n",
       "      <td>male</td>\n",
       "      <td>22.0</td>\n",
       "      <td>7.2500</td>\n",
       "      <td>S</td>\n",
       "    </tr>\n",
       "    <tr>\n",
       "      <th>1</th>\n",
       "      <td>2</td>\n",
       "      <td>1</td>\n",
       "      <td>1</td>\n",
       "      <td>female</td>\n",
       "      <td>38.0</td>\n",
       "      <td>71.2833</td>\n",
       "      <td>C</td>\n",
       "    </tr>\n",
       "    <tr>\n",
       "      <th>2</th>\n",
       "      <td>3</td>\n",
       "      <td>1</td>\n",
       "      <td>3</td>\n",
       "      <td>female</td>\n",
       "      <td>26.0</td>\n",
       "      <td>7.9250</td>\n",
       "      <td>S</td>\n",
       "    </tr>\n",
       "    <tr>\n",
       "      <th>3</th>\n",
       "      <td>4</td>\n",
       "      <td>1</td>\n",
       "      <td>1</td>\n",
       "      <td>female</td>\n",
       "      <td>35.0</td>\n",
       "      <td>53.1000</td>\n",
       "      <td>S</td>\n",
       "    </tr>\n",
       "    <tr>\n",
       "      <th>4</th>\n",
       "      <td>5</td>\n",
       "      <td>0</td>\n",
       "      <td>3</td>\n",
       "      <td>male</td>\n",
       "      <td>35.0</td>\n",
       "      <td>8.0500</td>\n",
       "      <td>S</td>\n",
       "    </tr>\n",
       "  </tbody>\n",
       "</table>\n",
       "</div>"
      ],
      "text/plain": [
       "   PassengerId  Survived  Pclass     Sex   Age     Fare Embarked\n",
       "0            1         0       3    male  22.0   7.2500        S\n",
       "1            2         1       1  female  38.0  71.2833        C\n",
       "2            3         1       3  female  26.0   7.9250        S\n",
       "3            4         1       1  female  35.0  53.1000        S\n",
       "4            5         0       3    male  35.0   8.0500        S"
      ]
     },
     "execution_count": 94,
     "metadata": {},
     "output_type": "execute_result"
    }
   ],
   "source": [
    "#Name,SibSp,Parch,Ticket,Cabin\n",
    "#drop할 때 axis 꼭 넣기!!\n",
    "titanic.drop(['Name','SibSp','Parch','Ticket','Cabin'],axis=1,inplace=True)\n",
    "titanic.head()"
   ]
  },
  {
   "cell_type": "code",
   "execution_count": 95,
   "id": "e5f52e7c",
   "metadata": {
    "ExecuteTime": {
     "end_time": "2022-07-06T07:34:38.502764Z",
     "start_time": "2022-07-06T07:34:38.481822Z"
    }
   },
   "outputs": [],
   "source": [
    "#Age는 평균으로 fillna.mean()\n",
    "#Embarked는 S로 fillna.('S')\n",
    "\n",
    "titanic['Age'] = titanic['Age'].fillna(titanic['Age'].mean())\n",
    "titanic['Embarked'] = titanic['Embarked'].fillna('S')"
   ]
  },
  {
   "cell_type": "code",
   "execution_count": 96,
   "id": "0b726606",
   "metadata": {
    "ExecuteTime": {
     "end_time": "2022-07-06T07:34:38.730304Z",
     "start_time": "2022-07-06T07:34:38.701218Z"
    }
   },
   "outputs": [],
   "source": [
    "# loc인덱싱. 첫번째는 인덱싱할 row를 입력하고 두번째에는 인덱싱할 column을 넣으면됨\n",
    "# 예를  df.loc[:, \"나이\"]를 한다면 모든 row의 나이를 인덱싱\n",
    "\n",
    "X = df.drop('Survived',axis=1)\n",
    "y = df.loc[:, 'Survived']"
   ]
  },
  {
   "cell_type": "code",
   "execution_count": 97,
   "id": "641da305",
   "metadata": {
    "ExecuteTime": {
     "end_time": "2022-07-06T07:34:38.929540Z",
     "start_time": "2022-07-06T07:34:38.892637Z"
    }
   },
   "outputs": [
    {
     "data": {
      "text/html": [
       "<div>\n",
       "<style scoped>\n",
       "    .dataframe tbody tr th:only-of-type {\n",
       "        vertical-align: middle;\n",
       "    }\n",
       "\n",
       "    .dataframe tbody tr th {\n",
       "        vertical-align: top;\n",
       "    }\n",
       "\n",
       "    .dataframe thead th {\n",
       "        text-align: right;\n",
       "    }\n",
       "</style>\n",
       "<table border=\"1\" class=\"dataframe\">\n",
       "  <thead>\n",
       "    <tr style=\"text-align: right;\">\n",
       "      <th></th>\n",
       "      <th>PassengerId</th>\n",
       "      <th>Pclass</th>\n",
       "      <th>Sex</th>\n",
       "      <th>Age</th>\n",
       "      <th>Fare</th>\n",
       "      <th>Embarked</th>\n",
       "    </tr>\n",
       "  </thead>\n",
       "  <tbody>\n",
       "    <tr>\n",
       "      <th>0</th>\n",
       "      <td>1</td>\n",
       "      <td>3</td>\n",
       "      <td>male</td>\n",
       "      <td>22.000000</td>\n",
       "      <td>7.2500</td>\n",
       "      <td>S</td>\n",
       "    </tr>\n",
       "    <tr>\n",
       "      <th>1</th>\n",
       "      <td>2</td>\n",
       "      <td>1</td>\n",
       "      <td>female</td>\n",
       "      <td>38.000000</td>\n",
       "      <td>71.2833</td>\n",
       "      <td>C</td>\n",
       "    </tr>\n",
       "    <tr>\n",
       "      <th>2</th>\n",
       "      <td>3</td>\n",
       "      <td>3</td>\n",
       "      <td>female</td>\n",
       "      <td>26.000000</td>\n",
       "      <td>7.9250</td>\n",
       "      <td>S</td>\n",
       "    </tr>\n",
       "    <tr>\n",
       "      <th>3</th>\n",
       "      <td>4</td>\n",
       "      <td>1</td>\n",
       "      <td>female</td>\n",
       "      <td>35.000000</td>\n",
       "      <td>53.1000</td>\n",
       "      <td>S</td>\n",
       "    </tr>\n",
       "    <tr>\n",
       "      <th>4</th>\n",
       "      <td>5</td>\n",
       "      <td>3</td>\n",
       "      <td>male</td>\n",
       "      <td>35.000000</td>\n",
       "      <td>8.0500</td>\n",
       "      <td>S</td>\n",
       "    </tr>\n",
       "    <tr>\n",
       "      <th>...</th>\n",
       "      <td>...</td>\n",
       "      <td>...</td>\n",
       "      <td>...</td>\n",
       "      <td>...</td>\n",
       "      <td>...</td>\n",
       "      <td>...</td>\n",
       "    </tr>\n",
       "    <tr>\n",
       "      <th>886</th>\n",
       "      <td>887</td>\n",
       "      <td>2</td>\n",
       "      <td>male</td>\n",
       "      <td>27.000000</td>\n",
       "      <td>13.0000</td>\n",
       "      <td>S</td>\n",
       "    </tr>\n",
       "    <tr>\n",
       "      <th>887</th>\n",
       "      <td>888</td>\n",
       "      <td>1</td>\n",
       "      <td>female</td>\n",
       "      <td>19.000000</td>\n",
       "      <td>30.0000</td>\n",
       "      <td>S</td>\n",
       "    </tr>\n",
       "    <tr>\n",
       "      <th>888</th>\n",
       "      <td>889</td>\n",
       "      <td>3</td>\n",
       "      <td>female</td>\n",
       "      <td>29.699118</td>\n",
       "      <td>23.4500</td>\n",
       "      <td>S</td>\n",
       "    </tr>\n",
       "    <tr>\n",
       "      <th>889</th>\n",
       "      <td>890</td>\n",
       "      <td>1</td>\n",
       "      <td>male</td>\n",
       "      <td>26.000000</td>\n",
       "      <td>30.0000</td>\n",
       "      <td>C</td>\n",
       "    </tr>\n",
       "    <tr>\n",
       "      <th>890</th>\n",
       "      <td>891</td>\n",
       "      <td>3</td>\n",
       "      <td>male</td>\n",
       "      <td>32.000000</td>\n",
       "      <td>7.7500</td>\n",
       "      <td>Q</td>\n",
       "    </tr>\n",
       "  </tbody>\n",
       "</table>\n",
       "<p>891 rows × 6 columns</p>\n",
       "</div>"
      ],
      "text/plain": [
       "     PassengerId  Pclass     Sex        Age     Fare Embarked\n",
       "0              1       3    male  22.000000   7.2500        S\n",
       "1              2       1  female  38.000000  71.2833        C\n",
       "2              3       3  female  26.000000   7.9250        S\n",
       "3              4       1  female  35.000000  53.1000        S\n",
       "4              5       3    male  35.000000   8.0500        S\n",
       "..           ...     ...     ...        ...      ...      ...\n",
       "886          887       2    male  27.000000  13.0000        S\n",
       "887          888       1  female  19.000000  30.0000        S\n",
       "888          889       3  female  29.699118  23.4500        S\n",
       "889          890       1    male  26.000000  30.0000        C\n",
       "890          891       3    male  32.000000   7.7500        Q\n",
       "\n",
       "[891 rows x 6 columns]"
      ]
     },
     "execution_count": 97,
     "metadata": {},
     "output_type": "execute_result"
    }
   ],
   "source": [
    "X"
   ]
  },
  {
   "cell_type": "code",
   "execution_count": 98,
   "id": "17f0c8c6",
   "metadata": {
    "ExecuteTime": {
     "end_time": "2022-07-06T07:34:39.129597Z",
     "start_time": "2022-07-06T07:34:39.108656Z"
    }
   },
   "outputs": [],
   "source": [
    "from sklearn.preprocessing import LabelEncoder\n",
    "\n",
    "encoder = LabelEncoder()\n",
    "X['Sex'] = encoder.fit_transform(X['Sex'])\n",
    "X['Embarked'] = encoder.fit_transform(X['Embarked'])"
   ]
  },
  {
   "cell_type": "code",
   "execution_count": 99,
   "id": "b23d109a",
   "metadata": {
    "ExecuteTime": {
     "end_time": "2022-07-06T07:34:39.370196Z",
     "start_time": "2022-07-06T07:34:39.335319Z"
    }
   },
   "outputs": [],
   "source": [
    "# [[ ]] 왜 두번하는지는 모를..\n",
    "\n",
    "from sklearn.preprocessing import RobustScaler,MinMaxScaler\n",
    "\n",
    "scaler = MinMaxScaler()\n",
    "X['Age'] = scaler.fit_transform(X[['Age']])"
   ]
  },
  {
   "cell_type": "code",
   "execution_count": 100,
   "id": "d0de8210",
   "metadata": {
    "ExecuteTime": {
     "end_time": "2022-07-06T07:34:39.566912Z",
     "start_time": "2022-07-06T07:34:39.528022Z"
    }
   },
   "outputs": [
    {
     "data": {
      "text/html": [
       "<div>\n",
       "<style scoped>\n",
       "    .dataframe tbody tr th:only-of-type {\n",
       "        vertical-align: middle;\n",
       "    }\n",
       "\n",
       "    .dataframe tbody tr th {\n",
       "        vertical-align: top;\n",
       "    }\n",
       "\n",
       "    .dataframe thead th {\n",
       "        text-align: right;\n",
       "    }\n",
       "</style>\n",
       "<table border=\"1\" class=\"dataframe\">\n",
       "  <thead>\n",
       "    <tr style=\"text-align: right;\">\n",
       "      <th></th>\n",
       "      <th>PassengerId</th>\n",
       "      <th>Pclass</th>\n",
       "      <th>Sex</th>\n",
       "      <th>Age</th>\n",
       "      <th>Fare</th>\n",
       "      <th>Embarked</th>\n",
       "    </tr>\n",
       "  </thead>\n",
       "  <tbody>\n",
       "    <tr>\n",
       "      <th>0</th>\n",
       "      <td>1</td>\n",
       "      <td>3</td>\n",
       "      <td>1</td>\n",
       "      <td>0.271174</td>\n",
       "      <td>7.2500</td>\n",
       "      <td>2</td>\n",
       "    </tr>\n",
       "    <tr>\n",
       "      <th>1</th>\n",
       "      <td>2</td>\n",
       "      <td>1</td>\n",
       "      <td>0</td>\n",
       "      <td>0.472229</td>\n",
       "      <td>71.2833</td>\n",
       "      <td>0</td>\n",
       "    </tr>\n",
       "    <tr>\n",
       "      <th>2</th>\n",
       "      <td>3</td>\n",
       "      <td>3</td>\n",
       "      <td>0</td>\n",
       "      <td>0.321438</td>\n",
       "      <td>7.9250</td>\n",
       "      <td>2</td>\n",
       "    </tr>\n",
       "    <tr>\n",
       "      <th>3</th>\n",
       "      <td>4</td>\n",
       "      <td>1</td>\n",
       "      <td>0</td>\n",
       "      <td>0.434531</td>\n",
       "      <td>53.1000</td>\n",
       "      <td>2</td>\n",
       "    </tr>\n",
       "    <tr>\n",
       "      <th>4</th>\n",
       "      <td>5</td>\n",
       "      <td>3</td>\n",
       "      <td>1</td>\n",
       "      <td>0.434531</td>\n",
       "      <td>8.0500</td>\n",
       "      <td>2</td>\n",
       "    </tr>\n",
       "    <tr>\n",
       "      <th>...</th>\n",
       "      <td>...</td>\n",
       "      <td>...</td>\n",
       "      <td>...</td>\n",
       "      <td>...</td>\n",
       "      <td>...</td>\n",
       "      <td>...</td>\n",
       "    </tr>\n",
       "    <tr>\n",
       "      <th>886</th>\n",
       "      <td>887</td>\n",
       "      <td>2</td>\n",
       "      <td>1</td>\n",
       "      <td>0.334004</td>\n",
       "      <td>13.0000</td>\n",
       "      <td>2</td>\n",
       "    </tr>\n",
       "    <tr>\n",
       "      <th>887</th>\n",
       "      <td>888</td>\n",
       "      <td>1</td>\n",
       "      <td>0</td>\n",
       "      <td>0.233476</td>\n",
       "      <td>30.0000</td>\n",
       "      <td>2</td>\n",
       "    </tr>\n",
       "    <tr>\n",
       "      <th>888</th>\n",
       "      <td>889</td>\n",
       "      <td>3</td>\n",
       "      <td>0</td>\n",
       "      <td>0.367921</td>\n",
       "      <td>23.4500</td>\n",
       "      <td>2</td>\n",
       "    </tr>\n",
       "    <tr>\n",
       "      <th>889</th>\n",
       "      <td>890</td>\n",
       "      <td>1</td>\n",
       "      <td>1</td>\n",
       "      <td>0.321438</td>\n",
       "      <td>30.0000</td>\n",
       "      <td>0</td>\n",
       "    </tr>\n",
       "    <tr>\n",
       "      <th>890</th>\n",
       "      <td>891</td>\n",
       "      <td>3</td>\n",
       "      <td>1</td>\n",
       "      <td>0.396833</td>\n",
       "      <td>7.7500</td>\n",
       "      <td>1</td>\n",
       "    </tr>\n",
       "  </tbody>\n",
       "</table>\n",
       "<p>891 rows × 6 columns</p>\n",
       "</div>"
      ],
      "text/plain": [
       "     PassengerId  Pclass  Sex       Age     Fare  Embarked\n",
       "0              1       3    1  0.271174   7.2500         2\n",
       "1              2       1    0  0.472229  71.2833         0\n",
       "2              3       3    0  0.321438   7.9250         2\n",
       "3              4       1    0  0.434531  53.1000         2\n",
       "4              5       3    1  0.434531   8.0500         2\n",
       "..           ...     ...  ...       ...      ...       ...\n",
       "886          887       2    1  0.334004  13.0000         2\n",
       "887          888       1    0  0.233476  30.0000         2\n",
       "888          889       3    0  0.367921  23.4500         2\n",
       "889          890       1    1  0.321438  30.0000         0\n",
       "890          891       3    1  0.396833   7.7500         1\n",
       "\n",
       "[891 rows x 6 columns]"
      ]
     },
     "execution_count": 100,
     "metadata": {},
     "output_type": "execute_result"
    }
   ],
   "source": [
    "X"
   ]
  },
  {
   "cell_type": "code",
   "execution_count": 101,
   "id": "9a2859ea",
   "metadata": {
    "ExecuteTime": {
     "end_time": "2022-07-06T07:34:39.751759Z",
     "start_time": "2022-07-06T07:34:39.732810Z"
    }
   },
   "outputs": [],
   "source": [
    "#테스트 파일 분리\n",
    "\n",
    "from sklearn.model_selection import train_test_split\n",
    "\n",
    "X_train,X_test,y_train,y_test = train_test_split(X,y,test_size=0.2,random_state=111)"
   ]
  },
  {
   "cell_type": "markdown",
   "id": "ce4d1089",
   "metadata": {},
   "source": [
    "# sklearn.base.BaseEstimator\n",
    "\n",
    "class sklearn.base.BaseEstimator"
   ]
  },
  {
   "cell_type": "code",
   "execution_count": 102,
   "id": "5bf107dc",
   "metadata": {
    "ExecuteTime": {
     "end_time": "2022-07-06T07:34:40.137300Z",
     "start_time": "2022-07-06T07:34:40.125292Z"
    }
   },
   "outputs": [],
   "source": [
    "import numpy as np\n",
    "from sklearn.base import BaseEstimator\n",
    "from sklearn.ensemble import RandomForestClassifier"
   ]
  },
  {
   "cell_type": "code",
   "execution_count": 103,
   "id": "8018465b",
   "metadata": {
    "ExecuteTime": {
     "end_time": "2022-07-06T07:34:40.545696Z",
     "start_time": "2022-07-06T07:34:40.330520Z"
    }
   },
   "outputs": [],
   "source": [
    "be_clf = RandomForestClassifier()\n",
    "# 입력 데이터의 형태에 맞춰 데이터를 변환하기 위한 사전 구조를 맞추는 작업\n",
    "be_clf.fit(X_train,y_train)\n",
    "\n",
    "pred = be_clf.predict(X_test)"
   ]
  },
  {
   "cell_type": "code",
   "execution_count": 104,
   "id": "227f884d",
   "metadata": {
    "ExecuteTime": {
     "end_time": "2022-07-06T07:34:40.576244Z",
     "start_time": "2022-07-06T07:34:40.549689Z"
    }
   },
   "outputs": [
    {
     "name": "stdout",
     "output_type": "stream",
     "text": [
      "정확도: 0.7988826815642458\n",
      "정밀도: 0.734375\n",
      "재현율: 0.7121212121212122\n"
     ]
    }
   ],
   "source": [
    "# 정밀도와 재현율을 예측\n",
    "\n",
    "from sklearn.metrics import accuracy_score,precision_score,recall_score\n",
    "\n",
    "print(\"정확도:\",accuracy_score(y_test,pred))\n",
    "print(\"정밀도:\",precision_score(y_test,pred))\n",
    "print(\"재현율:\",recall_score(y_test,pred))\n",
    "\n",
    "#precision과 recall은 상충관계!"
   ]
  },
  {
   "cell_type": "code",
   "execution_count": 105,
   "id": "8151daa4",
   "metadata": {
    "ExecuteTime": {
     "end_time": "2022-07-06T07:34:40.988014Z",
     "start_time": "2022-07-06T07:34:40.973017Z"
    }
   },
   "outputs": [
    {
     "name": "stdout",
     "output_type": "stream",
     "text": [
      "f1 score: 0.7988826815642458\n"
     ]
    }
   ],
   "source": [
    "from sklearn.metrics import f1_score\n",
    "\n",
    "print(\"f1 score:\",accuracy_score(y_test,pred))"
   ]
  },
  {
   "cell_type": "markdown",
   "id": "31d48b54",
   "metadata": {},
   "source": [
    "# 재현율 = 민감도(Sensitivity)"
   ]
  },
  {
   "cell_type": "code",
   "execution_count": 106,
   "id": "ba2e696b",
   "metadata": {
    "ExecuteTime": {
     "end_time": "2022-07-06T07:34:41.784307Z",
     "start_time": "2022-07-06T07:34:41.772300Z"
    }
   },
   "outputs": [
    {
     "data": {
      "text/plain": [
       "0.7384615384615385"
      ]
     },
     "execution_count": 106,
     "metadata": {},
     "output_type": "execute_result"
    }
   ],
   "source": [
    "#a = (정밀도+재현율)/2 = 1.3541666666666665\n",
    "(1/0.75+1/0.7272727272727273)/2\n",
    "\n",
    "# a의 역수(F1 Score)\n",
    "1/1.3541666666666665"
   ]
  },
  {
   "cell_type": "code",
   "execution_count": 115,
   "id": "de29be42",
   "metadata": {
    "ExecuteTime": {
     "end_time": "2022-07-06T08:11:24.522769Z",
     "start_time": "2022-07-06T08:11:24.480883Z"
    }
   },
   "outputs": [
    {
     "name": "stdout",
     "output_type": "stream",
     "text": [
      "[1 1 1 0 0 0 0 1 0 1 0 0 1 1 0 1 1 0 0 1 1 0 0 0 0 0 0 1 0 0 1 1 1 0 0 0 1\n",
      " 0 1 0 0 0 1 0 0 0 1 0 1 0 0 1 1 0 1 0 0 0 0 1 0 1 0 0 1 1 0 0 0 0 0 0 0 1\n",
      " 0 1 0 1 0 0 0 0 0 1 1 0 0 0 0 0 0 0 0 0 1 0 0 0 1 1 1 1 0 1 1 0 0 0 1 1 1\n",
      " 0 0 0 1 0 1 0 0 0 0 0 1 1 0 0 1 1 1 1 0 1 1 0 1 0 1 0 1 0 1 1 0 1 0 0 1 0\n",
      " 0 0 1 1 1 1 0 1 0 1 0 0 0 0 0 0 0 0 0 0 1 0 0 1 1 1 0 1 0 0 0]\n",
      "[[0.36548253 0.63451747]\n",
      " [0.25837965 0.74162035]\n",
      " [0.0715185  0.9284815 ]\n",
      " [0.86030442 0.13969558]\n",
      " [0.92833307 0.07166693]\n",
      " [0.61946829 0.38053171]\n",
      " [0.86313806 0.13686194]\n",
      " [0.05693073 0.94306927]\n",
      " [0.90102264 0.09897736]\n",
      " [0.22500268 0.77499732]\n",
      " [0.73094743 0.26905257]\n",
      " [0.92752708 0.07247292]\n",
      " [0.38031009 0.61968991]\n",
      " [0.06715024 0.93284976]\n",
      " [0.91105356 0.08894644]\n",
      " [0.39418271 0.60581729]\n",
      " [0.08339434 0.91660566]\n",
      " [0.83686229 0.16313771]\n",
      " [0.78023154 0.21976846]\n",
      " [0.23304542 0.76695458]\n",
      " [0.38326067 0.61673933]\n",
      " [0.63699719 0.36300281]\n",
      " [0.92597779 0.07402221]\n",
      " [0.95666012 0.04333988]\n",
      " [0.90787966 0.09212034]\n",
      " [0.91644072 0.08355928]\n",
      " [0.84117547 0.15882453]\n",
      " [0.2256929  0.7743071 ]\n",
      " [0.88243812 0.11756188]\n",
      " [0.84246968 0.15753032]\n",
      " [0.08377879 0.91622121]\n",
      " [0.39178501 0.60821499]\n",
      " [0.22758338 0.77241662]\n",
      " [0.90740297 0.09259703]\n",
      " [0.91450442 0.08549558]\n",
      " [0.55380247 0.44619753]\n",
      " [0.06829201 0.93170799]\n",
      " [0.54810078 0.45189922]\n",
      " [0.05138035 0.94861965]\n",
      " [0.85176166 0.14823834]\n",
      " [0.93170854 0.06829146]\n",
      " [0.76264501 0.23735499]\n",
      " [0.1839904  0.8160096 ]\n",
      " [0.52289909 0.47710091]\n",
      " [0.91329369 0.08670631]\n",
      " [0.74827459 0.25172541]\n",
      " [0.44960535 0.55039465]\n",
      " [0.51219837 0.48780163]\n",
      " [0.07966552 0.92033448]\n",
      " [0.54773645 0.45226355]\n",
      " [0.94028698 0.05971302]\n",
      " [0.47320357 0.52679643]\n",
      " [0.26021001 0.73978999]\n",
      " [0.92417813 0.07582187]\n",
      " [0.47015325 0.52984675]\n",
      " [0.93200677 0.06799323]\n",
      " [0.72630491 0.27369509]\n",
      " [0.68836311 0.31163689]\n",
      " [0.89057782 0.10942218]\n",
      " [0.38516906 0.61483094]\n",
      " [0.86207983 0.13792017]\n",
      " [0.42582461 0.57417539]\n",
      " [0.87564024 0.12435976]\n",
      " [0.91688026 0.08311974]\n",
      " [0.37293536 0.62706464]\n",
      " [0.07487039 0.92512961]\n",
      " [0.9357226  0.0642774 ]\n",
      " [0.94033726 0.05966274]\n",
      " [0.88636652 0.11363348]\n",
      " [0.92530109 0.07469891]\n",
      " [0.51198358 0.48801642]\n",
      " [0.61019042 0.38980958]\n",
      " [0.92450726 0.07549274]\n",
      " [0.46020936 0.53979064]\n",
      " [0.89347654 0.10652346]\n",
      " [0.09392803 0.90607197]\n",
      " [0.90665044 0.09334956]\n",
      " [0.09604687 0.90395313]\n",
      " [0.86385143 0.13614857]\n",
      " [0.65586009 0.34413991]\n",
      " [0.76629513 0.23370487]\n",
      " [0.86602508 0.13397492]\n",
      " [0.9175728  0.0824272 ]\n",
      " [0.06565899 0.93434101]\n",
      " [0.39331906 0.60668094]\n",
      " [0.74990167 0.25009833]\n",
      " [0.91808777 0.08191223]\n",
      " [0.92213393 0.07786607]\n",
      " [0.92385981 0.07614019]\n",
      " [0.5724937  0.4275063 ]\n",
      " [0.94726607 0.05273393]\n",
      " [0.77240197 0.22759803]\n",
      " [0.93467124 0.06532876]\n",
      " [0.93528669 0.06471331]\n",
      " [0.47143476 0.52856524]\n",
      " [0.57571127 0.42428873]\n",
      " [0.62210977 0.37789023]\n",
      " [0.90505238 0.09494762]\n",
      " [0.46731984 0.53268016]\n",
      " [0.10260893 0.89739107]\n",
      " [0.22061417 0.77938583]\n",
      " [0.45851981 0.54148019]\n",
      " [0.74999735 0.25000265]\n",
      " [0.41804903 0.58195097]\n",
      " [0.24981776 0.75018224]\n",
      " [0.6762266  0.3237734 ]\n",
      " [0.64546099 0.35453901]\n",
      " [0.92231598 0.07768402]\n",
      " [0.1186119  0.8813881 ]\n",
      " [0.46594598 0.53405402]\n",
      " [0.36982323 0.63017677]\n",
      " [0.92168065 0.07831935]\n",
      " [0.79723819 0.20276181]\n",
      " [0.90538147 0.09461853]\n",
      " [0.33136404 0.66863596]\n",
      " [0.73067397 0.26932603]\n",
      " [0.43491984 0.56508016]\n",
      " [0.93095027 0.06904973]\n",
      " [0.90967135 0.09032865]\n",
      " [0.91612106 0.08387894]\n",
      " [0.91142626 0.08857374]\n",
      " [0.9138654  0.0861346 ]\n",
      " [0.37256835 0.62743165]\n",
      " [0.08177883 0.91822117]\n",
      " [0.84722861 0.15277139]\n",
      " [0.86834425 0.13165575]\n",
      " [0.08288569 0.91711431]\n",
      " [0.10728819 0.89271181]\n",
      " [0.09628613 0.90371387]\n",
      " [0.0898222  0.9101778 ]\n",
      " [0.91249818 0.08750182]\n",
      " [0.15572942 0.84427058]\n",
      " [0.05877648 0.94122352]\n",
      " [0.88317717 0.11682283]\n",
      " [0.46775479 0.53224521]\n",
      " [0.75154507 0.24845493]\n",
      " [0.21457265 0.78542735]\n",
      " [0.93141529 0.06858471]\n",
      " [0.20819506 0.79180494]\n",
      " [0.95645231 0.04354769]\n",
      " [0.28341332 0.71658668]\n",
      " [0.30928591 0.69071409]\n",
      " [0.81148005 0.18851995]\n",
      " [0.41271283 0.58728717]\n",
      " [0.92640501 0.07359499]\n",
      " [0.91588428 0.08411572]\n",
      " [0.42172169 0.57827831]\n",
      " [0.909484   0.090516  ]\n",
      " [0.88041166 0.11958834]\n",
      " [0.73379855 0.26620145]\n",
      " [0.3910508  0.6089492 ]\n",
      " [0.4691765  0.5308235 ]\n",
      " [0.48104383 0.51895617]\n",
      " [0.05846492 0.94153508]\n",
      " [0.92929951 0.07070049]\n",
      " [0.25323279 0.74676721]\n",
      " [0.9294926  0.0705074 ]\n",
      " [0.43013215 0.56986785]\n",
      " [0.93262283 0.06737717]\n",
      " [0.89670543 0.10329457]\n",
      " [0.57037941 0.42962059]\n",
      " [0.71574725 0.28425275]\n",
      " [0.81377114 0.18622886]\n",
      " [0.93386145 0.06613855]\n",
      " [0.9067363  0.0932637 ]\n",
      " [0.79980844 0.20019156]\n",
      " [0.92407436 0.07592564]\n",
      " [0.89446711 0.10553289]\n",
      " [0.22883136 0.77116864]\n",
      " [0.84296746 0.15703254]\n",
      " [0.91140072 0.08859928]\n",
      " [0.43058083 0.56941917]\n",
      " [0.23131579 0.76868421]\n",
      " [0.0523659  0.9476341 ]\n",
      " [0.91256357 0.08743643]\n",
      " [0.2089495  0.7910505 ]\n",
      " [0.91592301 0.08407699]\n",
      " [0.88611605 0.11388395]\n",
      " [0.90280329 0.09719671]]\n"
     ]
    },
    {
     "name": "stderr",
     "output_type": "stream",
     "text": [
      "C:\\Users\\user\\AppData\\Local\\Programs\\Python\\Python39\\lib\\site-packages\\sklearn\\linear_model\\_logistic.py:444: ConvergenceWarning: lbfgs failed to converge (status=1):\n",
      "STOP: TOTAL NO. of ITERATIONS REACHED LIMIT.\n",
      "\n",
      "Increase the number of iterations (max_iter) or scale the data as shown in:\n",
      "    https://scikit-learn.org/stable/modules/preprocessing.html\n",
      "Please also refer to the documentation for alternative solver options:\n",
      "    https://scikit-learn.org/stable/modules/linear_model.html#logistic-regression\n",
      "  n_iter_i = _check_optimize_result(\n"
     ]
    }
   ],
   "source": [
    "from sklearn.linear_model import LogisticRegression\n",
    "\n",
    "lr_clf = LogisticRegression()\n",
    "lr_clf.fit(X_train,y_train)\n",
    "\n",
    "print(pred)\n",
    "print(pred_proba)"
   ]
  },
  {
   "cell_type": "code",
   "execution_count": 117,
   "id": "485d4ac7",
   "metadata": {
    "ExecuteTime": {
     "end_time": "2022-07-06T08:12:16.552728Z",
     "start_time": "2022-07-06T08:12:16.536287Z"
    }
   },
   "outputs": [
    {
     "name": "stdout",
     "output_type": "stream",
     "text": [
      "pred_proba()결과 shape: (179, 2)\n",
      "pred_proba array에서 앞 3개만 샘플로 추출 \n",
      " [[0.36548253 0.63451747]\n",
      " [0.25837965 0.74162035]\n",
      " [0.0715185  0.9284815 ]]\n",
      "두개의 class중에서 더 큰 확률을 클래스 값으로 예측 \n",
      " [[0.36548253 0.63451747 1.        ]\n",
      " [0.25837965 0.74162035 1.        ]\n",
      " [0.0715185  0.9284815  1.        ]]\n"
     ]
    }
   ],
   "source": [
    "pred_proba = lr_clf.predict_proba(X_test)\n",
    "pred = lr_clf.predict(X_test)\n",
    "\n",
    "print('pred_proba()결과 shape: {0}'.format(pred_proba.shape))\n",
    "print('pred_proba array에서 앞 3개만 샘플로 추출 \\n',pred_proba[:3])\n",
    "\n",
    "#예측 확률 array와 예측 결과값 array를 concatenate하여 예측 확률과 결과값을 한눈에 확인\n",
    "pred_proba_result = np.concatenate([pred_proba, pred.reshape(-1,1)], axis=1)\n",
    "print('두개의 class중에서 더 큰 확률을 클래스 값으로 예측 \\n',pred_proba_result[:3])\n"
   ]
  },
  {
   "cell_type": "code",
   "execution_count": 118,
   "id": "7480edd6",
   "metadata": {
    "ExecuteTime": {
     "end_time": "2022-07-06T08:12:21.714798Z",
     "start_time": "2022-07-06T08:12:21.703818Z"
    }
   },
   "outputs": [
    {
     "data": {
      "text/plain": [
       "3.125"
      ]
     },
     "execution_count": 118,
     "metadata": {},
     "output_type": "execute_result"
    }
   ],
   "source": [
    "#0.8이 재현율 재현율만 높다고 생각하면 f1 score는 \n",
    "(10/2 + 10/8)/2"
   ]
  },
  {
   "cell_type": "code",
   "execution_count": 119,
   "id": "a9e8d91e",
   "metadata": {
    "ExecuteTime": {
     "end_time": "2022-07-06T08:12:21.880386Z",
     "start_time": "2022-07-06T08:12:21.874414Z"
    }
   },
   "outputs": [
    {
     "data": {
      "text/plain": [
       "0.32"
      ]
     },
     "execution_count": 119,
     "metadata": {},
     "output_type": "execute_result"
    }
   ],
   "source": [
    "1/3.125"
   ]
  },
  {
   "cell_type": "code",
   "execution_count": 120,
   "id": "87dde0cc",
   "metadata": {
    "ExecuteTime": {
     "end_time": "2022-07-06T08:12:24.002835Z",
     "start_time": "2022-07-06T08:12:23.983884Z"
    }
   },
   "outputs": [
    {
     "data": {
      "text/plain": [
       "2.380952380952381"
      ]
     },
     "execution_count": 120,
     "metadata": {},
     "output_type": "execute_result"
    }
   ],
   "source": [
    "#f1 score가 높은 걸 찾으려면 밑에 식처럼\n",
    "(10/3 + 10/7)/2"
   ]
  },
  {
   "cell_type": "code",
   "execution_count": 121,
   "id": "dd4abf13",
   "metadata": {
    "ExecuteTime": {
     "end_time": "2022-07-06T08:12:24.124710Z",
     "start_time": "2022-07-06T08:12:24.103766Z"
    }
   },
   "outputs": [
    {
     "data": {
      "text/plain": [
       "0.42"
      ]
     },
     "execution_count": 121,
     "metadata": {},
     "output_type": "execute_result"
    }
   ],
   "source": [
    "1/2.380952380952381"
   ]
  },
  {
   "cell_type": "code",
   "execution_count": 123,
   "id": "6e413849",
   "metadata": {
    "ExecuteTime": {
     "end_time": "2022-07-06T08:13:02.147541Z",
     "start_time": "2022-07-06T08:13:02.134571Z"
    }
   },
   "outputs": [],
   "source": [
    "#정밀도 \n",
    "from sklearn.metrics import precision_recall_curve"
   ]
  },
  {
   "cell_type": "code",
   "execution_count": 125,
   "id": "d9265954",
   "metadata": {
    "ExecuteTime": {
     "end_time": "2022-07-06T08:13:47.128020Z",
     "start_time": "2022-07-06T08:13:47.109115Z"
    }
   },
   "outputs": [],
   "source": [
    "# 레이블 값이 1일때의 예측 확률을 추출\n",
    "pred_proba_class1 = lr_clf.predict_proba(X_test)[:,1]"
   ]
  },
  {
   "cell_type": "code",
   "execution_count": 126,
   "id": "d3ae067c",
   "metadata": {
    "ExecuteTime": {
     "end_time": "2022-07-06T08:18:41.307256Z",
     "start_time": "2022-07-06T08:18:41.279331Z"
    }
   },
   "outputs": [
    {
     "name": "stdout",
     "output_type": "stream",
     "text": [
      "반환된 분류 결정 임계값 배열의 Shape: (179,)\n",
      "반환된 precisions 배열의 Shape: (180,)\n",
      "반환된 recalls 배열의 Shape: (180,)\n",
      "thresholds 5 sample: [0.04333988 0.04354769 0.05273393 0.05966274 0.05971302]\n",
      "precision 5 sample: [0.36871508 0.37078652 0.37288136 0.375      0.37142857]\n",
      "recalls 5 sample: [1.         1.         1.         1.         0.98484848]\n"
     ]
    }
   ],
   "source": [
    "# 실제값 데이터 셋과 레이블 값이 1일 때의 예측 확률을 precision_recall_curve 인자로 입력\n",
    "precisions,recalls,thresholds = precision_recall_curve(y_test,pred_proba_class1)\n",
    "print('반환된 분류 결정 임계값 배열의 Shape:',thresholds.shape)\n",
    "print('반환된 precisions 배열의 Shape:',precisions.shape)\n",
    "print('반환된 recalls 배열의 Shape:',recalls.shape)\n",
    "\n",
    "print(\"thresholds 5 sample:\", thresholds[:5])\n",
    "print(\"precision 5 sample:\",precisions[:5])\n",
    "print(\"recalls 5 sample:\", recalls[:5])"
   ]
  },
  {
   "cell_type": "code",
   "execution_count": 127,
   "id": "3212448d",
   "metadata": {
    "ExecuteTime": {
     "end_time": "2022-07-06T08:20:25.359073Z",
     "start_time": "2022-07-06T08:20:25.343083Z"
    }
   },
   "outputs": [
    {
     "name": "stdout",
     "output_type": "stream",
     "text": [
      "샘플 추출을 위한 임계값 배열의 index 10개: [  0  15  30  45  60  75  90 105 120 135 150 165]\n",
      "샘플용 10개의 임계값: [0.04 0.07 0.08 0.09 0.12 0.19 0.27 0.45 0.57 0.63 0.77 0.92]\n"
     ]
    }
   ],
   "source": [
    "#반환된 임계값 배열 로우가 147건이므로 샘플로 10건만 추출하되, 임계값을 15 Step으로 추출\n",
    "thr_index = np.arange(0,thresholds.shape[0],15)\n",
    "print('샘플 추출을 위한 임계값 배열의 index 10개:',thr_index)\n",
    "print('샘플용 10개의 임계값:',np.round(thresholds[thr_index],2))"
   ]
  },
  {
   "cell_type": "code",
   "execution_count": 128,
   "id": "95c226e9",
   "metadata": {
    "ExecuteTime": {
     "end_time": "2022-07-06T08:21:43.537298Z",
     "start_time": "2022-07-06T08:21:43.517349Z"
    }
   },
   "outputs": [
    {
     "name": "stdout",
     "output_type": "stream",
     "text": [
      "샘플 임계값별 정밀도: [0.369 0.39  0.409 0.448 0.487 0.51  0.573 0.662 0.746 0.886 1.    1.   ]\n",
      "샘플 임계값별 재현율: [1.    0.97  0.924 0.909 0.879 0.803 0.773 0.742 0.667 0.591 0.439 0.212]\n"
     ]
    }
   ],
   "source": [
    "#15step 단위로 추출된 임계값에 따른 정밀도와 재현율의 값\n",
    "print('샘플 임계값별 정밀도:', np.round(precisions[thr_index],3))\n",
    "print('샘플 임계값별 재현율:', np.round(recalls[thr_index],3))"
   ]
  },
  {
   "cell_type": "code",
   "execution_count": 129,
   "id": "eb82a88b",
   "metadata": {
    "ExecuteTime": {
     "end_time": "2022-07-06T08:22:18.562183Z",
     "start_time": "2022-07-06T08:22:18.254052Z"
    }
   },
   "outputs": [],
   "source": [
    "import matplotlib.pyplot as plt\n",
    "import matplotlib.ticker as ticker\n",
    "%matplotlib inline"
   ]
  },
  {
   "cell_type": "code",
   "execution_count": 130,
   "id": "00d7ab48",
   "metadata": {
    "ExecuteTime": {
     "end_time": "2022-07-06T08:23:23.346639Z",
     "start_time": "2022-07-06T08:23:23.332677Z"
    }
   },
   "outputs": [],
   "source": [
    "def precision_recall_curve_plot(y_test,pred_proba_c1):\n",
    "    #threshold ndarray와 이 threshold에 따른 정밀도,재현율 ndarray 추출. \n",
    "    pricisions,recalls,thresholds = precision_recall_curve(y_test,pred_proba_c1)"
   ]
  },
  {
   "cell_type": "code",
   "execution_count": 135,
   "id": "d6a8bc67",
   "metadata": {
    "ExecuteTime": {
     "end_time": "2022-07-06T08:47:25.416888Z",
     "start_time": "2022-07-06T08:47:25.379728Z"
    }
   },
   "outputs": [
    {
     "ename": "NameError",
     "evalue": "name 'threshold_boundary' is not defined",
     "output_type": "error",
     "traceback": [
      "\u001b[1;31m---------------------------------------------------------------------------\u001b[0m",
      "\u001b[1;31mNameError\u001b[0m                                 Traceback (most recent call last)",
      "Input \u001b[1;32mIn [135]\u001b[0m, in \u001b[0;36m<cell line: 4>\u001b[1;34m()\u001b[0m\n\u001b[0;32m      2\u001b[0m plt\u001b[38;5;241m.\u001b[39mfigure(figsize\u001b[38;5;241m=\u001b[39m(\u001b[38;5;241m8\u001b[39m,\u001b[38;5;241m6\u001b[39m))\n\u001b[0;32m      3\u001b[0m threshold_boudary \u001b[38;5;241m=\u001b[39m thresholds\u001b[38;5;241m.\u001b[39mshape[\u001b[38;5;241m0\u001b[39m]\n\u001b[1;32m----> 4\u001b[0m plt\u001b[38;5;241m.\u001b[39mplot(thresholds, precisions[\u001b[38;5;241m0\u001b[39m:\u001b[43mthreshold_boundary\u001b[49m], linestyle\u001b[38;5;241m=\u001b[39m\u001b[38;5;124m'\u001b[39m\u001b[38;5;124m--\u001b[39m\u001b[38;5;124m'\u001b[39m,label\u001b[38;5;241m=\u001b[39m\u001b[38;5;124m'\u001b[39m\u001b[38;5;124mprecision\u001b[39m\u001b[38;5;124m'\u001b[39m)\n\u001b[0;32m      5\u001b[0m plt\u001b[38;5;241m.\u001b[39mplot(thresholds, recalls[\u001b[38;5;241m0\u001b[39m:threshold_boundary], label \u001b[38;5;241m=\u001b[39m\u001b[38;5;124m'\u001b[39m\u001b[38;5;124mrecall\u001b[39m\u001b[38;5;124m'\u001b[39m)\n",
      "\u001b[1;31mNameError\u001b[0m: name 'threshold_boundary' is not defined"
     ]
    },
    {
     "data": {
      "text/plain": [
       "<Figure size 576x432 with 0 Axes>"
      ]
     },
     "metadata": {},
     "output_type": "display_data"
    }
   ],
   "source": [
    "# X축을 threshold값으로, Y축은 정밀도, 재현율 값으로 각각 Plot 수행. 정밀도는 점선으로 표시 \n",
    "plt.figure(figsize=(8,6))\n",
    "threshold_boudary = thresholds.shape[0]\n",
    "plt.plot(thresholds, precisions[0:threshold_boundary], linestyle='--',label='precision')\n",
    "plt.plot(thresholds, recalls[0:threshold_boundary], label ='recall')"
   ]
  },
  {
   "cell_type": "code",
   "execution_count": null,
   "id": "84dbc83e",
   "metadata": {},
   "outputs": [],
   "source": []
  }
 ],
 "metadata": {
  "kernelspec": {
   "display_name": "Python 3 (ipykernel)",
   "language": "python",
   "name": "python3"
  },
  "language_info": {
   "codemirror_mode": {
    "name": "ipython",
    "version": 3
   },
   "file_extension": ".py",
   "mimetype": "text/x-python",
   "name": "python",
   "nbconvert_exporter": "python",
   "pygments_lexer": "ipython3",
   "version": "3.9.13"
  },
  "toc": {
   "base_numbering": 1,
   "nav_menu": {},
   "number_sections": true,
   "sideBar": true,
   "skip_h1_title": false,
   "title_cell": "Table of Contents",
   "title_sidebar": "Contents",
   "toc_cell": false,
   "toc_position": {},
   "toc_section_display": true,
   "toc_window_display": false
  }
 },
 "nbformat": 4,
 "nbformat_minor": 5
}
