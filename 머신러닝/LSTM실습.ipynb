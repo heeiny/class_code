{
 "cells": [
  {
   "cell_type": "code",
   "execution_count": 103,
   "id": "ff4303ed",
   "metadata": {
    "ExecuteTime": {
     "end_time": "2022-07-31T12:36:31.289993Z",
     "start_time": "2022-07-31T12:36:31.248106Z"
    }
   },
   "outputs": [
    {
     "data": {
      "text/html": [
       "<div>\n",
       "<style scoped>\n",
       "    .dataframe tbody tr th:only-of-type {\n",
       "        vertical-align: middle;\n",
       "    }\n",
       "\n",
       "    .dataframe tbody tr th {\n",
       "        vertical-align: top;\n",
       "    }\n",
       "\n",
       "    .dataframe thead th {\n",
       "        text-align: right;\n",
       "    }\n",
       "</style>\n",
       "<table border=\"1\" class=\"dataframe\">\n",
       "  <thead>\n",
       "    <tr style=\"text-align: right;\">\n",
       "      <th></th>\n",
       "      <th>일자</th>\n",
       "      <th>종가</th>\n",
       "      <th>대비</th>\n",
       "      <th>등락률</th>\n",
       "      <th>순자산가치(NAV)</th>\n",
       "      <th>시가</th>\n",
       "      <th>고가</th>\n",
       "      <th>저가</th>\n",
       "      <th>거래량</th>\n",
       "      <th>거래대금</th>\n",
       "      <th>시가총액</th>\n",
       "      <th>순자산총액</th>\n",
       "      <th>상장좌수</th>\n",
       "      <th>기초지수_지수명</th>\n",
       "      <th>기초지수_종가</th>\n",
       "      <th>기초지수_대비</th>\n",
       "      <th>기초지수_등락률</th>\n",
       "    </tr>\n",
       "  </thead>\n",
       "  <tbody>\n",
       "    <tr>\n",
       "      <th>0</th>\n",
       "      <td>2022-06-24</td>\n",
       "      <td>31285</td>\n",
       "      <td>645</td>\n",
       "      <td>2.11</td>\n",
       "      <td>31268.47</td>\n",
       "      <td>30800</td>\n",
       "      <td>31410</td>\n",
       "      <td>30700</td>\n",
       "      <td>10451953</td>\n",
       "      <td>3.260000e+11</td>\n",
       "      <td>4.940000e+12</td>\n",
       "      <td>5.070000e+12</td>\n",
       "      <td>157900000</td>\n",
       "      <td>코스피 200</td>\n",
       "      <td>312.07</td>\n",
       "      <td>6.62</td>\n",
       "      <td>2.17</td>\n",
       "    </tr>\n",
       "    <tr>\n",
       "      <th>1</th>\n",
       "      <td>2022-06-27</td>\n",
       "      <td>31685</td>\n",
       "      <td>400</td>\n",
       "      <td>1.28</td>\n",
       "      <td>31681.63</td>\n",
       "      <td>31520</td>\n",
       "      <td>31930</td>\n",
       "      <td>31235</td>\n",
       "      <td>8572714</td>\n",
       "      <td>2.720000e+11</td>\n",
       "      <td>5.140000e+12</td>\n",
       "      <td>5.260000e+12</td>\n",
       "      <td>162150000</td>\n",
       "      <td>코스피 200</td>\n",
       "      <td>316.20</td>\n",
       "      <td>4.13</td>\n",
       "      <td>1.32</td>\n",
       "    </tr>\n",
       "    <tr>\n",
       "      <th>2</th>\n",
       "      <td>2022-06-28</td>\n",
       "      <td>31930</td>\n",
       "      <td>245</td>\n",
       "      <td>0.77</td>\n",
       "      <td>31972.52</td>\n",
       "      <td>31725</td>\n",
       "      <td>31930</td>\n",
       "      <td>31560</td>\n",
       "      <td>6746503</td>\n",
       "      <td>2.150000e+11</td>\n",
       "      <td>5.300000e+12</td>\n",
       "      <td>5.390000e+12</td>\n",
       "      <td>165950000</td>\n",
       "      <td>코스피 200</td>\n",
       "      <td>319.11</td>\n",
       "      <td>2.91</td>\n",
       "      <td>0.92</td>\n",
       "    </tr>\n",
       "    <tr>\n",
       "      <th>3</th>\n",
       "      <td>2022-06-29</td>\n",
       "      <td>31395</td>\n",
       "      <td>535</td>\n",
       "      <td>-1.68</td>\n",
       "      <td>31457.14</td>\n",
       "      <td>31555</td>\n",
       "      <td>31655</td>\n",
       "      <td>31365</td>\n",
       "      <td>6177527</td>\n",
       "      <td>1.940000e+11</td>\n",
       "      <td>5.300000e+12</td>\n",
       "      <td>5.330000e+12</td>\n",
       "      <td>168700000</td>\n",
       "      <td>코스피 200</td>\n",
       "      <td>312.86</td>\n",
       "      <td>6.25</td>\n",
       "      <td>-1.96</td>\n",
       "    </tr>\n",
       "    <tr>\n",
       "      <th>4</th>\n",
       "      <td>2022-06-30</td>\n",
       "      <td>30875</td>\n",
       "      <td>520</td>\n",
       "      <td>-1.66</td>\n",
       "      <td>30890.10</td>\n",
       "      <td>31280</td>\n",
       "      <td>31280</td>\n",
       "      <td>30870</td>\n",
       "      <td>7940411</td>\n",
       "      <td>2.460000e+11</td>\n",
       "      <td>5.230000e+12</td>\n",
       "      <td>5.250000e+12</td>\n",
       "      <td>169300000</td>\n",
       "      <td>코스피 200</td>\n",
       "      <td>307.20</td>\n",
       "      <td>5.66</td>\n",
       "      <td>-1.81</td>\n",
       "    </tr>\n",
       "  </tbody>\n",
       "</table>\n",
       "</div>"
      ],
      "text/plain": [
       "           일자     종가   대비   등락률  순자산가치(NAV)     시가     고가     저가       거래량  \\\n",
       "0  2022-06-24  31285  645  2.11    31268.47  30800  31410  30700  10451953   \n",
       "1  2022-06-27  31685  400  1.28    31681.63  31520  31930  31235   8572714   \n",
       "2  2022-06-28  31930  245  0.77    31972.52  31725  31930  31560   6746503   \n",
       "3  2022-06-29  31395  535 -1.68    31457.14  31555  31655  31365   6177527   \n",
       "4  2022-06-30  30875  520 -1.66    30890.10  31280  31280  30870   7940411   \n",
       "\n",
       "           거래대금          시가총액         순자산총액       상장좌수 기초지수_지수명  기초지수_종가  \\\n",
       "0  3.260000e+11  4.940000e+12  5.070000e+12  157900000  코스피 200   312.07   \n",
       "1  2.720000e+11  5.140000e+12  5.260000e+12  162150000  코스피 200   316.20   \n",
       "2  2.150000e+11  5.300000e+12  5.390000e+12  165950000  코스피 200   319.11   \n",
       "3  1.940000e+11  5.300000e+12  5.330000e+12  168700000  코스피 200   312.86   \n",
       "4  2.460000e+11  5.230000e+12  5.250000e+12  169300000  코스피 200   307.20   \n",
       "\n",
       "   기초지수_대비  기초지수_등락률  \n",
       "0     6.62      2.17  \n",
       "1     4.13      1.32  \n",
       "2     2.91      0.92  \n",
       "3     6.25     -1.96  \n",
       "4     5.66     -1.81  "
      ]
     },
     "execution_count": 103,
     "metadata": {},
     "output_type": "execute_result"
    }
   ],
   "source": [
    "import pandas as pd\n",
    "import numpy as np\n",
    "import matplotlib.pyplot as plt\n",
    "import seaborn as sns\n",
    "import warnings\n",
    "import os\n",
    "\n",
    "# 파일 불러오기\n",
    "ab = pd.read_csv('C:/Users/user/Desktop/해커톤/KODEX200_220624_20220726.csv', encoding='cp949')\n",
    "ab.head()"
   ]
  },
  {
   "cell_type": "code",
   "execution_count": 104,
   "id": "49b0ce83",
   "metadata": {
    "ExecuteTime": {
     "end_time": "2022-07-31T12:36:32.370077Z",
     "start_time": "2022-07-31T12:36:32.169301Z"
    }
   },
   "outputs": [
    {
     "data": {
      "text/plain": [
       "Text(0, 0.5, '종가')"
      ]
     },
     "execution_count": 104,
     "metadata": {},
     "output_type": "execute_result"
    },
    {
     "data": {
      "image/png": "[encoded data removed]",
      "text/plain": [
       "<Figure size 1152x648 with 1 Axes>"
      ]
     },
     "metadata": {
      "needs_background": "light"
     },
     "output_type": "display_data"
    }
   ],
   "source": [
    "# 시각화를 위해 일자를 날짜형으로 변환\n",
    "ab['일자'] = pd.to_datetime(ab['일자'], format='%Y-%m-%d')\n",
    "ab['월별'] = ab['일자'].dt.month\n",
    "\n",
    "\n",
    "# 종가 시각화\n",
    "plt.figure(figsize=(16, 9))\n",
    "sns.lineplot(y=ab['종가'], x=ab['일자'])\n",
    "plt.xlabel('일자')\n",
    "plt.ylabel('종가')"
   ]
  },
  {
   "cell_type": "code",
   "execution_count": 105,
   "id": "a1e16d79",
   "metadata": {
    "ExecuteTime": {
     "end_time": "2022-07-31T12:36:32.965240Z",
     "start_time": "2022-07-31T12:36:32.950281Z"
    }
   },
   "outputs": [],
   "source": [
    "#'일자'를 datetime 객체로 설정 \n",
    "frame = ab.set_index('일자')"
   ]
  },
  {
   "cell_type": "code",
   "execution_count": 106,
   "id": "3f57b33e",
   "metadata": {
    "ExecuteTime": {
     "end_time": "2022-07-31T12:36:33.486703Z",
     "start_time": "2022-07-31T12:36:33.474774Z"
    }
   },
   "outputs": [
    {
     "data": {
      "text/html": [
       "<div>\n",
       "<style scoped>\n",
       "    .dataframe tbody tr th:only-of-type {\n",
       "        vertical-align: middle;\n",
       "    }\n",
       "\n",
       "    .dataframe tbody tr th {\n",
       "        vertical-align: top;\n",
       "    }\n",
       "\n",
       "    .dataframe thead th {\n",
       "        text-align: right;\n",
       "    }\n",
       "</style>\n",
       "<table border=\"1\" class=\"dataframe\">\n",
       "  <thead>\n",
       "    <tr style=\"text-align: right;\">\n",
       "      <th></th>\n",
       "      <th>종가</th>\n",
       "      <th>거래량</th>\n",
       "    </tr>\n",
       "    <tr>\n",
       "      <th>일자</th>\n",
       "      <th></th>\n",
       "      <th></th>\n",
       "    </tr>\n",
       "  </thead>\n",
       "  <tbody>\n",
       "    <tr>\n",
       "      <th>2022-06-24</th>\n",
       "      <td>31285</td>\n",
       "      <td>10451953</td>\n",
       "    </tr>\n",
       "    <tr>\n",
       "      <th>2022-06-27</th>\n",
       "      <td>31685</td>\n",
       "      <td>8572714</td>\n",
       "    </tr>\n",
       "    <tr>\n",
       "      <th>2022-06-28</th>\n",
       "      <td>31930</td>\n",
       "      <td>6746503</td>\n",
       "    </tr>\n",
       "    <tr>\n",
       "      <th>2022-06-29</th>\n",
       "      <td>31395</td>\n",
       "      <td>6177527</td>\n",
       "    </tr>\n",
       "    <tr>\n",
       "      <th>2022-06-30</th>\n",
       "      <td>30875</td>\n",
       "      <td>7940411</td>\n",
       "    </tr>\n",
       "    <tr>\n",
       "      <th>2022-07-01</th>\n",
       "      <td>30560</td>\n",
       "      <td>6240988</td>\n",
       "    </tr>\n",
       "    <tr>\n",
       "      <th>2022-07-04</th>\n",
       "      <td>30570</td>\n",
       "      <td>8932236</td>\n",
       "    </tr>\n",
       "    <tr>\n",
       "      <th>2022-07-05</th>\n",
       "      <td>31055</td>\n",
       "      <td>7245145</td>\n",
       "    </tr>\n",
       "    <tr>\n",
       "      <th>2022-07-06</th>\n",
       "      <td>30350</td>\n",
       "      <td>9116536</td>\n",
       "    </tr>\n",
       "    <tr>\n",
       "      <th>2022-07-07</th>\n",
       "      <td>30960</td>\n",
       "      <td>6746537</td>\n",
       "    </tr>\n",
       "    <tr>\n",
       "      <th>2022-07-08</th>\n",
       "      <td>31130</td>\n",
       "      <td>8836853</td>\n",
       "    </tr>\n",
       "    <tr>\n",
       "      <th>2022-07-11</th>\n",
       "      <td>30955</td>\n",
       "      <td>6570561</td>\n",
       "    </tr>\n",
       "    <tr>\n",
       "      <th>2022-07-12</th>\n",
       "      <td>30660</td>\n",
       "      <td>5551637</td>\n",
       "    </tr>\n",
       "    <tr>\n",
       "      <th>2022-07-13</th>\n",
       "      <td>30820</td>\n",
       "      <td>6840518</td>\n",
       "    </tr>\n",
       "    <tr>\n",
       "      <th>2022-07-14</th>\n",
       "      <td>30710</td>\n",
       "      <td>5896627</td>\n",
       "    </tr>\n",
       "    <tr>\n",
       "      <th>2022-07-15</th>\n",
       "      <td>30895</td>\n",
       "      <td>7255044</td>\n",
       "    </tr>\n",
       "    <tr>\n",
       "      <th>2022-07-18</th>\n",
       "      <td>31580</td>\n",
       "      <td>7193533</td>\n",
       "    </tr>\n",
       "    <tr>\n",
       "      <th>2022-07-19</th>\n",
       "      <td>31475</td>\n",
       "      <td>4685922</td>\n",
       "    </tr>\n",
       "    <tr>\n",
       "      <th>2022-07-20</th>\n",
       "      <td>31710</td>\n",
       "      <td>6810248</td>\n",
       "    </tr>\n",
       "    <tr>\n",
       "      <th>2022-07-21</th>\n",
       "      <td>32055</td>\n",
       "      <td>5550883</td>\n",
       "    </tr>\n",
       "    <tr>\n",
       "      <th>2022-07-22</th>\n",
       "      <td>31855</td>\n",
       "      <td>6243090</td>\n",
       "    </tr>\n",
       "    <tr>\n",
       "      <th>2022-07-25</th>\n",
       "      <td>31980</td>\n",
       "      <td>4950143</td>\n",
       "    </tr>\n",
       "    <tr>\n",
       "      <th>2022-07-26</th>\n",
       "      <td>32095</td>\n",
       "      <td>2281501</td>\n",
       "    </tr>\n",
       "  </tbody>\n",
       "</table>\n",
       "</div>"
      ],
      "text/plain": [
       "               종가       거래량\n",
       "일자                         \n",
       "2022-06-24  31285  10451953\n",
       "2022-06-27  31685   8572714\n",
       "2022-06-28  31930   6746503\n",
       "2022-06-29  31395   6177527\n",
       "2022-06-30  30875   7940411\n",
       "2022-07-01  30560   6240988\n",
       "2022-07-04  30570   8932236\n",
       "2022-07-05  31055   7245145\n",
       "2022-07-06  30350   9116536\n",
       "2022-07-07  30960   6746537\n",
       "2022-07-08  31130   8836853\n",
       "2022-07-11  30955   6570561\n",
       "2022-07-12  30660   5551637\n",
       "2022-07-13  30820   6840518\n",
       "2022-07-14  30710   5896627\n",
       "2022-07-15  30895   7255044\n",
       "2022-07-18  31580   7193533\n",
       "2022-07-19  31475   4685922\n",
       "2022-07-20  31710   6810248\n",
       "2022-07-21  32055   5550883\n",
       "2022-07-22  31855   6243090\n",
       "2022-07-25  31980   4950143\n",
       "2022-07-26  32095   2281501"
      ]
     },
     "execution_count": 106,
     "metadata": {},
     "output_type": "execute_result"
    }
   ],
   "source": [
    "# 최종 데이터프레임의 이름은 'df' \n",
    "df = frame.drop(columns=['시가','고가','저가','대비','등락률','순자산가치(NAV)','거래대금','시가총액','순자산총액','상장좌수','기초지수_지수명','기초지수_종가','기초지수_대비','기초지수_등락률','월별'], axis=1)\n",
    "df"
   ]
  },
  {
   "cell_type": "markdown",
   "id": "4cc3c9eb",
   "metadata": {},
   "source": [
    "### 데이터 전처리"
   ]
  },
  {
   "cell_type": "code",
   "execution_count": 107,
   "id": "494973d2",
   "metadata": {
    "ExecuteTime": {
     "end_time": "2022-07-31T12:36:34.693874Z",
     "start_time": "2022-07-31T12:36:34.668943Z"
    }
   },
   "outputs": [
    {
     "data": {
      "text/plain": [
       "array([[0.53581662, 1.        ],\n",
       "       [0.76504298, 0.76999571],\n",
       "       [0.90544413, 0.54648164],\n",
       "       [0.59885387, 0.47684339],\n",
       "       [0.3008596 , 0.69260672],\n",
       "       [0.12034384, 0.48461052],\n",
       "       [0.1260745 , 0.81399842],\n",
       "       [0.40401146, 0.60751156],\n",
       "       [0.        , 0.83655531],\n",
       "       [0.3495702 , 0.5464858 ],\n",
       "       [0.4469914 , 0.80232428],\n",
       "       [0.34670487, 0.5249477 ],\n",
       "       [0.17765043, 0.4002393 ],\n",
       "       [0.26934097, 0.55798835],\n",
       "       [0.20630372, 0.4424634 ],\n",
       "       [0.31232092, 0.60872312],\n",
       "       [0.70487106, 0.60119465],\n",
       "       [0.64469914, 0.2942825 ],\n",
       "       [0.77936963, 0.55428353],\n",
       "       [0.97707736, 0.40014702],\n",
       "       [0.86246418, 0.48486779],\n",
       "       [0.93409742, 0.3266211 ],\n",
       "       [1.        , 0.        ]])"
      ]
     },
     "execution_count": 107,
     "metadata": {},
     "output_type": "execute_result"
    }
   ],
   "source": [
    "from sklearn.preprocessing import MinMaxScaler\n",
    "\n",
    "scaler = MinMaxScaler()\n",
    "# 스케일을 적용할 column을 정의\n",
    "scale_cols = ['종가','거래량']\n",
    "# 스케일 후 columns\n",
    "scaled = scaler.fit_transform(df[scale_cols])\n",
    "scaled"
   ]
  },
  {
   "cell_type": "markdown",
   "id": "5bbcb5f9",
   "metadata": {
    "ExecuteTime": {
     "end_time": "2022-07-31T12:06:14.770568Z",
     "start_time": "2022-07-31T12:06:14.756606Z"
    }
   },
   "source": [
    "df = pd.DataFrame(scaled, columns=scale_cols)"
   ]
  },
  {
   "cell_type": "code",
   "execution_count": 110,
   "id": "d8688026",
   "metadata": {
    "ExecuteTime": {
     "end_time": "2022-07-31T12:40:06.344602Z",
     "start_time": "2022-07-31T12:40:06.320667Z"
    }
   },
   "outputs": [
    {
     "data": {
      "text/plain": [
       "23"
      ]
     },
     "execution_count": 110,
     "metadata": {},
     "output_type": "execute_result"
    }
   ],
   "source": [
    "len(df)"
   ]
  },
  {
   "cell_type": "markdown",
   "id": "67fd0640",
   "metadata": {
    "ExecuteTime": {
     "end_time": "2022-07-31T12:34:41.742540Z",
     "start_time": "2022-07-31T12:34:41.728587Z"
    }
   },
   "source": [
    "### 학습용 데이터 생성"
   ]
  },
  {
   "cell_type": "code",
   "execution_count": 113,
   "id": "0bbf1ea6",
   "metadata": {
    "ExecuteTime": {
     "end_time": "2022-07-31T12:47:57.708054Z",
     "start_time": "2022-07-31T12:47:57.676110Z"
    }
   },
   "outputs": [
    {
     "ename": "AttributeError",
     "evalue": "'list' object has no attribute 'accend'",
     "output_type": "error",
     "traceback": [
      "\u001b[1;31m---------------------------------------------------------------------------\u001b[0m",
      "\u001b[1;31mAttributeError\u001b[0m                            Traceback (most recent call last)",
      "Input \u001b[1;32mIn [113]\u001b[0m, in \u001b[0;36m<cell line: 6>\u001b[1;34m()\u001b[0m\n\u001b[0;32m      4\u001b[0m y \u001b[38;5;241m=\u001b[39m []\n\u001b[0;32m      6\u001b[0m \u001b[38;5;28;01mfor\u001b[39;00m i \u001b[38;5;129;01min\u001b[39;00m \u001b[38;5;28mrange\u001b[39m(\u001b[38;5;28mlen\u001b[39m(df)\u001b[38;5;241m-\u001b[39mlookback):\n\u001b[1;32m----> 7\u001b[0m     \u001b[43mx\u001b[49m\u001b[38;5;241;43m.\u001b[39;49m\u001b[43maccend\u001b[49m(df[i:i\u001b[38;5;241m*\u001b[39mlookback])\n\u001b[0;32m      8\u001b[0m     y\u001b[38;5;241m.\u001b[39maccendd(df[i\u001b[38;5;241m*\u001b[39mlookback,[i]])\n",
      "\u001b[1;31mAttributeError\u001b[0m: 'list' object has no attribute 'accend'"
     ]
    }
   ],
   "source": [
    "lookback = 3\n",
    "\n",
    "x = []\n",
    "y = []\n",
    "\n",
    "for i in range(len(df)-lookback):\n",
    "    x.accend(df[i:i*lookback])\n",
    "    y.accendd(df[i*lookback,[i]])"
   ]
  },
  {
   "cell_type": "markdown",
   "id": "db3fa7c7",
   "metadata": {},
   "source": [
    "### 시계열 데이터의 데이터셋 분리"
   ]
  },
  {
   "cell_type": "code",
   "execution_count": 76,
   "id": "cc138805",
   "metadata": {
    "ExecuteTime": {
     "end_time": "2022-07-31T12:08:07.736785Z",
     "start_time": "2022-07-31T12:08:07.709858Z"
    }
   },
   "outputs": [
    {
     "name": "stderr",
     "output_type": "stream",
     "text": [
      "C:\\Users\\user\\AppData\\Local\\Temp\\ipykernel_33216\\1908967008.py:2: FutureWarning: In a future version of pandas all arguments of DataFrame.drop except for the argument 'labels' will be keyword-only.\n",
      "  x_train,x_test,y_train,y_test = train_test_split(df.drop('종가',1), df['종가'], test_size=0.2, random_state=0, shuffle=False)\n"
     ]
    },
    {
     "data": {
      "text/plain": [
       "((18, 1), (18,))"
      ]
     },
     "execution_count": 76,
     "metadata": {},
     "output_type": "execute_result"
    }
   ],
   "source": [
    "from sklearn.model_selection import train_test_split\n",
    "x_train,x_test,y_train,y_test = train_test_split(df.drop('종가',1), df['종가'], test_size=0.2, random_state=0, shuffle=False)\n",
    "x_train.shape, y_train.shape"
   ]
  },
  {
   "cell_type": "markdown",
   "id": "a1227646",
   "metadata": {},
   "source": [
    "### Tensorflow Dataset을 활용한 시퀀스 데이터셋 구성"
   ]
  },
  {
   "cell_type": "code",
   "execution_count": 77,
   "id": "15f61b45",
   "metadata": {
    "ExecuteTime": {
     "end_time": "2022-07-31T12:08:25.868904Z",
     "start_time": "2022-07-31T12:08:25.852948Z"
    }
   },
   "outputs": [],
   "source": [
    "import tensorflow as tf"
   ]
  },
  {
   "cell_type": "code",
   "execution_count": 78,
   "id": "13557584",
   "metadata": {
    "ExecuteTime": {
     "end_time": "2022-07-31T12:08:26.465775Z",
     "start_time": "2022-07-31T12:08:26.443833Z"
    }
   },
   "outputs": [],
   "source": [
    "def windowed_dataset(series, window_size, batch_size, shuffle):\n",
    "    series = tf.expand_dims(series, axis=-1)\n",
    "    ds = tf.data.Dataset.from_tensor_slices(series)\n",
    "    ds = ds.window(window_size + 1, shift=1, drop_remainder=True)\n",
    "    ds = ds.flat_map(lambda w: w.batch(window_size + 1))\n",
    "    if shuffle:\n",
    "        ds = ds.shuffle(1000)\n",
    "    ds = ds.map(lambda w: (w[:-1], w[-1]))\n",
    "    return ds.batch(batch_size).prefetch(1)"
   ]
  },
  {
   "cell_type": "code",
   "execution_count": 79,
   "id": "ae5164f9",
   "metadata": {
    "ExecuteTime": {
     "end_time": "2022-07-31T12:08:27.903426Z",
     "start_time": "2022-07-31T12:08:27.895452Z"
    }
   },
   "outputs": [],
   "source": [
    "WINDOW_SIZE=20\n",
    "BATCH_SIZE=20"
   ]
  },
  {
   "cell_type": "code",
   "execution_count": 80,
   "id": "2b894a12",
   "metadata": {
    "ExecuteTime": {
     "end_time": "2022-07-31T12:08:31.751994Z",
     "start_time": "2022-07-31T12:08:31.668879Z"
    }
   },
   "outputs": [],
   "source": [
    "# trian_data는 학습용 데이터셋, test_data는 검증용 데이터셋 입니다.\n",
    "train_data = windowed_dataset(y_train, WINDOW_SIZE, BATCH_SIZE, True)\n",
    "test_data = windowed_dataset(y_test, WINDOW_SIZE, BATCH_SIZE, False)"
   ]
  },
  {
   "cell_type": "code",
   "execution_count": 81,
   "id": "0aaf5073",
   "metadata": {
    "ExecuteTime": {
     "end_time": "2022-07-31T12:08:32.456229Z",
     "start_time": "2022-07-31T12:08:32.415249Z"
    }
   },
   "outputs": [],
   "source": [
    "# 아래의 코드로 데이터셋의 구성을 확인해 볼 수 있습니다.\n",
    "# X: (batch_size, window_size, feature)\n",
    "# Y: (batch_size, feature)\n",
    "for data in train_data.take(1):\n",
    "    print(f'데이터셋(X) 구성(batch_size, window_size, feature갯수): {data[0].shape}')\n",
    "    print(f'데이터셋(Y) 구성(batch_size, window_size, feature갯수): {data[1].shape}')"
   ]
  },
  {
   "cell_type": "markdown",
   "id": "f40e924c",
   "metadata": {},
   "source": [
    "### 모델"
   ]
  },
  {
   "cell_type": "code",
   "execution_count": 99,
   "id": "01ec2488",
   "metadata": {
    "ExecuteTime": {
     "end_time": "2022-07-31T12:17:18.010096Z",
     "start_time": "2022-07-31T12:17:17.976184Z"
    }
   },
   "outputs": [
    {
     "ename": "AttributeError",
     "evalue": "'PrefetchDataset' object has no attribute 'shape'",
     "output_type": "error",
     "traceback": [
      "\u001b[1;31m---------------------------------------------------------------------------\u001b[0m",
      "\u001b[1;31mAttributeError\u001b[0m                            Traceback (most recent call last)",
      "Input \u001b[1;32mIn [99]\u001b[0m, in \u001b[0;36m<cell line: 7>\u001b[1;34m()\u001b[0m\n\u001b[0;32m      4\u001b[0m \u001b[38;5;28;01mfrom\u001b[39;00m \u001b[38;5;21;01mkeras\u001b[39;00m\u001b[38;5;21;01m.\u001b[39;00m\u001b[38;5;21;01mlayers\u001b[39;00m \u001b[38;5;28;01mimport\u001b[39;00m LSTM\n\u001b[0;32m      6\u001b[0m model \u001b[38;5;241m=\u001b[39m Sequential()\n\u001b[0;32m      7\u001b[0m model\u001b[38;5;241m.\u001b[39madd(LSTM(\u001b[38;5;241m16\u001b[39m, \n\u001b[1;32m----> 8\u001b[0m                input_shape\u001b[38;5;241m=\u001b[39m(\u001b[43mtrain_data\u001b[49m\u001b[38;5;241;43m.\u001b[39;49m\u001b[43mshape\u001b[49m[\u001b[38;5;241m1\u001b[39m], test_data\u001b[38;5;241m.\u001b[39mshape[\u001b[38;5;241m2\u001b[39m]), \n\u001b[0;32m      9\u001b[0m                activation\u001b[38;5;241m=\u001b[39m\u001b[38;5;124m'\u001b[39m\u001b[38;5;124mrelu\u001b[39m\u001b[38;5;124m'\u001b[39m, \n\u001b[0;32m     10\u001b[0m                return_sequences\u001b[38;5;241m=\u001b[39m\u001b[38;5;28;01mFalse\u001b[39;00m)\n\u001b[0;32m     11\u001b[0m           )\n\u001b[0;32m     13\u001b[0m model\u001b[38;5;241m.\u001b[39madd(Dense(\u001b[38;5;241m1\u001b[39m))\n",
      "\u001b[1;31mAttributeError\u001b[0m: 'PrefetchDataset' object has no attribute 'shape'"
     ]
    }
   ],
   "source": [
    "from keras.models import Sequential\n",
    "from keras.layers import Dense\n",
    "from keras.callbacks import EarlyStopping, ModelCheckpoint\n",
    "from keras.layers import LSTM\n",
    "\n",
    "model = Sequential()\n",
    "model.add(LSTM(16, \n",
    "               input_shape=(train_data.shape[1], test_data.shape[2]), \n",
    "               activation='relu', \n",
    "               return_sequences=False)\n",
    "          )\n",
    "\n",
    "model.add(Dense(1))"
   ]
  },
  {
   "cell_type": "code",
   "execution_count": 93,
   "id": "2dac970a",
   "metadata": {
    "ExecuteTime": {
     "end_time": "2022-07-31T12:13:37.117303Z",
     "start_time": "2022-07-31T12:13:37.107332Z"
    }
   },
   "outputs": [],
   "source": [
    "# Sequence 학습에 비교적 좋은 퍼포먼스를 내는 Huber()를 사용합니다.\n",
    "loss = Huber()\n",
    "optimizer = Adam(0.0005)\n",
    "model.compile(loss=Huber(), optimizer=optimizer, metrics=['mse'])"
   ]
  },
  {
   "cell_type": "code",
   "execution_count": 94,
   "id": "a6faa609",
   "metadata": {
    "ExecuteTime": {
     "end_time": "2022-07-31T12:13:37.832710Z",
     "start_time": "2022-07-31T12:13:37.825728Z"
    }
   },
   "outputs": [],
   "source": [
    "# earlystopping은 10번 epoch통안 val_loss 개선이 없다면 학습을 멈춥니다.\n",
    "earlystopping = EarlyStopping(monitor='val_loss', patience=10)\n",
    "# val_loss 기준 체크포인터도 생성합니다.\n",
    "filename = os.path.join('tmp', 'ckeckpointer.ckpt')\n",
    "checkpoint = ModelCheckpoint(filename, \n",
    "                             save_weights_only=True, \n",
    "                             save_best_only=True, \n",
    "                             monitor='val_loss', \n",
    "                             verbose=1)\n"
   ]
  },
  {
   "cell_type": "code",
   "execution_count": 97,
   "id": "eec7d8d6",
   "metadata": {
    "ExecuteTime": {
     "end_time": "2022-07-31T12:14:42.375252Z",
     "start_time": "2022-07-31T12:14:42.309424Z"
    }
   },
   "outputs": [
    {
     "ename": "ValueError",
     "evalue": "`y` argument is not supported when using dataset as input.",
     "output_type": "error",
     "traceback": [
      "\u001b[1;31m---------------------------------------------------------------------------\u001b[0m",
      "\u001b[1;31mValueError\u001b[0m                                Traceback (most recent call last)",
      "Input \u001b[1;32mIn [97]\u001b[0m, in \u001b[0;36m<cell line: 1>\u001b[1;34m()\u001b[0m\n\u001b[1;32m----> 1\u001b[0m \u001b[43mmodel\u001b[49m\u001b[38;5;241;43m.\u001b[39;49m\u001b[43mfit\u001b[49m\u001b[43m(\u001b[49m\u001b[43mtrain_data\u001b[49m\u001b[43m,\u001b[49m\u001b[43mtest_data\u001b[49m\u001b[43m,\u001b[49m\u001b[43m \u001b[49m\u001b[43mbatch_size\u001b[49m\u001b[38;5;241;43m=\u001b[39;49m\u001b[38;5;241;43m32\u001b[39;49m\u001b[43m,\u001b[49m\u001b[43m \u001b[49m\u001b[43mepochs\u001b[49m\u001b[38;5;241;43m=\u001b[39;49m\u001b[38;5;241;43m10\u001b[39;49m\u001b[43m)\u001b[49m\n",
      "File \u001b[1;32m~\\AppData\\Local\\Programs\\Python\\Python39\\lib\\site-packages\\keras\\utils\\traceback_utils.py:67\u001b[0m, in \u001b[0;36mfilter_traceback.<locals>.error_handler\u001b[1;34m(*args, **kwargs)\u001b[0m\n\u001b[0;32m     65\u001b[0m \u001b[38;5;28;01mexcept\u001b[39;00m \u001b[38;5;167;01mException\u001b[39;00m \u001b[38;5;28;01mas\u001b[39;00m e:  \u001b[38;5;66;03m# pylint: disable=broad-except\u001b[39;00m\n\u001b[0;32m     66\u001b[0m   filtered_tb \u001b[38;5;241m=\u001b[39m _process_traceback_frames(e\u001b[38;5;241m.\u001b[39m__traceback__)\n\u001b[1;32m---> 67\u001b[0m   \u001b[38;5;28;01mraise\u001b[39;00m e\u001b[38;5;241m.\u001b[39mwith_traceback(filtered_tb) \u001b[38;5;28;01mfrom\u001b[39;00m \u001b[38;5;28mNone\u001b[39m\n\u001b[0;32m     68\u001b[0m \u001b[38;5;28;01mfinally\u001b[39;00m:\n\u001b[0;32m     69\u001b[0m   \u001b[38;5;28;01mdel\u001b[39;00m filtered_tb\n",
      "File \u001b[1;32m~\\AppData\\Local\\Programs\\Python\\Python39\\lib\\site-packages\\keras\\engine\\data_adapter.py:747\u001b[0m, in \u001b[0;36mDatasetAdapter._validate_args\u001b[1;34m(self, y, sample_weights, steps)\u001b[0m\n\u001b[0;32m    745\u001b[0m \u001b[38;5;66;03m# Arguments that shouldn't be passed.\u001b[39;00m\n\u001b[0;32m    746\u001b[0m \u001b[38;5;28;01mif\u001b[39;00m \u001b[38;5;129;01mnot\u001b[39;00m is_none_or_empty(y):\n\u001b[1;32m--> 747\u001b[0m   \u001b[38;5;28;01mraise\u001b[39;00m \u001b[38;5;167;01mValueError\u001b[39;00m(\u001b[38;5;124m\"\u001b[39m\u001b[38;5;124m`y` argument is not supported when using \u001b[39m\u001b[38;5;124m\"\u001b[39m\n\u001b[0;32m    748\u001b[0m                    \u001b[38;5;124m\"\u001b[39m\u001b[38;5;124mdataset as input.\u001b[39m\u001b[38;5;124m\"\u001b[39m)\n\u001b[0;32m    749\u001b[0m \u001b[38;5;28;01mif\u001b[39;00m \u001b[38;5;129;01mnot\u001b[39;00m is_none_or_empty(sample_weights):\n\u001b[0;32m    750\u001b[0m   \u001b[38;5;28;01mraise\u001b[39;00m \u001b[38;5;167;01mValueError\u001b[39;00m(\u001b[38;5;124m\"\u001b[39m\u001b[38;5;124m`sample_weight` argument is not supported when using \u001b[39m\u001b[38;5;124m\"\u001b[39m\n\u001b[0;32m    751\u001b[0m                    \u001b[38;5;124m\"\u001b[39m\u001b[38;5;124mdataset as input.\u001b[39m\u001b[38;5;124m\"\u001b[39m)\n",
      "\u001b[1;31mValueError\u001b[0m: `y` argument is not supported when using dataset as input."
     ]
    }
   ],
   "source": [
    "model.fit(train_data,test_data, batch_size=32, epochs=10)"
   ]
  },
  {
   "cell_type": "code",
   "execution_count": 95,
   "id": "f02117f7",
   "metadata": {
    "ExecuteTime": {
     "end_time": "2022-07-31T12:13:40.157031Z",
     "start_time": "2022-07-31T12:13:38.576958Z"
    }
   },
   "outputs": [
    {
     "name": "stdout",
     "output_type": "stream",
     "text": [
      "Epoch 1/1000\n"
     ]
    },
    {
     "ename": "ValueError",
     "evalue": "Unexpected result of `train_function` (Empty logs). Please use `Model.compile(..., run_eagerly=True)`, or `tf.config.run_functions_eagerly(True)` for more information of where went wrong, or file a issue/bug to `tf.keras`.",
     "output_type": "error",
     "traceback": [
      "\u001b[1;31m---------------------------------------------------------------------------\u001b[0m",
      "\u001b[1;31mValueError\u001b[0m                                Traceback (most recent call last)",
      "Input \u001b[1;32mIn [95]\u001b[0m, in \u001b[0;36m<cell line: 1>\u001b[1;34m()\u001b[0m\n\u001b[1;32m----> 1\u001b[0m history \u001b[38;5;241m=\u001b[39m \u001b[43mmodel\u001b[49m\u001b[38;5;241;43m.\u001b[39;49m\u001b[43mfit\u001b[49m\u001b[43m(\u001b[49m\u001b[43mtrain_data\u001b[49m\u001b[43m,\u001b[49m\u001b[43m \u001b[49m\n\u001b[0;32m      2\u001b[0m \u001b[43m                    \u001b[49m\u001b[43mvalidation_data\u001b[49m\u001b[38;5;241;43m=\u001b[39;49m\u001b[43m(\u001b[49m\u001b[43mtest_data\u001b[49m\u001b[43m)\u001b[49m\u001b[43m,\u001b[49m\u001b[43m \u001b[49m\n\u001b[0;32m      3\u001b[0m \u001b[43m                    \u001b[49m\u001b[43mepochs\u001b[49m\u001b[38;5;241;43m=\u001b[39;49m\u001b[38;5;241;43m1000\u001b[39;49m\u001b[43m,\u001b[49m\u001b[43m \u001b[49m\n\u001b[0;32m      4\u001b[0m \u001b[43m                    \u001b[49m\u001b[43mcallbacks\u001b[49m\u001b[38;5;241;43m=\u001b[39;49m\u001b[43m[\u001b[49m\u001b[43mcheckpoint\u001b[49m\u001b[43m,\u001b[49m\u001b[43m \u001b[49m\u001b[43mearlystopping\u001b[49m\u001b[43m]\u001b[49m\u001b[43m)\u001b[49m\n",
      "File \u001b[1;32m~\\AppData\\Local\\Programs\\Python\\Python39\\lib\\site-packages\\keras\\utils\\traceback_utils.py:67\u001b[0m, in \u001b[0;36mfilter_traceback.<locals>.error_handler\u001b[1;34m(*args, **kwargs)\u001b[0m\n\u001b[0;32m     65\u001b[0m \u001b[38;5;28;01mexcept\u001b[39;00m \u001b[38;5;167;01mException\u001b[39;00m \u001b[38;5;28;01mas\u001b[39;00m e:  \u001b[38;5;66;03m# pylint: disable=broad-except\u001b[39;00m\n\u001b[0;32m     66\u001b[0m   filtered_tb \u001b[38;5;241m=\u001b[39m _process_traceback_frames(e\u001b[38;5;241m.\u001b[39m__traceback__)\n\u001b[1;32m---> 67\u001b[0m   \u001b[38;5;28;01mraise\u001b[39;00m e\u001b[38;5;241m.\u001b[39mwith_traceback(filtered_tb) \u001b[38;5;28;01mfrom\u001b[39;00m \u001b[38;5;28mNone\u001b[39m\n\u001b[0;32m     68\u001b[0m \u001b[38;5;28;01mfinally\u001b[39;00m:\n\u001b[0;32m     69\u001b[0m   \u001b[38;5;28;01mdel\u001b[39;00m filtered_tb\n",
      "File \u001b[1;32m~\\AppData\\Local\\Programs\\Python\\Python39\\lib\\site-packages\\keras\\engine\\training.py:1420\u001b[0m, in \u001b[0;36mModel.fit\u001b[1;34m(self, x, y, batch_size, epochs, verbose, callbacks, validation_split, validation_data, shuffle, class_weight, sample_weight, initial_epoch, steps_per_epoch, validation_steps, validation_batch_size, validation_freq, max_queue_size, workers, use_multiprocessing)\u001b[0m\n\u001b[0;32m   1418\u001b[0m logs \u001b[38;5;241m=\u001b[39m tf_utils\u001b[38;5;241m.\u001b[39msync_to_numpy_or_python_type(logs)\n\u001b[0;32m   1419\u001b[0m \u001b[38;5;28;01mif\u001b[39;00m logs \u001b[38;5;129;01mis\u001b[39;00m \u001b[38;5;28;01mNone\u001b[39;00m:\n\u001b[1;32m-> 1420\u001b[0m   \u001b[38;5;28;01mraise\u001b[39;00m \u001b[38;5;167;01mValueError\u001b[39;00m(\u001b[38;5;124m'\u001b[39m\u001b[38;5;124mUnexpected result of `train_function` \u001b[39m\u001b[38;5;124m'\u001b[39m\n\u001b[0;32m   1421\u001b[0m                    \u001b[38;5;124m'\u001b[39m\u001b[38;5;124m(Empty logs). Please use \u001b[39m\u001b[38;5;124m'\u001b[39m\n\u001b[0;32m   1422\u001b[0m                    \u001b[38;5;124m'\u001b[39m\u001b[38;5;124m`Model.compile(..., run_eagerly=True)`, or \u001b[39m\u001b[38;5;124m'\u001b[39m\n\u001b[0;32m   1423\u001b[0m                    \u001b[38;5;124m'\u001b[39m\u001b[38;5;124m`tf.config.run_functions_eagerly(True)` for more \u001b[39m\u001b[38;5;124m'\u001b[39m\n\u001b[0;32m   1424\u001b[0m                    \u001b[38;5;124m'\u001b[39m\u001b[38;5;124minformation of where went wrong, or file a \u001b[39m\u001b[38;5;124m'\u001b[39m\n\u001b[0;32m   1425\u001b[0m                    \u001b[38;5;124m'\u001b[39m\u001b[38;5;124missue/bug to `tf.keras`.\u001b[39m\u001b[38;5;124m'\u001b[39m)\n\u001b[0;32m   1426\u001b[0m epoch_logs \u001b[38;5;241m=\u001b[39m copy\u001b[38;5;241m.\u001b[39mcopy(logs)\n\u001b[0;32m   1428\u001b[0m \u001b[38;5;66;03m# Run validation.\u001b[39;00m\n",
      "\u001b[1;31mValueError\u001b[0m: Unexpected result of `train_function` (Empty logs). Please use `Model.compile(..., run_eagerly=True)`, or `tf.config.run_functions_eagerly(True)` for more information of where went wrong, or file a issue/bug to `tf.keras`."
     ]
    }
   ],
   "source": [
    "history = model.fit(train_data, \n",
    "                    validation_data=(test_data), \n",
    "                    epochs=1000, \n",
    "                    callbacks=[checkpoint, earlystopping])"
   ]
  },
  {
   "cell_type": "code",
   "execution_count": null,
   "id": "da2be41a",
   "metadata": {
    "ExecuteTime": {
     "end_time": "2022-07-31T11:48:30.577680Z",
     "start_time": "2022-07-31T11:48:30.577680Z"
    }
   },
   "outputs": [],
   "source": [
    "model.load_weights(filename)"
   ]
  },
  {
   "cell_type": "code",
   "execution_count": null,
   "id": "4a5b2987",
   "metadata": {},
   "outputs": [],
   "source": []
  }
 ],
 "metadata": {
  "kernelspec": {
   "display_name": "Python 3 (ipykernel)",
   "language": "python",
   "name": "python3"
  },
  "language_info": {
   "codemirror_mode": {
    "name": "ipython",
    "version": 3
   },
   "file_extension": ".py",
   "mimetype": "text/x-python",
   "name": "python",
   "nbconvert_exporter": "python",
   "pygments_lexer": "ipython3",
   "version": "3.9.13"
  },
  "toc": {
   "base_numbering": 1,
   "nav_menu": {},
   "number_sections": true,
   "sideBar": true,
   "skip_h1_title": false,
   "title_cell": "Table of Contents",
   "title_sidebar": "Contents",
   "toc_cell": false,
   "toc_position": {},
   "toc_section_display": true,
   "toc_window_display": false
  }
 },
 "nbformat": 4,
 "nbformat_minor": 5
}
