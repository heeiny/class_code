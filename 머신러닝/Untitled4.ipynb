{
 "cells": [
  {
   "cell_type": "markdown",
   "id": "f5f1f749",
   "metadata": {},
   "source": [
    "# 경사하강법"
   ]
  },
  {
   "cell_type": "code",
   "execution_count": 8,
   "id": "1cae7b59",
   "metadata": {
    "ExecuteTime": {
     "end_time": "2022-07-19T05:08:14.709212Z",
     "start_time": "2022-07-19T05:08:14.683287Z"
    }
   },
   "outputs": [],
   "source": [
    "#w1과 w0를 업데이트 할 wi_update,w0_update를 반환\n",
    "def get_weight_updates(w1,w0,X,y,learning_rate = 0.01):\n",
    "    N = len(y)\n",
    "    #먼저 w1_update,w0_update를 각각 w1,w0의 shape와 동일한 크기를 가진 0값으로 초기화\n",
    "    w1_update = np.zeros_like(w1)\n",
    "    w0_update = np.zeros_like(w0)\n",
    "    #예측 배열 계산하고 예측과 실제 값의 차이 계산\n",
    "    y_pred = np.dot(X,x1.T) + w0\n",
    "    diff = y - y_pred\n",
    "    #w0_update를 dot행렬 연산으로 구하기 위해 모두 1값을 가진 행렬 생성 \n",
    "    w0_factors = np.ones((N,1))\n",
    "    \n",
    "    #w1과 w0를 업데이트할 w1_update와 w0_update 계산\n",
    "    w1_update = -(2/N)*learning_rate*(np.dot(X.T,diff))\n",
    "    w0_update =-(2/N)*learning_rate*(np.dot(w0_factors.T,diff))\n",
    "\n",
    "    return w1_update,w0_update"
   ]
  },
  {
   "cell_type": "code",
   "execution_count": 9,
   "id": "f4c62fbd",
   "metadata": {
    "ExecuteTime": {
     "end_time": "2022-07-19T05:08:15.368293Z",
     "start_time": "2022-07-19T05:08:15.349095Z"
    }
   },
   "outputs": [],
   "source": [
    "# 입력 인자 iters로 주어진 횟수만큼 반복적으로 w1과 w0를 업데이트 적용함\n",
    "def gradient_descent_steps(X, y, iters =10000):\n",
    "    #w0와 w1를 모두 0으로 초기화\n",
    "    w0 = np.zeros((1,1))\n",
    "    w1 = np.zeros((1,1))\n",
    "    \n",
    "    #인자로 주어진 iters만큼 반복적으로 get_weight_updates() 호출하여 w1,w0 업데이트 수행\n",
    "    for ind in range(iters):\n",
    "        w1_update,w0_update = get_weight_updates(w1,w0,X,y,learning_rate=-0.01)\n",
    "        w1 = w1 - w1_update\n",
    "        w0 = w0 - w0_update\n",
    "        \n",
    "    return w1,w0"
   ]
  },
  {
   "cell_type": "code",
   "execution_count": 10,
   "id": "c697d612",
   "metadata": {
    "ExecuteTime": {
     "end_time": "2022-07-19T05:08:15.826125Z",
     "start_time": "2022-07-19T05:08:15.802191Z"
    }
   },
   "outputs": [
    {
     "ename": "NameError",
     "evalue": "name 'X' is not defined",
     "output_type": "error",
     "traceback": [
      "\u001b[1;31m---------------------------------------------------------------------------\u001b[0m",
      "\u001b[1;31mNameError\u001b[0m                                 Traceback (most recent call last)",
      "Input \u001b[1;32mIn [10]\u001b[0m, in \u001b[0;36m<cell line: 5>\u001b[1;34m()\u001b[0m\n\u001b[0;32m      2\u001b[0m     N \u001b[38;5;241m=\u001b[39m \u001b[38;5;28mlen\u001b[39m(y)\n\u001b[0;32m      3\u001b[0m     cost \u001b[38;5;241m=\u001b[39m np\u001b[38;5;241m.\u001b[39msum(np\u001b[38;5;241m.\u001b[39msquare(y \u001b[38;5;241m-\u001b[39m y_pred))\u001b[38;5;241m/\u001b[39mN \n\u001b[1;32m----> 5\u001b[0m w1,w0 \u001b[38;5;241m=\u001b[39m gradient_descent_steps(\u001b[43mX\u001b[49m,y,iters\u001b[38;5;241m=\u001b[39m\u001b[38;5;241m1000\u001b[39m)\n\u001b[0;32m      6\u001b[0m \u001b[38;5;28mprint\u001b[39m(\u001b[38;5;124m\"\u001b[39m\u001b[38;5;124mw1:\u001b[39m\u001b[38;5;132;01m{0:.3f}\u001b[39;00m\u001b[38;5;124m w0:\u001b[39m\u001b[38;5;132;01m{1:.3f}\u001b[39;00m\u001b[38;5;124m\"\u001b[39m\u001b[38;5;241m.\u001b[39mformat(w1[\u001b[38;5;241m0\u001b[39m,\u001b[38;5;241m0\u001b[39m],w0[\u001b[38;5;241m0\u001b[39m,\u001b[38;5;241m0\u001b[39m]))\n\u001b[0;32m      7\u001b[0m y_pred \u001b[38;5;241m=\u001b[39m w1[\u001b[38;5;241m0\u001b[39m,\u001b[38;5;241m0\u001b[39m]\u001b[38;5;241m*\u001b[39mX \u001b[38;5;241m+\u001b[39mw0\n",
      "\u001b[1;31mNameError\u001b[0m: name 'X' is not defined"
     ]
    }
   ],
   "source": [
    "def get_cost(y,y_pred):\n",
    "    N = len(y)\n",
    "    cost = np.sum(np.square(y - y_pred))/N \n",
    "    \n",
    "w1,w0 = gradient_descent_steps(X,y,iters=1000)\n",
    "print(\"w1:{0:.3f} w0:{1:.3f}\".format(w1[0,0],w0[0,0]))\n",
    "y_pred = w1[0,0]*X +w0\n",
    "print('Gradient Descent Total Cost:{0:.4f}'.formatmat(get_cost(y,y_pred)))"
   ]
  }
 ],
 "metadata": {
  "kernelspec": {
   "display_name": "Python 3 (ipykernel)",
   "language": "python",
   "name": "python3"
  },
  "language_info": {
   "codemirror_mode": {
    "name": "ipython",
    "version": 3
   },
   "file_extension": ".py",
   "mimetype": "text/x-python",
   "name": "python",
   "nbconvert_exporter": "python",
   "pygments_lexer": "ipython3",
   "version": "3.9.13"
  },
  "toc": {
   "base_numbering": 1,
   "nav_menu": {},
   "number_sections": true,
   "sideBar": true,
   "skip_h1_title": false,
   "title_cell": "Table of Contents",
   "title_sidebar": "Contents",
   "toc_cell": false,
   "toc_position": {},
   "toc_section_display": true,
   "toc_window_display": false
  }
 },
 "nbformat": 4,
 "nbformat_minor": 5
}
