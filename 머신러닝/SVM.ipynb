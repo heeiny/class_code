{
 "cells": [
  {
   "cell_type": "markdown",
   "id": "4df732d1",
   "metadata": {},
   "source": [
    "# sklearn.svm.SVC"
   ]
  },
  {
   "cell_type": "markdown",
   "id": "5d3ae102",
   "metadata": {},
   "source": [
    "#### Cfloat, default=1.0\n",
    "Regularization parameter. The strength of the regularization is inversely proportional to C. Must be strictly positive. The penalty is a squared l2 penalty.\n",
    "\n",
    "#### kernel{‘linear’, ‘poly’, ‘rbf’, ‘sigmoid’, ‘precomputed’} or callable, default=’rbf’\n",
    "Specifies the kernel type to be used in the algorithm. If none is given, ‘rbf’ will be used. If a callable is given it is used to pre-compute the kernel matrix from data matrices; that matrix should be an array of shape (n_samples, n_samples).\n"
   ]
  },
  {
   "cell_type": "code",
   "execution_count": 1,
   "id": "ecc0785c",
   "metadata": {
    "ExecuteTime": {
     "end_time": "2022-07-18T07:32:55.283504Z",
     "start_time": "2022-07-18T07:32:54.477526Z"
    }
   },
   "outputs": [],
   "source": [
    "from sklearn import datasets"
   ]
  },
  {
   "cell_type": "code",
   "execution_count": 3,
   "id": "c2d06c6f",
   "metadata": {
    "ExecuteTime": {
     "end_time": "2022-07-18T07:33:23.041075Z",
     "start_time": "2022-07-18T07:33:23.018137Z"
    }
   },
   "outputs": [],
   "source": [
    "iris = datasets.load_iris()"
   ]
  },
  {
   "cell_type": "code",
   "execution_count": 6,
   "id": "523136e8",
   "metadata": {
    "ExecuteTime": {
     "end_time": "2022-07-18T07:34:19.532442Z",
     "start_time": "2022-07-18T07:34:19.523464Z"
    }
   },
   "outputs": [],
   "source": [
    "X=iris.data\n",
    "y=iris.target"
   ]
  },
  {
   "cell_type": "code",
   "execution_count": 7,
   "id": "4e4513f4",
   "metadata": {
    "ExecuteTime": {
     "end_time": "2022-07-18T07:34:20.438079Z",
     "start_time": "2022-07-18T07:34:20.430098Z"
    }
   },
   "outputs": [],
   "source": [
    "# test_size 조절을 통해 accuracy를 조절\n",
    "\n",
    "from sklearn.model_selection import train_test_split\n",
    "X_train,X_test,y_train,y_test = train_test_split(X,y,test_size=.5)"
   ]
  },
  {
   "cell_type": "code",
   "execution_count": 11,
   "id": "9379f00f",
   "metadata": {
    "ExecuteTime": {
     "end_time": "2022-07-18T07:36:36.489110Z",
     "start_time": "2022-07-18T07:36:36.461901Z"
    }
   },
   "outputs": [
    {
     "name": "stdout",
     "output_type": "stream",
     "text": [
      "[0 0 2 0 0 2 0 0 1 1 1 0 0 1 0 0 0 0 0 2 0 1 2 2 2 0 1 0 1 1 2 1 0 2 0 2 2\n",
      " 2 1 0 2 1 2 2 1 0 2 2 1 2 0 2 2 1 0 2 0 0 2 1 2 0 1 0 0 1 1 2 2 0 2 0 2 1\n",
      " 0]\n",
      "0.9866666666666667\n"
     ]
    }
   ],
   "source": [
    "from sklearn import svm\n",
    "clf=svm.SVC(gamma=0.001,C=100.)\n",
    "clf.fit(X_train,y_train)\n",
    "predictions = clf.predict(X_test)\n",
    "print(y_test)\n",
    "from sklearn.metrics import accuracy_score\n",
    "print(accuracy_score(y_test,predictions))"
   ]
  },
  {
   "cell_type": "code",
   "execution_count": null,
   "id": "98889af1",
   "metadata": {},
   "outputs": [],
   "source": []
  }
 ],
 "metadata": {
  "kernelspec": {
   "display_name": "Python 3 (ipykernel)",
   "language": "python",
   "name": "python3"
  },
  "language_info": {
   "codemirror_mode": {
    "name": "ipython",
    "version": 3
   },
   "file_extension": ".py",
   "mimetype": "text/x-python",
   "name": "python",
   "nbconvert_exporter": "python",
   "pygments_lexer": "ipython3",
   "version": "3.9.13"
  },
  "toc": {
   "base_numbering": 1,
   "nav_menu": {},
   "number_sections": true,
   "sideBar": true,
   "skip_h1_title": false,
   "title_cell": "Table of Contents",
   "title_sidebar": "Contents",
   "toc_cell": false,
   "toc_position": {},
   "toc_section_display": true,
   "toc_window_display": false
  }
 },
 "nbformat": 4,
 "nbformat_minor": 5
}
