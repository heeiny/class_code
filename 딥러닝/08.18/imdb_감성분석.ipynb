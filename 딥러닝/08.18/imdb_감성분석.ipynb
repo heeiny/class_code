{
 "cells": [
  {
   "cell_type": "markdown",
   "metadata": {},
   "source": [
    "#### tensorflow. "
   ]
  },
  {
   "cell_type": "code",
   "execution_count": 2,
   "metadata": {},
   "outputs": [],
   "source": [
    "from tensorflow.keras.preprocessing import sequence\n",
    "from tensorflow.keras.models import Sequential\n",
    "from tensorflow.keras.layers import Dense,Dropout,Activation\n",
    "from tensorflow.keras.layers import Embedding\n",
    "from tensorflow.keras.layers import LSTM\n",
    "from tensorflow.keras.layers import Conv1D,MaxPooling1D\n",
    "from tensorflow.keras.datasets import imdb\n",
    "\n",
    "import numpy\n",
    "import tensorflow as tf\n",
    "import matplotlib.pyplot as plt"
   ]
  },
  {
   "cell_type": "code",
   "execution_count": 3,
   "metadata": {},
   "outputs": [],
   "source": [
    "# seed값 설정\n",
    "seed = 0\n",
    "numpy.random.seed(seed)\n",
    "tf.random.set_seed(3)\n",
    "\n",
    "# 학습셋, 테스트 셋 지정하기\n",
    "(x_train,y_train),(x_test,y_test)= imdb.load_data(num_words=5000)\n",
    "\n",
    "# 데이터 전처리\n",
    "x_train = sequence.pad_sequences(x_train,maxlen=100)\n",
    "x_test = sequence.pad_sequences(x_test,maxlen=100)"
   ]
  },
  {
   "cell_type": "code",
   "execution_count": 6,
   "metadata": {},
   "outputs": [
    {
     "name": "stdout",
     "output_type": "stream",
     "text": [
      "Model: \"sequential_2\"\n",
      "_________________________________________________________________\n",
      " Layer (type)                Output Shape              Param #   \n",
      "=================================================================\n",
      " embedding_2 (Embedding)     (None, None, 100)         500000    \n",
      "                                                                 \n",
      " dropout_2 (Dropout)         (None, None, 100)         0         \n",
      "                                                                 \n",
      " conv1d_1 (Conv1D)           (None, None, 64)          32064     \n",
      "                                                                 \n",
      " max_pooling1d (MaxPooling1D  (None, None, 64)         0         \n",
      " )                                                               \n",
      "                                                                 \n",
      " lstm_1 (LSTM)               (None, 55)                26400     \n",
      "                                                                 \n",
      " dense_1 (Dense)             (None, 1)                 56        \n",
      "                                                                 \n",
      " activation_1 (Activation)   (None, 1)                 0         \n",
      "                                                                 \n",
      "=================================================================\n",
      "Total params: 558,520\n",
      "Trainable params: 558,520\n",
      "Non-trainable params: 0\n",
      "_________________________________________________________________\n"
     ]
    }
   ],
   "source": [
    "model = Sequential()\n",
    "model.add(Embedding(5000,100))\n",
    "model.add(Dropout(0.5))\n",
    "# n by n이 아니니까 마스클르 씌워서 convolution적용. 예) (2,1)\n",
    "# 데이터의 필요없는 작업들을 제거하기 위해서 convolution을 적용하는 것\n",
    "model.add(Conv1D(64,5,padding='valid', activation='relu', strides=1))\n",
    "# pooling\n",
    "model.add(MaxPooling1D(pool_size=4))\n",
    "model.add(LSTM(55))\n",
    "model.add(Dense(1))\n",
    "model.add(Activation('sigmoid'))\n",
    "model.summary()"
   ]
  },
  {
   "cell_type": "code",
   "execution_count": 7,
   "metadata": {},
   "outputs": [
    {
     "name": "stdout",
     "output_type": "stream",
     "text": [
      "Epoch 1/5\n",
      "250/250 [==============================] - 23s 83ms/step - loss: 0.4496 - accuracy: 0.7706 - val_loss: 0.3670 - val_accuracy: 0.8380\n",
      "Epoch 2/5\n",
      "250/250 [==============================] - 23s 91ms/step - loss: 0.2952 - accuracy: 0.8752 - val_loss: 0.3325 - val_accuracy: 0.8550\n",
      "Epoch 3/5\n",
      "250/250 [==============================] - 20s 82ms/step - loss: 0.2555 - accuracy: 0.8944 - val_loss: 0.3340 - val_accuracy: 0.8562\n",
      "Epoch 4/5\n",
      "250/250 [==============================] - 22s 87ms/step - loss: 0.2167 - accuracy: 0.9130 - val_loss: 0.3303 - val_accuracy: 0.8558\n",
      "Epoch 5/5\n",
      "250/250 [==============================] - 34s 138ms/step - loss: 0.1847 - accuracy: 0.9296 - val_loss: 0.3562 - val_accuracy: 0.8531\n",
      "782/782 [==============================] - 11s 13ms/step - loss: 0.3562 - accuracy: 0.8531\n",
      "\n",
      " Test Accuracy: 0.8531\n"
     ]
    },
    {
     "data": {
      "text/plain": [
       "[<matplotlib.lines.Line2D at 0x1d3db47c6a0>]"
      ]
     },
     "execution_count": 7,
     "metadata": {},
     "output_type": "execute_result"
    },
    {
     "data": {
      "image/png": "[encoded data removed]",
      "text/plain": [
       "<Figure size 432x288 with 1 Axes>"
      ]
     },
     "metadata": {
      "needs_background": "light"
     },
     "output_type": "display_data"
    }
   ],
   "source": [
    "# 모델의 컴파일\n",
    "model.compile(loss='binary_crossentropy',\n",
    "              optimizer='adam',\n",
    "              metrics=['accuracy'])\n",
    "\n",
    "# 모델의 실행\n",
    "history = model.fit(x_train, y_train, batch_size=100, \n",
    "                    epochs=5, validation_data=(x_test,y_test))\n",
    "\n",
    "# 테스트 정확도 출력\n",
    "print('\\n Test Accuracy: %.4f' % (model.evaluate(x_test,y_test)[1]))\n",
    "\n",
    "# 테스트 셋의 오차\n",
    "y_vloss = history.history['val_loss']\n",
    "\n",
    "# 학습 셋의 오차\n",
    "y_loss = history.history['loss']\n",
    "\n",
    "# 그래프로 표현\n",
    "x_len = numpy.arange(len(y_loss))\n",
    "plt.plot(x_len, y_vloss, marker='.', c=\"red\", label='Testset_loss')\n",
    "plt.plot(x_len, y_loss, marker='.',c='blue', label=\"Trainset_loss\")"
   ]
  },
  {
   "cell_type": "code",
   "execution_count": null,
   "metadata": {},
   "outputs": [],
   "source": [
    "# 그래프에 그리드를 주고 레이블을 표시 \n",
    "plt.legend(loc='upper right')\n",
    "plt.grid()\n",
    "plt.xlabel('epoch')\n",
    "plt.ylabel('loss')\n",
    "plt.show()"
   ]
  },
  {
   "cell_type": "code",
   "execution_count": null,
   "metadata": {},
   "outputs": [],
   "source": []
  }
 ],
 "metadata": {
  "kernelspec": {
   "display_name": "Python 3.9.13 64-bit",
   "language": "python",
   "name": "python3"
  },
  "language_info": {
   "codemirror_mode": {
    "name": "ipython",
    "version": 3
   },
   "file_extension": ".py",
   "mimetype": "text/x-python",
   "name": "python",
   "nbconvert_exporter": "python",
   "pygments_lexer": "ipython3",
   "version": "3.9.13"
  },
  "orig_nbformat": 4,
  "vscode": {
   "interpreter": {
    "hash": "82ed002fa2d4956f5c6aec99bcefe0f73a9f79882f3c9e2319b14958a5896ac5"
   }
  }
 },
 "nbformat": 4,
 "nbformat_minor": 2
}
