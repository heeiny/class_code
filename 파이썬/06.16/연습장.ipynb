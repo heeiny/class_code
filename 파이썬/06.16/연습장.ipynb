{
 "cells": [
  {
   "cell_type": "code",
   "execution_count": 4,
   "metadata": {},
   "outputs": [
    {
     "name": "stdout",
     "output_type": "stream",
     "text": [
      "len(a):5\n",
      "lend(b):0\n",
      "lend(c):1\n",
      "len(d):5\n"
     ]
    }
   ],
   "source": [
    "a=(1,2,3,4,5)\n",
    "b=()\n",
    "c=(4,)\n",
    "d=('b','1','o','c','k')\n",
    "\n",
    "print(f'len(a):{len(a)}')\n",
    "print(f'lend(b):{len(b)}')\n",
    "print(f'lend(c):{len(c)}')\n",
    "print(f'len(d):{len(d)}')"
   ]
  },
  {
   "cell_type": "code",
   "execution_count": 6,
   "metadata": {},
   "outputs": [
    {
     "name": "stdout",
     "output_type": "stream",
     "text": [
      "t1 * 2 = (1, 2, 1, 2)\n",
      "t2 * 4 = ()\n",
      "t3 * 10 = (10, 10, 10, 10, 10, 10, 10, 10, 10, 10)\n",
      "t4 * 3 = ('a', 'b', 'c', 'a', 'b', 'c', 'a', 'b', 'c')\n"
     ]
    }
   ],
   "source": [
    "t1 = (1,2)\n",
    "t2= ()\n",
    "t3= (10,)\n",
    "t4=('a','b','c')\n",
    "\n",
    "result1= t1 * 2\n",
    "result2= t2 * 4\n",
    "result3 = t3 * 10\n",
    "result4 = t4 * 3\n",
    "\n",
    "print(f't1 * 2 = {result1}')\n",
    "print(f't2 * 4 = {result2}')\n",
    "print(f't3 * 10 = {result3}')\n",
    "print(f't4 * 3 = {result4}')"
   ]
  },
  {
   "cell_type": "code",
   "execution_count": 7,
   "metadata": {},
   "outputs": [
    {
     "name": "stdout",
     "output_type": "stream",
     "text": [
      "1 in t1 is true\n"
     ]
    }
   ],
   "source": [
    "t1 = (1,2)\n",
    "t2 = ()\n",
    "t3 = ('b','1','o','c','k')\n",
    "\n",
    "if 1 in t1:\n",
    "    print('1 in t1 is true')\n",
    "else:\n",
    "    print('1 in t1 is not true')\n"
   ]
  },
  {
   "cell_type": "code",
   "execution_count": 11,
   "metadata": {},
   "outputs": [],
   "source": [
    "import pandas as pd"
   ]
  },
  {
   "cell_type": "code",
   "execution_count": 14,
   "metadata": {},
   "outputs": [
    {
     "data": {
      "text/html": [
       "<div>\n",
       "<style scoped>\n",
       "    .dataframe tbody tr th:only-of-type {\n",
       "        vertical-align: middle;\n",
       "    }\n",
       "\n",
       "    .dataframe tbody tr th {\n",
       "        vertical-align: top;\n",
       "    }\n",
       "\n",
       "    .dataframe thead th {\n",
       "        text-align: right;\n",
       "    }\n",
       "</style>\n",
       "<table border=\"1\" class=\"dataframe\">\n",
       "  <thead>\n",
       "    <tr style=\"text-align: right;\">\n",
       "      <th></th>\n",
       "      <th>A</th>\n",
       "      <th>B</th>\n",
       "      <th>C</th>\n",
       "      <th>D</th>\n",
       "    </tr>\n",
       "  </thead>\n",
       "  <tbody>\n",
       "    <tr>\n",
       "      <th>0</th>\n",
       "      <td>A0</td>\n",
       "      <td>B0</td>\n",
       "      <td>C0</td>\n",
       "      <td>D0</td>\n",
       "    </tr>\n",
       "    <tr>\n",
       "      <th>1</th>\n",
       "      <td>A1</td>\n",
       "      <td>B1</td>\n",
       "      <td>C1</td>\n",
       "      <td>D1</td>\n",
       "    </tr>\n",
       "    <tr>\n",
       "      <th>2</th>\n",
       "      <td>A2</td>\n",
       "      <td>B2</td>\n",
       "      <td>C2</td>\n",
       "      <td>D2</td>\n",
       "    </tr>\n",
       "  </tbody>\n",
       "</table>\n",
       "</div>"
      ],
      "text/plain": [
       "    A   B   C   D\n",
       "0  A0  B0  C0  D0\n",
       "1  A1  B1  C1  D1\n",
       "2  A2  B2  C2  D2"
      ]
     },
     "execution_count": 14,
     "metadata": {},
     "output_type": "execute_result"
    }
   ],
   "source": [
    "df_1 = pd.DataFrame({'A': ['A0', 'A1', 'A2'],\n",
    "'B': ['B0', 'B1', 'B2'],\n",
    "'C': ['C0', 'C1', 'C2'],\n",
    "'D': ['D0', 'D1', 'D2']},\n",
    " index=[0, 1, 2])\n",
    "\n",
    "df_1"
   ]
  },
  {
   "cell_type": "code",
   "execution_count": 16,
   "metadata": {},
   "outputs": [
    {
     "data": {
      "text/plain": [
       "0    S1\n",
       "1    S2\n",
       "2    S3\n",
       "Name: S, dtype: object"
      ]
     },
     "execution_count": 16,
     "metadata": {},
     "output_type": "execute_result"
    }
   ],
   "source": [
    "Series_1 = pd.Series(['S1', 'S2', 'S3'], name='S')\n",
    "Series_1"
   ]
  },
  {
   "cell_type": "code",
   "execution_count": 17,
   "metadata": {},
   "outputs": [
    {
     "data": {
      "text/html": [
       "<div>\n",
       "<style scoped>\n",
       "    .dataframe tbody tr th:only-of-type {\n",
       "        vertical-align: middle;\n",
       "    }\n",
       "\n",
       "    .dataframe tbody tr th {\n",
       "        vertical-align: top;\n",
       "    }\n",
       "\n",
       "    .dataframe thead th {\n",
       "        text-align: right;\n",
       "    }\n",
       "</style>\n",
       "<table border=\"1\" class=\"dataframe\">\n",
       "  <thead>\n",
       "    <tr style=\"text-align: right;\">\n",
       "      <th></th>\n",
       "      <th>A</th>\n",
       "      <th>B</th>\n",
       "      <th>C</th>\n",
       "      <th>D</th>\n",
       "      <th>S</th>\n",
       "    </tr>\n",
       "  </thead>\n",
       "  <tbody>\n",
       "    <tr>\n",
       "      <th>0</th>\n",
       "      <td>A0</td>\n",
       "      <td>B0</td>\n",
       "      <td>C0</td>\n",
       "      <td>D0</td>\n",
       "      <td>S1</td>\n",
       "    </tr>\n",
       "    <tr>\n",
       "      <th>1</th>\n",
       "      <td>A1</td>\n",
       "      <td>B1</td>\n",
       "      <td>C1</td>\n",
       "      <td>D1</td>\n",
       "      <td>S2</td>\n",
       "    </tr>\n",
       "    <tr>\n",
       "      <th>2</th>\n",
       "      <td>A2</td>\n",
       "      <td>B2</td>\n",
       "      <td>C2</td>\n",
       "      <td>D2</td>\n",
       "      <td>S3</td>\n",
       "    </tr>\n",
       "  </tbody>\n",
       "</table>\n",
       "</div>"
      ],
      "text/plain": [
       "    A   B   C   D   S\n",
       "0  A0  B0  C0  D0  S1\n",
       "1  A1  B1  C1  D1  S2\n",
       "2  A2  B2  C2  D2  S3"
      ]
     },
     "execution_count": 17,
     "metadata": {},
     "output_type": "execute_result"
    }
   ],
   "source": [
    "pd.concat([df_1,Series_1],axis=1)"
   ]
  },
  {
   "cell_type": "markdown",
   "metadata": {},
   "source": [
    "Class_1클래스 생성\n",
    "self는 Class의 객체(속성)를 지정하고 self를 통해 속성을 지정"
   ]
  },
  {
   "cell_type": "code",
   "execution_count": 1,
   "metadata": {},
   "outputs": [],
   "source": [
    "class Class_1():\n",
    "    def func_1(self):\n",
    "        print(\"Class_1 Call\")"
   ]
  },
  {
   "cell_type": "code",
   "execution_count": 2,
   "metadata": {},
   "outputs": [],
   "source": [
    "x = Class_1()"
   ]
  },
  {
   "cell_type": "code",
   "execution_count": 3,
   "metadata": {},
   "outputs": [
    {
     "name": "stdout",
     "output_type": "stream",
     "text": [
      "Class_1 Call\n"
     ]
    }
   ],
   "source": [
    "x.func_1() "
   ]
  },
  {
   "cell_type": "code",
   "execution_count": 10,
   "metadata": {},
   "outputs": [
    {
     "name": "stdout",
     "output_type": "stream",
     "text": [
      "test 20\n"
     ]
    }
   ],
   "source": [
    "class Class_2():\n",
    "    def __init__(self,x,y):       #매개변수 self,x,y \n",
    "        self.x = x\n",
    "        self.y = y\n",
    "\n",
    "x = Class_2(\"test\",20)  \n",
    "print(x.x,x.y)    "
   ]
  },
  {
   "cell_type": "code",
   "execution_count": 14,
   "metadata": {},
   "outputs": [],
   "source": [
    "y = Class_2(\"test2\",50)"
   ]
  },
  {
   "cell_type": "code",
   "execution_count": 15,
   "metadata": {},
   "outputs": [
    {
     "name": "stdout",
     "output_type": "stream",
     "text": [
      "test 20 test2 50\n"
     ]
    }
   ],
   "source": [
    "print(x.x, x.y, y.x, y.y)"
   ]
  },
  {
   "cell_type": "code",
   "execution_count": 17,
   "metadata": {},
   "outputs": [],
   "source": [
    "class Class_3():\n",
    "    def __init__(self,input_a,input_b):   ##Class_3을 생성할 때 self,inpu_a,input_b를 매개변수로 하는 인자값이 필요/ self를 제외하고 매개변수 input_a,input_b에 대입함\n",
    "        self.a = input_a\n",
    "        self.b = input_b\n",
    "\n",
    "    def func_1(self):\n",
    "        #func_1()함수 생성->class안에 있는 input_a,input_b를 합쳐서 결과값 return\n",
    "        self.result = self.a + self.b\n",
    "    \n",
    "    def func_1(self):\n",
    "        ##func_1()함수 생성 ->class안에 있는 input_a,input_b를 합쳐서 결과값 return\n",
    "        self.result =self.a + self.b\n",
    "        return self.result"
   ]
  },
  {
   "cell_type": "code",
   "execution_count": 18,
   "metadata": {},
   "outputs": [
    {
     "name": "stdout",
     "output_type": "stream",
     "text": [
      "9 12\n"
     ]
    }
   ],
   "source": [
    "test = Class_3(5,4)\n",
    "\n",
    "test2 = Class_3(10,2) \n",
    "\n",
    "print(test.func_1( ),test2.func_1( ))"
   ]
  },
  {
   "cell_type": "code",
   "execution_count": 23,
   "metadata": {},
   "outputs": [
    {
     "name": "stdout",
     "output_type": "stream",
     "text": [
      "Kim Lee\n",
      "['0102345678', '01098765432'] ['0102345678', '01098765432']\n",
      "Kim\n",
      "['0102345678', '01098765432']\n"
     ]
    }
   ],
   "source": [
    "class Class_4():\n",
    "    list = []\n",
    "    def __init__(self,_name):\n",
    "        self.name = _name\n",
    "    def add_list(self,_phone):\n",
    "        self.list.append(_phone)\n",
    "\n",
    "test = Class_4(\"Kim\")\n",
    "test2 = Class_4(\"Lee\")\n",
    "test.add_list(\"0102345678\")\n",
    "test2.add_list(\"01098765432\")\n",
    "\n",
    "\n",
    "print(test.name,test2.name)\n",
    "\n",
    "#결과값? \n",
    "print(test.list,test2.list)\n",
    "print(test.name)\n",
    "print(test.list)"
   ]
  },
  {
   "cell_type": "markdown",
   "metadata": {},
   "source": []
  },
  {
   "cell_type": "code",
   "execution_count": 1,
   "metadata": {},
   "outputs": [],
   "source": [
    "import pandas as pd"
   ]
  },
  {
   "cell_type": "code",
   "execution_count": null,
   "metadata": {},
   "outputs": [],
   "source": [
    "df1 = pd.DataFrame({'a':['a0','a1','a2','a3']),\n",
    "                    'b':['b0','b1','b2','b3'],\n",
    "                    'c':['c0','c1','c2','c3']}"
   ]
  },
  {
   "cell_type": "code",
   "execution_count": 2,
   "metadata": {},
   "outputs": [
    {
     "ename": "AttributeError",
     "evalue": "module 'pandas' has no attribute 'Sereis'",
     "output_type": "error",
     "traceback": [
      "\u001b[1;31m---------------------------------------------------------------------------\u001b[0m",
      "\u001b[1;31mAttributeError\u001b[0m                            Traceback (most recent call last)",
      "\u001b[1;32mc:\\Users\\user\\Desktop\\금융빅데이터\\2022.06.07\\06\\연습장.ipynb Cell 10'\u001b[0m in \u001b[0;36m<cell line: 3>\u001b[1;34m()\u001b[0m\n\u001b[0;32m      <a href='vscode-notebook-cell:/c%3A/Users/user/Desktop/%EA%B8%88%EC%9C%B5%EB%B9%85%EB%8D%B0%EC%9D%B4%ED%84%B0/2022.06.07/06/%EC%97%B0%EC%8A%B5%EC%9E%A5.ipynb#ch0000009?line=0'>1</a>\u001b[0m sr1 \u001b[39m=\u001b[39m pd\u001b[39m.\u001b[39mSeries([\u001b[39m'\u001b[39m\u001b[39me0\u001b[39m\u001b[39m'\u001b[39m,\u001b[39m'\u001b[39m\u001b[39me1\u001b[39m\u001b[39m'\u001b[39m,\u001b[39m'\u001b[39m\u001b[39me2\u001b[39m\u001b[39m'\u001b[39m,\u001b[39m'\u001b[39m\u001b[39me3\u001b[39m\u001b[39m'\u001b[39m], name \u001b[39m=\u001b[39m \u001b[39m'\u001b[39m\u001b[39me\u001b[39m\u001b[39m'\u001b[39m)\n\u001b[0;32m      <a href='vscode-notebook-cell:/c%3A/Users/user/Desktop/%EA%B8%88%EC%9C%B5%EB%B9%85%EB%8D%B0%EC%9D%B4%ED%84%B0/2022.06.07/06/%EC%97%B0%EC%8A%B5%EC%9E%A5.ipynb#ch0000009?line=1'>2</a>\u001b[0m sr2 \u001b[39m=\u001b[39m pd\u001b[39m.\u001b[39mSeries([\u001b[39m'\u001b[39m\u001b[39mf0\u001b[39m\u001b[39m'\u001b[39m,\u001b[39m'\u001b[39m\u001b[39mf1\u001b[39m\u001b[39m'\u001b[39m,\u001b[39m'\u001b[39m\u001b[39mf2\u001b[39m\u001b[39m'\u001b[39m], name \u001b[39m=\u001b[39m \u001b[39m'\u001b[39m\u001b[39mf\u001b[39m\u001b[39m'\u001b[39m , index \u001b[39m=\u001b[39m [\u001b[39m3\u001b[39m,\u001b[39m4\u001b[39m,\u001b[39m5\u001b[39m])\n\u001b[1;32m----> <a href='vscode-notebook-cell:/c%3A/Users/user/Desktop/%EA%B8%88%EC%9C%B5%EB%B9%85%EB%8D%B0%EC%9D%B4%ED%84%B0/2022.06.07/06/%EC%97%B0%EC%8A%B5%EC%9E%A5.ipynb#ch0000009?line=2'>3</a>\u001b[0m sr3 \u001b[39m=\u001b[39m pd\u001b[39m.\u001b[39;49mSereis([\u001b[39m'\u001b[39m\u001b[39mg0\u001b[39m\u001b[39m'\u001b[39m,\u001b[39m'\u001b[39m\u001b[39mg1\u001b[39m\u001b[39m'\u001b[39m,\u001b[39m'\u001b[39m\u001b[39mg2\u001b[39m\u001b[39m'\u001b[39m,\u001b[39m'\u001b[39m\u001b[39mg3\u001b[39m\u001b[39m'\u001b[39m], name \u001b[39m=\u001b[39m \u001b[39m'\u001b[39m\u001b[39mg\u001b[39m\u001b[39m'\u001b[39m)\n",
      "File \u001b[1;32mc:\\Users\\user\\AppData\\Local\\Programs\\Python\\Python39\\lib\\site-packages\\pandas\\__init__.py:261\u001b[0m, in \u001b[0;36m__getattr__\u001b[1;34m(name)\u001b[0m\n\u001b[0;32m    257\u001b[0m     \u001b[39mfrom\u001b[39;00m \u001b[39mpandas\u001b[39;00m\u001b[39m.\u001b[39;00m\u001b[39mcore\u001b[39;00m\u001b[39m.\u001b[39;00m\u001b[39marrays\u001b[39;00m\u001b[39m.\u001b[39;00m\u001b[39msparse\u001b[39;00m \u001b[39mimport\u001b[39;00m SparseArray \u001b[39mas\u001b[39;00m _SparseArray\n\u001b[0;32m    259\u001b[0m     \u001b[39mreturn\u001b[39;00m _SparseArray\n\u001b[1;32m--> 261\u001b[0m \u001b[39mraise\u001b[39;00m \u001b[39mAttributeError\u001b[39;00m(\u001b[39mf\u001b[39m\u001b[39m\"\u001b[39m\u001b[39mmodule \u001b[39m\u001b[39m'\u001b[39m\u001b[39mpandas\u001b[39m\u001b[39m'\u001b[39m\u001b[39m has no attribute \u001b[39m\u001b[39m'\u001b[39m\u001b[39m{\u001b[39;00mname\u001b[39m}\u001b[39;00m\u001b[39m'\u001b[39m\u001b[39m\"\u001b[39m)\n",
      "\u001b[1;31mAttributeError\u001b[0m: module 'pandas' has no attribute 'Sereis'"
     ]
    }
   ],
   "source": [
    "sr1 = pd.Series(['e0','e1','e2','e3'], name = 'e')\n",
    "sr2 = pd.Series(['f0','f1','f2'], name = 'f' , index = [3,4,5])\n",
    "sr3 = pd.Sereis(['g0','g1','g2','g3'], name = 'g')"
   ]
  }
 ],
 "metadata": {
  "kernelspec": {
   "display_name": "Python 3.9.13 64-bit",
   "language": "python",
   "name": "python3"
  },
  "language_info": {
   "codemirror_mode": {
    "name": "ipython",
    "version": 3
   },
   "file_extension": ".py",
   "mimetype": "text/x-python",
   "name": "python",
   "nbconvert_exporter": "python",
   "pygments_lexer": "ipython3",
   "version": "3.9.13"
  },
  "orig_nbformat": 4,
  "vscode": {
   "interpreter": {
    "hash": "82ed002fa2d4956f5c6aec99bcefe0f73a9f79882f3c9e2319b14958a5896ac5"
   }
  }
 },
 "nbformat": 4,
 "nbformat_minor": 2
}
