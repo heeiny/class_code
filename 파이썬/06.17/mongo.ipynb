{
 "cells": [
  {
   "cell_type": "markdown",
   "metadata": {},
   "source": [
    "## mongoDB\n",
    "#1.mongoDB 사용하려면 라이브러리 pymongo \n",
    "mongoDB의 최대 단점은 용량이 클때 속도가 느림"
   ]
  },
  {
   "cell_type": "code",
   "execution_count": 2,
   "metadata": {},
   "outputs": [],
   "source": [
    "import matplotlib.pyplot as plt\n",
    "import numpy as np"
   ]
  },
  {
   "cell_type": "code",
   "execution_count": 4,
   "metadata": {},
   "outputs": [
    {
     "name": "stdout",
     "output_type": "stream",
     "text": [
      "Collecting pymongo\n",
      "  Downloading pymongo-4.1.1-cp39-cp39-win_amd64.whl (365 kB)\n",
      "     -------------------------------------- 365.3/365.3 KB 7.7 MB/s eta 0:00:00\n",
      "Installing collected packages: pymongo\n",
      "Successfully installed pymongo-4.1.1\n",
      "Note: you may need to restart the kernel to use updated packages.\n"
     ]
    },
    {
     "name": "stderr",
     "output_type": "stream",
     "text": [
      "WARNING: You are using pip version 22.0.4; however, version 22.1.2 is available.\n",
      "You should consider upgrading via the 'c:\\Users\\user\\AppData\\Local\\Programs\\Python\\Python39\\python.exe -m pip install --upgrade pip' command.\n"
     ]
    }
   ],
   "source": [
    "pip install pymongo"
   ]
  },
  {
   "cell_type": "code",
   "execution_count": 6,
   "metadata": {},
   "outputs": [],
   "source": [
    "from pymongo import MongoClient\n",
    "import pprint"
   ]
  },
  {
   "cell_type": "code",
   "execution_count": 8,
   "metadata": {},
   "outputs": [],
   "source": [
    "client = MongoClient(\n",
    "    host = 'localhost',\n",
    "    port = 27017    \n",
    ")"
   ]
  },
  {
   "cell_type": "code",
   "execution_count": 13,
   "metadata": {},
   "outputs": [],
   "source": [
    "# MongoDB Database 목록 출력\n",
    "\n",
    "db = client.list_database_names()"
   ]
  },
  {
   "cell_type": "code",
   "execution_count": 17,
   "metadata": {},
   "outputs": [],
   "source": [
    "# 콜렉션(데이터베이스) 접근\n",
    "\n",
    "db = client[\"ubion\"]"
   ]
  },
  {
   "cell_type": "code",
   "execution_count": 16,
   "metadata": {},
   "outputs": [],
   "source": [
    "# 콜렉션 접근 \n",
    "\n",
    "collection = db[\"test\"]"
   ]
  },
  {
   "cell_type": "code",
   "execution_count": 18,
   "metadata": {},
   "outputs": [
    {
     "data": {
      "text/plain": [
       "{'_id': ObjectId('62ac05fb152517ab3e26765c'),\n",
       " 'loc': 'NewYork',\n",
       " 'deptno': 20.0,\n",
       " 'dname': 'sales'}"
      ]
     },
     "execution_count": 18,
     "metadata": {},
     "output_type": "execute_result"
    }
   ],
   "source": [
    "#데이터 확인\n",
    "\n",
    "collection.find_one( )"
   ]
  },
  {
   "cell_type": "code",
   "execution_count": 19,
   "metadata": {},
   "outputs": [
    {
     "data": {
      "text/plain": [
       "<pymongo.cursor.Cursor at 0x1f3464c1b20>"
      ]
     },
     "execution_count": 19,
     "metadata": {},
     "output_type": "execute_result"
    }
   ],
   "source": [
    "collection.find()"
   ]
  },
  {
   "cell_type": "code",
   "execution_count": 20,
   "metadata": {},
   "outputs": [
    {
     "data": {
      "text/plain": [
       "[{'_id': ObjectId('62ac05fb152517ab3e26765c'),\n",
       "  'loc': 'NewYork',\n",
       "  'deptno': 20.0,\n",
       "  'dname': 'sales'},\n",
       " {'_id': ObjectId('62ac07f1152517ab3e26765d'),\n",
       "  'name': 'test2',\n",
       "  'loc': 'Dallas'},\n",
       " {'_id': ObjectId('62ac07f1152517ab3e26765e'), 'ohine': '01098765432'}]"
      ]
     },
     "execution_count": 20,
     "metadata": {},
     "output_type": "execute_result"
    }
   ],
   "source": [
    "list(collection.find())"
   ]
  },
  {
   "cell_type": "code",
   "execution_count": 21,
   "metadata": {},
   "outputs": [
    {
     "data": {
      "text/plain": [
       "[{'_id': ObjectId('62ac07f1152517ab3e26765d'),\n",
       "  'name': 'test2',\n",
       "  'loc': 'Dallas'}]"
      ]
     },
     "execution_count": 21,
     "metadata": {},
     "output_type": "execute_result"
    }
   ],
   "source": [
    "result = list(collection.find({\"name\":\"test2\"}))\n",
    "result"
   ]
  },
  {
   "cell_type": "code",
   "execution_count": 33,
   "metadata": {},
   "outputs": [],
   "source": [
    "# insert\n",
    "data = {\n",
    "    \"name\": \"test\",\n",
    "    \"loc\":\"sinlim\"\n",
    "}\n",
    "_id = collection.insert_one(data).inserted_id"
   ]
  },
  {
   "cell_type": "code",
   "execution_count": 34,
   "metadata": {},
   "outputs": [
    {
     "data": {
      "text/plain": [
       "[{'_id': ObjectId('62ac12c986d92a471863b831'),\n",
       "  'name': 'test',\n",
       "  'loc': 'sinlim'}]"
      ]
     },
     "execution_count": 34,
     "metadata": {},
     "output_type": "execute_result"
    }
   ],
   "source": [
    "list(collection.find({\"_id\":_id}))"
   ]
  },
  {
   "cell_type": "code",
   "execution_count": 36,
   "metadata": {},
   "outputs": [
    {
     "data": {
      "text/plain": [
       "[{'_id': ObjectId('62ac05fb152517ab3e26765c'),\n",
       "  'loc': 'NewYork',\n",
       "  'deptno': 20.0,\n",
       "  'dname': 'sales'},\n",
       " {'_id': ObjectId('62ac07f1152517ab3e26765d'),\n",
       "  'name': 'test2',\n",
       "  'loc': 'Dallas'},\n",
       " {'_id': ObjectId('62ac07f1152517ab3e26765e'), 'ohine': '01098765432'},\n",
       " {'_id': ObjectId('62ac123186d92a471863b82f'),\n",
       "  'name': 'test',\n",
       "  'loc': 'sinlim'},\n",
       " {'_id': ObjectId('62ac127686d92a471863b830'),\n",
       "  'name': 'test',\n",
       "  'loc': 'sinlim'},\n",
       " {'_id': ObjectId('62ac12c986d92a471863b831'),\n",
       "  'name': 'test',\n",
       "  'loc': 'sinlim'}]"
      ]
     },
     "execution_count": 36,
     "metadata": {},
     "output_type": "execute_result"
    }
   ],
   "source": [
    "list(collection.find().sort(\"_id\"))"
   ]
  },
  {
   "cell_type": "code",
   "execution_count": 39,
   "metadata": {},
   "outputs": [
    {
     "data": {
      "text/plain": [
       "<pymongo.results.InsertManyResult at 0x1f3467240a0>"
      ]
     },
     "execution_count": 39,
     "metadata": {},
     "output_type": "execute_result"
    }
   ],
   "source": [
    "## insert_many( )\n",
    "data = [\n",
    "    {\n",
    "        \"phone\" : \"010123435667\",\n",
    "        \"age\" : 30\n",
    "    },\n",
    "    {\n",
    "        \"password\" : \"als2d3\",\n",
    "        \"id\" : \"admin\"\n",
    "    }\n",
    "]\n",
    "\n",
    "collection.insert_many(data)"
   ]
  },
  {
   "cell_type": "code",
   "execution_count": 45,
   "metadata": {},
   "outputs": [
    {
     "data": {
      "text/plain": [
       "<pymongo.results.UpdateResult at 0x1f3466f2bb0>"
      ]
     },
     "execution_count": 45,
     "metadata": {},
     "output_type": "execute_result"
    }
   ],
   "source": [
    "collection.update_many( \n",
    "    {\n",
    "        \"name\" : \"test\"\n",
    "    },\n",
    "    {\n",
    "        \"$set\":{\n",
    "            \"loc\" : \"NewYork\"\n",
    "        }\n",
    "    }\n",
    ")"
   ]
  },
  {
   "cell_type": "code",
   "execution_count": 46,
   "metadata": {},
   "outputs": [
    {
     "data": {
      "text/plain": [
       "[{'_id': ObjectId('62ac123186d92a471863b82f'),\n",
       "  'name': 'test',\n",
       "  'loc': 'NewYork'},\n",
       " {'_id': ObjectId('62ac127686d92a471863b830'),\n",
       "  'name': 'test',\n",
       "  'loc': 'NewYork'},\n",
       " {'_id': ObjectId('62ac12c986d92a471863b831'),\n",
       "  'name': 'test',\n",
       "  'loc': 'NewYork'}]"
      ]
     },
     "execution_count": 46,
     "metadata": {},
     "output_type": "execute_result"
    }
   ],
   "source": [
    "list(collection.find({\"name\":\"test\"}))"
   ]
  },
  {
   "cell_type": "code",
   "execution_count": 47,
   "metadata": {},
   "outputs": [
    {
     "data": {
      "text/plain": [
       "[{'_id': ObjectId('62ac05fb152517ab3e26765c'),\n",
       "  'loc': 'NewYork',\n",
       "  'deptno': 20.0,\n",
       "  'dname': 'sales'},\n",
       " {'_id': ObjectId('62ac07f1152517ab3e26765d'),\n",
       "  'name': 'test2',\n",
       "  'loc': 'Dallas'},\n",
       " {'_id': ObjectId('62ac07f1152517ab3e26765e'), 'ohine': '01098765432'},\n",
       " {'_id': ObjectId('62ac123186d92a471863b82f'),\n",
       "  'name': 'test',\n",
       "  'loc': 'NewYork'},\n",
       " {'_id': ObjectId('62ac127686d92a471863b830'),\n",
       "  'name': 'test',\n",
       "  'loc': 'NewYork'},\n",
       " {'_id': ObjectId('62ac12c986d92a471863b831'),\n",
       "  'name': 'test',\n",
       "  'loc': 'NewYork'},\n",
       " {'_id': ObjectId('62ac13c386d92a471863b832'),\n",
       "  'phone': '010123435667',\n",
       "  'age': 30},\n",
       " {'_id': ObjectId('62ac13c386d92a471863b833'),\n",
       "  'password': 'als2d3',\n",
       "  'id': 'admin'}]"
      ]
     },
     "execution_count": 47,
     "metadata": {},
     "output_type": "execute_result"
    }
   ],
   "source": [
    "list(collection.find())"
   ]
  },
  {
   "cell_type": "code",
   "execution_count": 49,
   "metadata": {},
   "outputs": [
    {
     "data": {
      "text/plain": [
       "<pymongo.results.DeleteResult at 0x1f3466fc3a0>"
      ]
     },
     "execution_count": 49,
     "metadata": {},
     "output_type": "execute_result"
    }
   ],
   "source": [
    "# remove(cmd)였던 document 삭제기능이 pymongo에서는 delete()\n",
    "\n",
    "collection.delete_one(\n",
    "    {\n",
    "        \"name\" : \"test\"\n",
    "    }\n",
    ")"
   ]
  },
  {
   "cell_type": "code",
   "execution_count": 54,
   "metadata": {},
   "outputs": [
    {
     "data": {
      "text/plain": [
       "[]"
      ]
     },
     "execution_count": 54,
     "metadata": {},
     "output_type": "execute_result"
    }
   ],
   "source": [
    "list(collection.find({\n",
    "    \"name\" : \"test\"\n",
    "})\n",
    ")"
   ]
  },
  {
   "cell_type": "code",
   "execution_count": 56,
   "metadata": {},
   "outputs": [
    {
     "data": {
      "text/plain": [
       "<pymongo.results.DeleteResult at 0x1f347d78250>"
      ]
     },
     "execution_count": 56,
     "metadata": {},
     "output_type": "execute_result"
    }
   ],
   "source": [
    "collection.delete_many({\n",
    "    \"name\" : \"test\"\n",
    "})"
   ]
  },
  {
   "cell_type": "code",
   "execution_count": 58,
   "metadata": {},
   "outputs": [
    {
     "data": {
      "text/plain": [
       "[]"
      ]
     },
     "execution_count": 58,
     "metadata": {},
     "output_type": "execute_result"
    }
   ],
   "source": [
    "list(collection.find({\n",
    "    \"name\" : \"test\"\n",
    "}))"
   ]
  }
 ],
 "metadata": {
  "kernelspec": {
   "display_name": "Python 3.9.13 64-bit",
   "language": "python",
   "name": "python3"
  },
  "language_info": {
   "codemirror_mode": {
    "name": "ipython",
    "version": 3
   },
   "file_extension": ".py",
   "mimetype": "text/x-python",
   "name": "python",
   "nbconvert_exporter": "python",
   "pygments_lexer": "ipython3",
   "version": "3.9.13"
  },
  "orig_nbformat": 4,
  "vscode": {
   "interpreter": {
    "hash": "82ed002fa2d4956f5c6aec99bcefe0f73a9f79882f3c9e2319b14958a5896ac5"
   }
  }
 },
 "nbformat": 4,
 "nbformat_minor": 2
}
