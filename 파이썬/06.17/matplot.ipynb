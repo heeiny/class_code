{
 "cells": [
  {
   "cell_type": "code",
   "execution_count": 4,
   "metadata": {},
   "outputs": [],
   "source": [
    "import matplotlib.pyplot as plt\n",
    "import numpy as np"
   ]
  },
  {
   "cell_type": "code",
   "execution_count": 6,
   "metadata": {},
   "outputs": [
    {
     "data": {
      "image/png": "[encoded data removed]",
      "text/plain": [
       "<Figure size 432x288 with 1 Axes>"
      ]
     },
     "metadata": {
      "needs_background": "light"
     },
     "output_type": "display_data"
    }
   ],
   "source": [
    "## 라인 그래프\n",
    "y = [1,2,3,4,5]\n",
    "plt.plot(y)\n",
    "plt.show()"
   ]
  },
  {
   "cell_type": "code",
   "execution_count": 4,
   "metadata": {},
   "outputs": [
    {
     "data": {
      "text/plain": [
       "<function matplotlib.pyplot.show(close=None, block=None)>"
      ]
     },
     "execution_count": 4,
     "metadata": {},
     "output_type": "execute_result"
    },
    {
     "data": {
      "image/png": "[encoded data removed]",
      "text/plain": [
       "<Figure size 432x288 with 1 Axes>"
      ]
     },
     "metadata": {
      "needs_background": "light"
     },
     "output_type": "display_data"
    }
   ],
   "source": [
    "y = [13,56,53,78,32,64]\n",
    "plt.plot(range(len(y)),y)                        ## x는 y의 길이 범위만큼\n",
    "plt.show"
   ]
  },
  {
   "cell_type": "code",
   "execution_count": 7,
   "metadata": {},
   "outputs": [
    {
     "data": {
      "text/plain": [
       "array([10, 20, 30, 40, 50])"
      ]
     },
     "execution_count": 7,
     "metadata": {},
     "output_type": "execute_result"
    }
   ],
   "source": [
    "## numpy\n",
    "a = np.array([10,20,30,40,50])\n",
    "a"
   ]
  },
  {
   "cell_type": "code",
   "execution_count": 8,
   "metadata": {},
   "outputs": [
    {
     "data": {
      "text/plain": [
       "array([20, 40])"
      ]
     },
     "execution_count": 8,
     "metadata": {},
     "output_type": "execute_result"
    }
   ],
   "source": [
    "## (a[1:4:2]) : list안에 [시작점:종료점:증감] -> [1:4:2] -> 위치가 1 3 \n",
    "\n",
    "b = np.array(a[1:4:2])              \n",
    "b "
   ]
  },
  {
   "cell_type": "code",
   "execution_count": 10,
   "metadata": {},
   "outputs": [
    {
     "data": {
      "text/plain": [
       "array([ 0.        ,  3.33333333,  6.66666667, 10.        , 13.33333333,\n",
       "       16.66666667, 20.        ])"
      ]
     },
     "execution_count": 10,
     "metadata": {},
     "output_type": "execute_result"
    }
   ],
   "source": [
    "## linespace( ): 시작점 끝을 정하고 그 사이의 값을 균등하게 분배\n",
    "\n",
    "np.linspace(0, 20, 5)\n",
    "np.linspace(0, 20, 7)"
   ]
  },
  {
   "cell_type": "code",
   "execution_count": 11,
   "metadata": {},
   "outputs": [
    {
     "data": {
      "text/plain": [
       "array([   100.,   1000.,  10000., 100000.])"
      ]
     },
     "execution_count": 11,
     "metadata": {},
     "output_type": "execute_result"
    }
   ],
   "source": [
    "## logspace( ): 로그스케일 값을 균등하게 분배 -> 정규분포 만드는 과정에서 사용 \n",
    "\n",
    "np.logspace(2, 5, 4)"
   ]
  },
  {
   "cell_type": "code",
   "execution_count": 13,
   "metadata": {},
   "outputs": [
    {
     "data": {
      "text/plain": [
       "(array([47, 22, 82, 19, 85, 15, 89, 74, 26, 11]),\n",
       " array([47, 22, 82, 19, 85, 15, 89, 74, 26, 11]),\n",
       " array([50, 25, 82, 32, 53, 92, 85, 17, 44, 59]))"
      ]
     },
     "execution_count": 13,
     "metadata": {},
     "output_type": "execute_result"
    }
   ],
   "source": [
    "## random -> 임의의 값을 array 구성에 사용\n",
    "## 산점도 그래프 random을 사용\n",
    "## random seed( ) 함수 : 시드를 지정하게 되면 랜덤이 고정. ex) seed(1) 시드1안에서는 랜덤 값이 고정됨\n",
    "## seed(2) 시드2안에서는 고정. 시드1과는 다른 값\n",
    "\n",
    "np.random.seed(1)\n",
    "result1 = np.random.randint(10,100,10)     ## 10에서 100까지의 random함수 출력\n",
    "\n",
    "np.random.seed(1)\n",
    "result2 = np.random.randint(10,100,10)\n",
    "\n",
    "np.random.seed(2)\n",
    "result3 = np.random.randint(10,100,10)\n",
    "\n",
    "result1, result2, result3"
   ]
  },
  {
   "cell_type": "code",
   "execution_count": 14,
   "metadata": {},
   "outputs": [
    {
     "data": {
      "text/plain": [
       "array([0.20464863, 0.61927097, 0.29965467, 0.26682728, 0.62113383,\n",
       "       0.52914209, 0.13457995, 0.51357812, 0.18443987, 0.78533515])"
      ]
     },
     "execution_count": 14,
     "metadata": {},
     "output_type": "execute_result"
    }
   ],
   "source": [
    "## random.rand( )  : 0 에서 1 사이 균일한 확률 분포로 실수와 난수를 만들어주는 서브 패키지\n",
    "\n",
    "np.random.rand(10)"
   ]
  },
  {
   "cell_type": "code",
   "execution_count": 15,
   "metadata": {},
   "outputs": [
    {
     "data": {
      "text/plain": [
       "array([-0.0191305 ,  1.17500122, -0.74787095,  0.00902525, -0.87810789,\n",
       "       -0.15643417,  0.25657045, -0.98877905, -0.33882197, -0.23618403])"
      ]
     },
     "execution_count": 15,
     "metadata": {},
     "output_type": "execute_result"
    }
   ],
   "source": [
    "## 표준편차가 1인 가우시안의 표준 정규 분포를 따른 난수 생성\n",
    "\n",
    "np.random.randn(10)"
   ]
  },
  {
   "cell_type": "code",
   "execution_count": 18,
   "metadata": {},
   "outputs": [
    {
     "data": {
      "text/plain": [
       "array([[3, 5, 8, 7],\n",
       "       [5, 6, 9, 4],\n",
       "       [1, 1, 6, 8],\n",
       "       [6, 1, 9, 7]])"
      ]
     },
     "execution_count": 18,
     "metadata": {},
     "output_type": "execute_result"
    }
   ],
   "source": [
    "\n",
    "c = np.random.randint(1,10,[4,4])\n",
    "c"
   ]
  },
  {
   "cell_type": "code",
   "execution_count": 23,
   "metadata": {},
   "outputs": [
    {
     "data": {
      "text/plain": [
       "array([[6, 1, 9, 7],\n",
       "       [3, 5, 8, 7],\n",
       "       [5, 6, 9, 4],\n",
       "       [1, 1, 6, 8]])"
      ]
     },
     "execution_count": 23,
     "metadata": {},
     "output_type": "execute_result"
    }
   ],
   "source": [
    "## suffle: 무작위로 섞기. 행렬 데이터를 섞어주는 기능. 행의 위치가 섞임\n",
    "\n",
    "np.random.shuffle(c)\n",
    "c\n"
   ]
  },
  {
   "cell_type": "code",
   "execution_count": 24,
   "metadata": {},
   "outputs": [
    {
     "data": {
      "text/plain": [
       "array([1., 3., 5., 7.])"
      ]
     },
     "execution_count": 24,
     "metadata": {},
     "output_type": "execute_result"
    }
   ],
   "source": [
    "## 제곱근 sqrt\n",
    "\n",
    "arr = [1, 9, 25, 49]\n",
    "\n",
    "np.sqrt(arr)"
   ]
  },
  {
   "cell_type": "code",
   "execution_count": 25,
   "metadata": {},
   "outputs": [
    {
     "data": {
      "text/plain": [
       "array([ 1,  9, 25, 49])"
      ]
     },
     "execution_count": 25,
     "metadata": {},
     "output_type": "execute_result"
    }
   ],
   "source": [
    "## 제곱 square\n",
    "\n",
    "arr = [1, 3, 5, 7]\n",
    "\n",
    "np.square(arr)"
   ]
  },
  {
   "cell_type": "code",
   "execution_count": 26,
   "metadata": {},
   "outputs": [
    {
     "data": {
      "text/plain": [
       "(1.0, 2.718281828459045, 7.38905609893065, 20.085536923187668)"
      ]
     },
     "execution_count": 26,
     "metadata": {},
     "output_type": "execute_result"
    }
   ],
   "source": [
    "## exp는 자연상수(e) exp() -> 자연상수의 지수배에 대한 값을 계산 \n",
    "\n",
    "np.exp(0), np.exp(1), np.exp(2), np.exp(3)"
   ]
  },
  {
   "cell_type": "code",
   "execution_count": 28,
   "metadata": {},
   "outputs": [
    {
     "data": {
      "text/plain": [
       "array([-5. , -4.9, -4.8, -4.7, -4.6, -4.5, -4.4, -4.3, -4.2, -4.1, -4. ,\n",
       "       -3.9, -3.8, -3.7, -3.6, -3.5, -3.4, -3.3, -3.2, -3.1, -3. , -2.9,\n",
       "       -2.8, -2.7, -2.6, -2.5, -2.4, -2.3, -2.2, -2.1, -2. , -1.9, -1.8,\n",
       "       -1.7, -1.6, -1.5, -1.4, -1.3, -1.2, -1.1, -1. , -0.9, -0.8, -0.7,\n",
       "       -0.6, -0.5, -0.4, -0.3, -0.2, -0.1,  0. ,  0.1,  0.2,  0.3,  0.4,\n",
       "        0.5,  0.6,  0.7,  0.8,  0.9,  1. ,  1.1,  1.2,  1.3,  1.4,  1.5,\n",
       "        1.6,  1.7,  1.8,  1.9,  2. ,  2.1,  2.2,  2.3,  2.4,  2.5,  2.6,\n",
       "        2.7,  2.8,  2.9,  3. ,  3.1,  3.2,  3.3,  3.4,  3.5,  3.6,  3.7,\n",
       "        3.8,  3.9,  4. ,  4.1,  4.2,  4.3,  4.4,  4.5,  4.6,  4.7,  4.8,\n",
       "        4.9,  5. ])"
      ]
     },
     "execution_count": 28,
     "metadata": {},
     "output_type": "execute_result"
    }
   ],
   "source": [
    "# 정규분포\n",
    "\n",
    "x = np.linspace(-5, 5, 101)\n",
    "x"
   ]
  },
  {
   "cell_type": "code",
   "execution_count": 29,
   "metadata": {},
   "outputs": [
    {
     "data": {
      "text/plain": [
       "array([1.48671951e-06, 2.43896075e-06, 3.96129909e-06, 6.36982518e-06,\n",
       "       1.01408521e-05, 1.59837411e-05, 2.49424713e-05, 3.85351967e-05,\n",
       "       5.89430678e-05, 8.92616572e-05, 1.33830226e-04, 1.98655471e-04,\n",
       "       2.91946926e-04, 4.24780271e-04, 6.11901930e-04, 8.72682695e-04,\n",
       "       1.23221917e-03, 1.72256894e-03, 2.38408820e-03, 3.26681906e-03,\n",
       "       4.43184841e-03, 5.95253242e-03, 7.91545158e-03, 1.04209348e-02,\n",
       "       1.35829692e-02, 1.75283005e-02, 2.23945303e-02, 2.83270377e-02,\n",
       "       3.54745928e-02, 4.39835960e-02, 5.39909665e-02, 6.56158148e-02,\n",
       "       7.89501583e-02, 9.40490774e-02, 1.10920835e-01, 1.29517596e-01,\n",
       "       1.49727466e-01, 1.71368592e-01, 1.94186055e-01, 2.17852177e-01,\n",
       "       2.41970725e-01, 2.66085250e-01, 2.89691553e-01, 3.12253933e-01,\n",
       "       3.33224603e-01, 3.52065327e-01, 3.68270140e-01, 3.81387815e-01,\n",
       "       3.91042694e-01, 3.96952547e-01, 3.98942280e-01, 3.96952547e-01,\n",
       "       3.91042694e-01, 3.81387815e-01, 3.68270140e-01, 3.52065327e-01,\n",
       "       3.33224603e-01, 3.12253933e-01, 2.89691553e-01, 2.66085250e-01,\n",
       "       2.41970725e-01, 2.17852177e-01, 1.94186055e-01, 1.71368592e-01,\n",
       "       1.49727466e-01, 1.29517596e-01, 1.10920835e-01, 9.40490774e-02,\n",
       "       7.89501583e-02, 6.56158148e-02, 5.39909665e-02, 4.39835960e-02,\n",
       "       3.54745928e-02, 2.83270377e-02, 2.23945303e-02, 1.75283005e-02,\n",
       "       1.35829692e-02, 1.04209348e-02, 7.91545158e-03, 5.95253242e-03,\n",
       "       4.43184841e-03, 3.26681906e-03, 2.38408820e-03, 1.72256894e-03,\n",
       "       1.23221917e-03, 8.72682695e-04, 6.11901930e-04, 4.24780271e-04,\n",
       "       2.91946926e-04, 1.98655471e-04, 1.33830226e-04, 8.92616572e-05,\n",
       "       5.89430678e-05, 3.85351967e-05, 2.49424713e-05, 1.59837411e-05,\n",
       "       1.01408521e-05, 6.36982518e-06, 3.96129909e-06, 2.43896075e-06,\n",
       "       1.48671951e-06])"
      ]
     },
     "execution_count": 29,
     "metadata": {},
     "output_type": "execute_result"
    }
   ],
   "source": [
    "\n",
    "y = ( 1/ np.sqrt(2 * np.pi)) * np.exp( -x ** 2 / 2 )\n",
    "y"
   ]
  },
  {
   "cell_type": "code",
   "execution_count": 8,
   "metadata": {},
   "outputs": [
    {
     "data": {
      "image/png": "[encoded data removed]",
      "text/plain": [
       "<Figure size 720x432 with 1 Axes>"
      ]
     },
     "metadata": {
      "needs_background": "light"
     },
     "output_type": "display_data"
    }
   ],
   "source": [
    "plt.figure(figsize=(10,6))                          # plot 의 size 변경. 그래프 크기를 변경\n",
    "plt.plot(x,y)\n",
    "plt.xlabel(\"x\")                                     # x축의 레이블을 지정\n",
    "plt.ylabel(\"y\")                                     # y축의 레이블을 지정\n",
    "plt.grid( )                                         # 그래프에 격자를 표시\n",
    "plt.title(\"Nomal Distribution\")                     # 타이틀 표시\n",
    "plt.legend([\"N(0,1)\"])                               # 범례표시\n",
    "plt.show()"
   ]
  },
  {
   "cell_type": "code",
   "execution_count": 2,
   "metadata": {},
   "outputs": [
    {
     "name": "stdout",
     "output_type": "stream",
     "text": [
      "Collecting scipy\n",
      "  Downloading scipy-1.8.1-cp39-cp39-win_amd64.whl (36.9 MB)\n",
      "     ---------------------------------------- 36.9/36.9 MB 8.6 MB/s eta 0:00:00\n",
      "Requirement already satisfied: numpy<1.25.0,>=1.17.3 in c:\\users\\user\\appdata\\local\\programs\\python\\python39\\lib\\site-packages (from scipy) (1.22.4)\n",
      "Installing collected packages: scipy\n",
      "Successfully installed scipy-1.8.1\n",
      "Note: you may need to restart the kernel to use updated packages.\n"
     ]
    },
    {
     "name": "stderr",
     "output_type": "stream",
     "text": [
      "WARNING: You are using pip version 22.0.4; however, version 22.1.2 is available.\n",
      "You should consider upgrading via the 'c:\\Users\\user\\AppData\\Local\\Programs\\Python\\Python39\\python.exe -m pip install --upgrade pip' command.\n"
     ]
    }
   ],
   "source": [
    "pip install scipy"
   ]
  },
  {
   "cell_type": "code",
   "execution_count": 7,
   "metadata": {},
   "outputs": [
    {
     "data": {
      "image/png": "[encoded data removed]",
      "text/plain": [
       "<Figure size 720x432 with 1 Axes>"
      ]
     },
     "metadata": {
      "needs_background": "light"
     },
     "output_type": "display_data"
    }
   ],
   "source": [
    "## scipy 라이브러리를 이용하여 정규분포 작성\n",
    "import scipy.stats as stats\n",
    "x = np.linspace(-5,5,101)\n",
    "y = stats.norm(0,1).pdf(x)\n",
    "\n",
    "\n",
    "plt.figure(figsize =(10,6))\n",
    "plt.plot(x,y)\n",
    "plt.xlabel(\"x\")\n",
    "plt.ylabel(\"y\")\n",
    "plt.grid()\n",
    "plt.legend([\"N(0,1)\"])\n",
    "plt.show()"
   ]
  },
  {
   "cell_type": "code",
   "execution_count": 10,
   "metadata": {},
   "outputs": [
    {
     "data": {
      "image/png": "[encoded data removed]",
      "text/plain": [
       "<Figure size 432x288 with 1 Axes>"
      ]
     },
     "metadata": {
      "needs_background": "light"
     },
     "output_type": "display_data"
    }
   ],
   "source": [
    "## 히스토그램\n",
    "\n",
    "weight = [68, 80, 64, 78, 74, 77, 66, 88, 91, 60]\n",
    "\n",
    "plt.hist(weight, bins = 20)         # 기본값 bins = 10\n",
    "plt.show()"
   ]
  },
  {
   "cell_type": "code",
   "execution_count": 16,
   "metadata": {},
   "outputs": [],
   "source": [
    "x = np.random.standard_normal(size = 100)"
   ]
  },
  {
   "cell_type": "code",
   "execution_count": 17,
   "metadata": {},
   "outputs": [
    {
     "data": {
      "image/png": "[encoded data removed]",
      "text/plain": [
       "<Figure size 432x288 with 1 Axes>"
      ]
     },
     "metadata": {
      "needs_background": "light"
     },
     "output_type": "display_data"
    }
   ],
   "source": [
    "plt.hist(x)\n",
    "plt.show( )"
   ]
  },
  {
   "cell_type": "code",
   "execution_count": 27,
   "metadata": {},
   "outputs": [
    {
     "data": {
      "image/png": "[encoded data removed]",
      "text/plain": [
       "<Figure size 432x288 with 1 Axes>"
      ]
     },
     "metadata": {},
     "output_type": "display_data"
    }
   ],
   "source": [
    "# pie 그래프\n",
    "\n",
    "ratio = [34, 32, 16, 18]\n",
    "labels = [\"a\",\"b\",\"c\",\"d\"]\n",
    "explode = [0, 0, 0.1, 0.1]\n",
    "\n",
    "plt.pie(ratio, labels = labels, autopct = '%.1f%%', startangle = 180, explode = explode)\n",
    "plt.show( )"
   ]
  }
 ],
 "metadata": {
  "kernelspec": {
   "display_name": "Python 3.9.13 64-bit",
   "language": "python",
   "name": "python3"
  },
  "language_info": {
   "codemirror_mode": {
    "name": "ipython",
    "version": 3
   },
   "file_extension": ".py",
   "mimetype": "text/x-python",
   "name": "python",
   "nbconvert_exporter": "python",
   "pygments_lexer": "ipython3",
   "version": "3.9.13"
  },
  "orig_nbformat": 4,
  "vscode": {
   "interpreter": {
    "hash": "82ed002fa2d4956f5c6aec99bcefe0f73a9f79882f3c9e2319b14958a5896ac5"
   }
  }
 },
 "nbformat": 4,
 "nbformat_minor": 2
}
