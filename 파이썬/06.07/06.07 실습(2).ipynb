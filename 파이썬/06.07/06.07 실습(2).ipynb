{
 "cells": [
  {
   "cell_type": "code",
   "execution_count": 27,
   "metadata": {},
   "outputs": [],
   "source": [
    "class Class_1():                ##Class_1 클래스를 생성\n",
    "    def func_1(self):           ##self는 Class의 객체를 지정하고 self를 통해 속성을 지정\n",
    "        print(\"Class_1 Call\")"
   ]
  },
  {
   "cell_type": "code",
   "execution_count": 28,
   "metadata": {},
   "outputs": [],
   "source": [
    "x = Class_1()"
   ]
  },
  {
   "cell_type": "code",
   "execution_count": 22,
   "metadata": {},
   "outputs": [
    {
     "name": "stdout",
     "output_type": "stream",
     "text": [
      "Class_1 Call\n"
     ]
    }
   ],
   "source": [
    "x.func_1()                      #Class내에 func_1()함수에는 매개변수 self가 존재함 #x. ->함수의 위치\n",
    "                                #함수 호출 할 때 매개변수에 기본값이 정의가 되지 않았는데 \n",
    "                                #인자값을 안넣어도 실행이 됨\n",
    "                                #class내에 있는 self는 "
   ]
  },
  {
   "cell_type": "code",
   "execution_count": 30,
   "metadata": {},
   "outputs": [
    {
     "name": "stdout",
     "output_type": "stream",
     "text": [
      "test 20\n"
     ]
    }
   ],
   "source": [
    "class Class_2():\n",
    "    def __init__(self,x,y):       #매개변수 self,x,y \n",
    "        self.x = x\n",
    "        self.y = y\n",
    "\n",
    "x = Class_2(\"test\",20)  \n",
    "print(x.x,x.y)                 #Class_2를 실행했을 때 매개변수 __init__이 실행되어야 함"
   ]
  },
  {
   "cell_type": "code",
   "execution_count": 31,
   "metadata": {},
   "outputs": [],
   "source": [
    "y = Class_2(\"test2\",50)"
   ]
  },
  {
   "cell_type": "code",
   "execution_count": 33,
   "metadata": {},
   "outputs": [
    {
     "name": "stdout",
     "output_type": "stream",
     "text": [
      "test 20 test2 50\n"
     ]
    }
   ],
   "source": [
    "print(x.x,x.y,y.x,y.y)"
   ]
  },
  {
   "cell_type": "code",
   "execution_count": 26,
   "metadata": {},
   "outputs": [
    {
     "name": "stdout",
     "output_type": "stream",
     "text": [
      "9 12\n"
     ]
    }
   ],
   "source": [
    "class Class_3():\n",
    "    def __init__(self,input_a,input_b):   ##Class_3을 생성할 때 self,inpu_a,input_b를 매개변수로 하는 인자값이 필요/ self를 제외하고 매개변수 input_a,input_b에 대입함\n",
    "        self.a = input_a\n",
    "        self.b = input_b\n",
    "\n",
    "    def func_1(self):\n",
    "        #func_1()함수 생성->class안에 있는 input_a,input_b를 합쳐서 결과값 return\n",
    "        self.result = self.a + self.b\n",
    "    \n",
    "    def func_1(self):\n",
    "        ##func_1()함수 생성 ->class안에 있는 input_a,input_b를 합쳐서 결과값 return\n",
    "        self.result =self.a + self.b\n",
    "        return self.result\n",
    "    \n",
    "\n",
    "test = Class_3(5,4)\n",
    "## self.a,self.b 어떠한 값이 될까\n",
    "## CLass_3()라는 클래스를 test라는 변수에 선언\n",
    "## Class_3()선언이 될 때 실행이 되는 함수는? -> Class_3()안에 존재하는 __init__()함수가 실행\n",
    "## __init__()이라는 함수는 어떤 행동? -> self.a에 5를 대입, self.b에 4를 대입\n",
    "\n",
    "test.func_1()\n",
    "## Class_3()안에 있는 func_1()함수의 결과값은 9\n",
    "## func_1()가 self.a + self.b 라는 결과값을 return  \n",
    "\n",
    "test2=Class_3(10,2)\n",
    "\n",
    "test2 = Class_3(10,2)\n",
    "print(test.func_1(),test2.func_1())"
   ]
  },
  {
   "cell_type": "code",
   "execution_count": 6,
   "metadata": {},
   "outputs": [],
   "source": [
    "def func_2(input_a,input_b):\n",
    "    a = input_a\n",
    "    b = input_b\n",
    "\n",
    "func_2(5,4)\n",
    "\n",
    "##func_2()가 하는 행동은? a라는 변수에 5를 대입. b라는 변수에 4를 대입"
   ]
  },
  {
   "cell_type": "code",
   "execution_count": 7,
   "metadata": {},
   "outputs": [
    {
     "name": "stdout",
     "output_type": "stream",
     "text": [
      "Kim Lee\n",
      "['0102345678', '01098765432'] ['0102345678', '01098765432']\n"
     ]
    }
   ],
   "source": [
    "class Class_4():\n",
    "    list = []\n",
    "    def __init__(self,_name):\n",
    "        self.name = _name\n",
    "    def add_list(self,_phone):\n",
    "        self.list.append(_phone)\n",
    "\n",
    "test = Class_4(\"Kim\")\n",
    "test2 = Class_4(\"Lee\")\n",
    "test.add_list(\"0102345678\")\n",
    "test2.add_list(\"01098765432\")\n",
    "\n",
    "print(test.name,test2.name)\n",
    "\n",
    "#결과값? \n",
    "print(test.list,test2.list)"
   ]
  },
  {
   "cell_type": "code",
   "execution_count": 30,
   "metadata": {},
   "outputs": [
    {
     "name": "stdout",
     "output_type": "stream",
     "text": [
      "2014052124912 2014051396080\n"
     ]
    }
   ],
   "source": [
    "print(id(test.name),id(test2.name))"
   ]
  },
  {
   "cell_type": "code",
   "execution_count": 31,
   "metadata": {},
   "outputs": [
    {
     "name": "stdout",
     "output_type": "stream",
     "text": [
      "2014052932288 2014052932288\n"
     ]
    }
   ],
   "source": [
    "print(id(test.list),id(test2.list))"
   ]
  },
  {
   "cell_type": "code",
   "execution_count": null,
   "metadata": {},
   "outputs": [],
   "source": [
    "1. class생성\n",
    "2. init함수에서 값을 2개 받아오고\n",
    "3. 새로운 함수에서 두 값을 출력\n",
    "4. 클래스를 선언을 2개를 해보고 다른 값들을 넣어서 출력\n",
    "\n",
    "1. class생성(Class_5())\n",
    "2. init함수에서 self를 제외한 값을 2개 클래스가 선언이 될 때 받아올 것\n",
    "3. 함수를 3개 추가\n",
    "4. 2개의 값을 합,값의 차,값의 곱을 구하는 함수 3개 생성"
   ]
  },
  {
   "cell_type": "code",
   "execution_count": 37,
   "metadata": {},
   "outputs": [
    {
     "name": "stdout",
     "output_type": "stream",
     "text": [
      "('test', 'test2')\n",
      "('test4', 'test5')\n"
     ]
    }
   ],
   "source": [
    "class Class_5():\n",
    "    def __init__(self,_a,_b):\n",
    "        self.a = _a\n",
    "        self.b = _b\n",
    "    def func_1(self):\n",
    "        return self.a,self.b\n",
    "\n",
    "test = Class_5(\"test\",\"test2\")\n",
    "print(test.func_1())\n",
    "\n",
    "test2 = Class_5(\"test4\",\"test5\")\n",
    "print(test2.func_1())"
   ]
  },
  {
   "cell_type": "code",
   "execution_count": 34,
   "metadata": {},
   "outputs": [
    {
     "name": "stdout",
     "output_type": "stream",
     "text": [
      "12\n",
      "8\n",
      "20\n"
     ]
    }
   ],
   "source": [
    "class Class_6():\n",
    "    def __init__(self,_a,_b):\n",
    "        self.a = _a\n",
    "        self.b = _b\n",
    "    def func_1(self):\n",
    "        return self.a + self.b\n",
    "    def func_2(self):\n",
    "        return self.a - self.b\n",
    "    def func_3(self):\n",
    "        return self.a * self.b\n",
    "\n",
    "test = Class_6(10,2)\n",
    "print(test.func_1())\n",
    "print(test.func_2())\n",
    "print(test.func_3()) "
   ]
  },
  {
   "cell_type": "code",
   "execution_count": 35,
   "metadata": {},
   "outputs": [],
   "source": [
    "class Class_8():\n",
    "    list = []\n",
    "    def __init__(self,input_a,input_b):\n",
    "        self.a = input_a\n",
    "        self.b = input_b"
   ]
  },
  {
   "cell_type": "code",
   "execution_count": 11,
   "metadata": {},
   "outputs": [
    {
     "ename": "SyntaxError",
     "evalue": "invalid syntax (3086741909.py, line 1)",
     "output_type": "error",
     "traceback": [
      "\u001b[1;36m  Input \u001b[1;32mIn [11]\u001b[1;36m\u001b[0m\n\u001b[1;33m    Class Class_7():\u001b[0m\n\u001b[1;37m          ^\u001b[0m\n\u001b[1;31mSyntaxError\u001b[0m\u001b[1;31m:\u001b[0m invalid syntax\n"
     ]
    }
   ],
   "source": [
    "Class Class_7():\n",
    "    list = []\n",
    "    def __init__(self,x,y):"
   ]
  },
  {
   "cell_type": "code",
   "execution_count": 12,
   "metadata": {},
   "outputs": [
    {
     "ename": "SyntaxError",
     "evalue": "invalid syntax (650688525.py, line 1)",
     "output_type": "error",
     "traceback": [
      "\u001b[1;36m  Input \u001b[1;32mIn [12]\u001b[1;36m\u001b[0m\n\u001b[1;33m    Class Class_8():\u001b[0m\n\u001b[1;37m          ^\u001b[0m\n\u001b[1;31mSyntaxError\u001b[0m\u001b[1;31m:\u001b[0m invalid syntax\n"
     ]
    }
   ],
   "source": [
    "Class Class_8():\n",
    "    list = []\n",
    "    def __init__(self,x,y):\n",
    "        self.x = x\n",
    "        self.y = y\n",
    "    \n",
    "    def func_8(self):\n",
    "        self.result = self.a + self.b\n",
    "        return self.result\n",
    "\n",
    "\n",
    "    def func_8(self,5,2):\n",
    "    "
   ]
  },
  {
   "cell_type": "code",
   "execution_count": 13,
   "metadata": {},
   "outputs": [],
   "source": [
    "    def func_8(self):\n",
    "        self.result = self.a * self.b \n",
    "        return self.result\n",
    "\n",
    "    def func_8(self):\n",
    "        self.result = self.a - self.b\n",
    "        return self.result"
   ]
  },
  {
   "cell_type": "code",
   "execution_count": 14,
   "metadata": {},
   "outputs": [
    {
     "ename": "SyntaxError",
     "evalue": "invalid syntax (1628907777.py, line 1)",
     "output_type": "error",
     "traceback": [
      "\u001b[1;36m  Input \u001b[1;32mIn [14]\u001b[1;36m\u001b[0m\n\u001b[1;33m    Class class_5():\u001b[0m\n\u001b[1;37m          ^\u001b[0m\n\u001b[1;31mSyntaxError\u001b[0m\u001b[1;31m:\u001b[0m invalid syntax\n"
     ]
    }
   ],
   "source": [
    "Class class_5():\n",
    "    def __init__()\n",
    "\n",
    "    def\n",
    "\n",
    "    def"
   ]
  },
  {
   "cell_type": "code",
   "execution_count": 15,
   "metadata": {},
   "outputs": [
    {
     "ename": "SyntaxError",
     "evalue": "invalid syntax (271784065.py, line 1)",
     "output_type": "error",
     "traceback": [
      "\u001b[1;36m  Input \u001b[1;32mIn [15]\u001b[1;36m\u001b[0m\n\u001b[1;33m    Class Class_5():\u001b[0m\n\u001b[1;37m          ^\u001b[0m\n\u001b[1;31mSyntaxError\u001b[0m\u001b[1;31m:\u001b[0m invalid syntax\n"
     ]
    }
   ],
   "source": [
    "Class Class_5():\n",
    "    list =[]\n",
    "    def __init__()"
   ]
  },
  {
   "cell_type": "code",
   "execution_count": 16,
   "metadata": {},
   "outputs": [],
   "source": [
    "class Class_4():\n",
    "    list = []\n",
    "    def __init__(self,_name):\n",
    "        self.name = _name\n",
    "    def add_list(self,_phone):\n",
    "        self.list.append(_phone)"
   ]
  },
  {
   "cell_type": "code",
   "execution_count": null,
   "metadata": {},
   "outputs": [],
   "source": [
    "1. class 생성 (Class_5())\n",
    "2. __init__ 함수에서 self를 제외한 값을 2개 클래스가 선언이 될 때 받아올 것\n",
    "3. 함수를 3개 추가\n",
    "4. 2개의 값을 합, 값의 차, 값의 곱을 구하는 함수 3개 생성"
   ]
  },
  {
   "cell_type": "code",
   "execution_count": 17,
   "metadata": {},
   "outputs": [
    {
     "ename": "NameError",
     "evalue": "name 'Class_6' is not defined",
     "output_type": "error",
     "traceback": [
      "\u001b[1;31m---------------------------------------------------------------------------\u001b[0m",
      "\u001b[1;31mNameError\u001b[0m                                 Traceback (most recent call last)",
      "\u001b[1;32mc:\\Users\\user\\Desktop\\금융빅데이터\\2022.06.07\\06.07 실습.ipynb Cell 23'\u001b[0m in \u001b[0;36m<cell line: 1>\u001b[1;34m()\u001b[0m\n\u001b[1;32m----> <a href='vscode-notebook-cell:/c%3A/Users/user/Desktop/%EA%B8%88%EC%9C%B5%EB%B9%85%EB%8D%B0%EC%9D%B4%ED%84%B0/2022.06.07/06.07%20%EC%8B%A4%EC%8A%B5.ipynb#ch0000022?line=0'>1</a>\u001b[0m \u001b[39mclass\u001b[39;00m \u001b[39mClass_7\u001b[39;00m(Class_6):\n\u001b[0;32m      <a href='vscode-notebook-cell:/c%3A/Users/user/Desktop/%EA%B8%88%EC%9C%B5%EB%B9%85%EB%8D%B0%EC%9D%B4%ED%84%B0/2022.06.07/06.07%20%EC%8B%A4%EC%8A%B5.ipynb#ch0000022?line=1'>2</a>\u001b[0m     \u001b[39mdef\u001b[39;00m \u001b[39mfunc_4\u001b[39m(\u001b[39mself\u001b[39m):\n\u001b[0;32m      <a href='vscode-notebook-cell:/c%3A/Users/user/Desktop/%EA%B8%88%EC%9C%B5%EB%B9%85%EB%8D%B0%EC%9D%B4%ED%84%B0/2022.06.07/06.07%20%EC%8B%A4%EC%8A%B5.ipynb#ch0000022?line=2'>3</a>\u001b[0m         \u001b[39mreturn\u001b[39;00m \u001b[39mself\u001b[39m\u001b[39m.\u001b[39ma \u001b[39m/\u001b[39m \u001b[39mself\u001b[39m\u001b[39m.\u001b[39mb\n",
      "\u001b[1;31mNameError\u001b[0m: name 'Class_6' is not defined"
     ]
    }
   ],
   "source": [
    "class Class_7(Class_6):\n",
    "    def func_4(self):\n",
    "        return self.a / self.b\n",
    "    \n",
    "    def func_1(self):\n",
    "        return self.a % self.b\n",
    "\n",
    "test = Class_7(20,5)\n",
    "print(test.func_4())\n",
    "print(test.func_1())\n",
    "\n",
    "test2=Class_6(20,5)\n",
    "print(test2.func_1())"
   ]
  },
  {
   "cell_type": "code",
   "execution_count": 18,
   "metadata": {},
   "outputs": [],
   "source": [
    "from mod1 import func_1"
   ]
  },
  {
   "cell_type": "code",
   "execution_count": null,
   "metadata": {},
   "outputs": [],
   "source": [
    "1. module생성 (외부파일 mod2)\n",
    "2. 함수 1개 class 1개 생성\n",
    "3. 함수는 매개변수 2개 _x,_y \n",
    "4._x부터 _y까지 숫자의 합을 return\n",
    "5. class에 있는 __init__함수에서 매개변수 2개 (self 제외) 생성 (_a,_b)\n",
    "6. class내의 함수를 하나 생성\n",
    "7. _a ** _b의 값을 리턴\n",
    "8. mudule.ipynb에서 모듈을 로드하고 함수 실행 \n",
    "9. '클래스 선언' '클래스' 내에 있는 함수를 실행 "
   ]
  },
  {
   "cell_type": "code",
   "execution_count": 54,
   "metadata": {},
   "outputs": [
    {
     "data": {
      "text/plain": [
       "<module 'mod2' from 'c:\\\\Users\\\\user\\\\Desktop\\\\금융빅데이터\\\\2022.06.07\\\\mod2.py'>"
      ]
     },
     "execution_count": 54,
     "metadata": {},
     "output_type": "execute_result"
    }
   ],
   "source": [
    "import imp\n",
    "import mod2\n",
    "imp.reload(mod2)"
   ]
  },
  {
   "cell_type": "code",
   "execution_count": 55,
   "metadata": {},
   "outputs": [
    {
     "data": {
      "text/plain": [
       "14"
      ]
     },
     "execution_count": 55,
     "metadata": {},
     "output_type": "execute_result"
    }
   ],
   "source": [
    "mod2.func_2(2,5)"
   ]
  },
  {
   "cell_type": "code",
   "execution_count": 56,
   "metadata": {},
   "outputs": [],
   "source": [
    "mod_class = mod2.ModClass(5,2)"
   ]
  },
  {
   "cell_type": "code",
   "execution_count": 57,
   "metadata": {},
   "outputs": [
    {
     "data": {
      "text/plain": [
       "25"
      ]
     },
     "execution_count": 57,
     "metadata": {},
     "output_type": "execute_result"
    }
   ],
   "source": [
    "mod_class.func_2()"
   ]
  }
 ],
 "metadata": {
  "interpreter": {
   "hash": "82ed002fa2d4956f5c6aec99bcefe0f73a9f79882f3c9e2319b14958a5896ac5"
  },
  "kernelspec": {
   "display_name": "Python 3.9.13 64-bit",
   "language": "python",
   "name": "python3"
  },
  "language_info": {
   "codemirror_mode": {
    "name": "ipython",
    "version": 3
   },
   "file_extension": ".py",
   "mimetype": "text/x-python",
   "name": "python",
   "nbconvert_exporter": "python",
   "pygments_lexer": "ipython3",
   "version": "3.9.13"
  },
  "orig_nbformat": 4
 },
 "nbformat": 4,
 "nbformat_minor": 2
}
