{
 "cells": [
  {
   "cell_type": "code",
   "execution_count": null,
   "metadata": {},
   "outputs": [],
   "source": [
    "#변수를 선언하는 방법\n",
    "a = 5 #숫자 형태의 데이터\n",
    "b = \"Hello\"  #문자 형태의 데이터 -> \"\"나 ''로 묶어서 표현\n",
    "c = 3.14  #float 형태의 데이터 \n",
    "d = True #bool 형태의 데이터(참/거짓의 형태) -> 조건문,반복문에서 사용함 "
   ]
  },
  {
   "cell_type": "code",
   "execution_count": 1,
   "metadata": {},
   "outputs": [
    {
     "name": "stdout",
     "output_type": "stream",
     "text": [
      "8 2 15 1.6666666666666667 1 2 125\n"
     ]
    }
   ],
   "source": [
    "#연산자 +,-,*,/,//,%,** \n",
    "x = 5\n",
    "y = 3\n",
    "\n",
    "print(x+y,x-y,x*y,x/y,x//y,x%y,x**y)"
   ]
  },
  {
   "cell_type": "code",
   "execution_count": 5,
   "metadata": {},
   "outputs": [
    {
     "name": "stdout",
     "output_type": "stream",
     "text": [
      "HelloWorld\n"
     ]
    }
   ],
   "source": [
    "a = \"Hello\"\n",
    "b = \"World\"\n",
    "\n",
    "print(a+b)"
   ]
  },
  {
   "cell_type": "code",
   "execution_count": 6,
   "metadata": {},
   "outputs": [],
   "source": [
    "#대입연산자 +=,-=,*=,/=,//=,%=,**=\n",
    "#a += b --> a = a + b\n",
    "\n",
    "x += y #x = x + y"
   ]
  },
  {
   "cell_type": "code",
   "execution_count": 7,
   "metadata": {},
   "outputs": [
    {
     "name": "stdout",
     "output_type": "stream",
     "text": [
      "False True False False True True\n"
     ]
    }
   ],
   "source": [
    "print(a == b, a != b, a > b, a >= b, a < b,  a <= b)\n",
    "\n",
    "x = 5\n",
    "y = 3"
   ]
  },
  {
   "cell_type": "code",
   "execution_count": 8,
   "metadata": {},
   "outputs": [
    {
     "name": "stdout",
     "output_type": "stream",
     "text": [
      "x는 10보다 작다\n"
     ]
    }
   ],
   "source": [
    "#if문 조건문\n",
    "#if 뒤에 조건식이 참인 경우 if절의 코드를 실행.\n",
    "#거짓인 경우에는 else코드 실행\n",
    "\n",
    "x = 5\n",
    "\n",
    "if x < 10:\n",
    "    print(\"x는 10보다 작다\")\n",
    "else:\n",
    "    print(\"x는 10보다 크거나 같다\")    #else는 들여쓰기 주의해야 조건식이 잘 적용됨 "
   ]
  },
  {
   "cell_type": "code",
   "execution_count": 9,
   "metadata": {},
   "outputs": [
    {
     "name": "stdout",
     "output_type": "stream",
     "text": [
      "5\n",
      "7\n",
      "2\n",
      "9\n",
      "1\n"
     ]
    }
   ],
   "source": [
    "##list 형태의 데이터를 for문에서 사용\n",
    "\n",
    "_list = [5,7,2,9,1]\n",
    "\n",
    "for i in _list:\n",
    "        print(i)"
   ]
  },
  {
   "cell_type": "code",
   "execution_count": 11,
   "metadata": {},
   "outputs": [
    {
     "name": "stdout",
     "output_type": "stream",
     "text": [
      "0 1 2 3 4 5 6 7 8 9 "
     ]
    }
   ],
   "source": [
    "#while 반복문\n",
    "\n",
    "i = 0\n",
    "while i < 10:\n",
    "    print(i,end=\" \")\n",
    "    i += 1"
   ]
  },
  {
   "cell_type": "code",
   "execution_count": 12,
   "metadata": {},
   "outputs": [
    {
     "name": "stdout",
     "output_type": "stream",
     "text": [
      "25\n",
      "매개변수의 타입이 잘못되었습니다.\n",
      "8\n",
      "15\n"
     ]
    }
   ],
   "source": [
    "def func_4(x,y):                                #func_4() 생성 x,y의 매개변수까지 생성\n",
    "                                                #매개변수의 타입이 int인 경우 \n",
    "    if type(x) == int and type(y) == int:\n",
    "                                                #x부터y까지의 숫자들의 합계를 구하라.\n",
    "        sum=0                                   #지역변수 sum을 생성 초기의 값은 0으로\n",
    "        for i in range(x,y+1,1):\n",
    "            sum += i \n",
    "        return sum                              #for문 안에 return이 있는 경우에는 반복문이 한번만 실행 (return후 함수가 종료되기 때문 )\n",
    "    else:\n",
    "        return \"매개변수의 타입이 잘못되었습니다.\"\n",
    "    \n",
    "print(func_4(3,7))                              #들여쓰기 안됨!!\n",
    "print(func_4(\"3\",7))\n",
    "def func_5(x,y=3):              #매개변수가 x,y인데 y에는 기본값을 3이라고 지정\n",
    "    print(x + y)\n",
    "\n",
    "func_5(5)                       #매개변수에서 기본값이 지정이 안되있는 x의 값만 인자 5를 삽입\n",
    "func_5(5,10)                    #매개변수의 기본값이 지정이 되어있는 y의 값도 인자값을 삽입을 해주면 변환이 되서 함수가 실행"
   ]
  },
  {
   "cell_type": "code",
   "execution_count": null,
   "metadata": {},
   "outputs": [],
   "source": [
    "1. 함수 생성 func_6()\n",
    "2. 매개 변수 x,y 선언\n",
    "3. x가 y보다 크면 두 수의 차를 구함\n",
    "4. x가 y보다 작으면 두 수의 합을 구함\n",
    "5. x와 y가 같으면 0을 되돌려 줌(return)\n",
    "6. y의 기본값은 10 "
   ]
  },
  {
   "cell_type": "code",
   "execution_count": 4,
   "metadata": {},
   "outputs": [
    {
     "name": "stdout",
     "output_type": "stream",
     "text": [
      "0\n",
      "None\n",
      "7\n",
      "None\n",
      "6\n",
      "None\n"
     ]
    }
   ],
   "source": [
    "def func_6(x,y=10):\n",
    " if x > y:\n",
    "    print (x-y)\n",
    " elif x < y:\n",
    "    print (x+y)\n",
    " else:\n",
    "    print (0)\n",
    "\n",
    "print(func_6(10))\n",
    "print(func_6(10,3))\n",
    "print(func_6(1,5))\n",
    "\n",
    "##함수를 실행하고 print를 하면 None이라는 값이 출력됨 -> return함수가 없음\n",
    "##이유는? func_6(10) 호출 ->else:구문에 있는 print(0) 실행 -> 반환은? ->반환되는 값이 존재하지 않는다. 왜냐하면 return구문이 없기 때문\n",
    "##출력의 첫줄은 함수 안에 있는 print가 출력 / 2번째 줄에 있는 None은 함수 실행하면서 print하는 부분"
   ]
  },
  {
   "cell_type": "code",
   "execution_count": null,
   "metadata": {},
   "outputs": [],
   "source": [
    "1.함수 생성\n",
    "2.매개 변수 1개\n",
    "3.구구단 출력. 인자값에 몇단을 출력 할지\n",
    "4.print()로 구현"
   ]
  },
  {
   "cell_type": "code",
   "execution_count": 26,
   "metadata": {},
   "outputs": [
    {
     "name": "stdout",
     "output_type": "stream",
     "text": [
      "2 X 1 = 2\n",
      "2 X 2 = 4\n",
      "2 X 3 = 6\n",
      "2 X 4 = 8\n",
      "2 X 5 = 10\n",
      "2 X 6 = 12\n",
      "2 X 7 = 14\n",
      "2 X 8 = 16\n",
      "2 X 9 = 18\n",
      "2 X 1 = 2\n",
      "2 X 2 = 4\n",
      "2 X 3 = 6\n",
      "2 X 4 = 8\n",
      "2 X 5 = 10\n",
      "2 X 6 = 12\n",
      "2 X 7 = 14\n",
      "2 X 8 = 16\n",
      "2 X 9 = 18\n",
      "None\n"
     ]
    }
   ],
   "source": [
    "def func_7(i):\n",
    "        for j in range(1,10,1):\n",
    "            print(\"%d X %d = %d\" %(i,j,i*j))\n",
    "\n",
    "func_7(2)\n",
    "print(func_7(2))"
   ]
  },
  {
   "cell_type": "code",
   "execution_count": 25,
   "metadata": {},
   "outputs": [
    {
     "name": "stdout",
     "output_type": "stream",
     "text": [
      "5 X 1 = 5\n",
      "5 X 2 = 10\n",
      "5 X 3 = 15\n",
      "5 X 4 = 20\n",
      "5 X 5 = 25\n",
      "5 X 6 = 30\n",
      "5 X 7 = 35\n",
      "5 X 8 = 40\n",
      "5 X 9 = 45\n"
     ]
    }
   ],
   "source": [
    "def func_7(x): \n",
    "    for i in range(1,10,1):\n",
    "        print(\"%d X %d = %d\" %(x,i,x*i))\n",
    "\n",
    "func_7(5)"
   ]
  },
  {
   "cell_type": "code",
   "execution_count": 23,
   "metadata": {},
   "outputs": [
    {
     "name": "stdout",
     "output_type": "stream",
     "text": [
      "5X1=5\n",
      "5X2=10\n",
      "5X3=15\n",
      "5X4=20\n",
      "5X5=25\n",
      "5X6=30\n",
      "5X7=35\n",
      "5X8=40\n",
      "5X9=45\n"
     ]
    }
   ],
   "source": [
    "def func_7(x): \n",
    "    for i in range(1,10,1):\n",
    "        print(f'{x}X{i}={x*i}')\n",
    "\n",
    "func_7(5)"
   ]
  },
  {
   "cell_type": "code",
   "execution_count": 28,
   "metadata": {},
   "outputs": [
    {
     "name": "stdout",
     "output_type": "stream",
     "text": [
      "5 6 7 8 9 10 11 12 13 14 15 "
     ]
    }
   ],
   "source": [
    "for i in range (0,20,1):\n",
    "    if i < 5:\n",
    "        continue\n",
    "    print(i,end=\" \")\n",
    "    if i == 15:\n",
    "        break"
   ]
  },
  {
   "cell_type": "code",
   "execution_count": 29,
   "metadata": {},
   "outputs": [
    {
     "name": "stdout",
     "output_type": "stream",
     "text": [
      "55\n"
     ]
    }
   ],
   "source": [
    "sum = 0\n",
    "\n",
    "i = 1\n",
    "\n",
    "while i < 11:\n",
    "    sum += i \n",
    "    i += 1\n",
    "\n",
    "print(sum)\n"
   ]
  }
 ],
 "metadata": {
  "interpreter": {
   "hash": "82ed002fa2d4956f5c6aec99bcefe0f73a9f79882f3c9e2319b14958a5896ac5"
  },
  "kernelspec": {
   "display_name": "Python 3.9.13 64-bit",
   "language": "python",
   "name": "python3"
  },
  "language_info": {
   "codemirror_mode": {
    "name": "ipython",
    "version": 3
   },
   "file_extension": ".py",
   "mimetype": "text/x-python",
   "name": "python",
   "nbconvert_exporter": "python",
   "pygments_lexer": "ipython3",
   "version": "3.9.13"
  },
  "orig_nbformat": 4
 },
 "nbformat": 4,
 "nbformat_minor": 2
}
