{
 "cells": [
  {
   "cell_type": "code",
   "execution_count": null,
   "metadata": {},
   "outputs": [],
   "source": [
    "pip install pymysql"
   ]
  },
  {
   "cell_type": "code",
   "execution_count": null,
   "metadata": {},
   "outputs": [],
   "source": [
    "import pymysql\n",
    "import pandas as pd"
   ]
  },
  {
   "cell_type": "code",
   "execution_count": 6,
   "metadata": {},
   "outputs": [],
   "source": [
    "_db = pymysql.connect(\n",
    "    user = 'root',\n",
    "    \n",
    "    passwd = '1234',\n",
    "    host = 'localhost',\n",
    "    db = 'ubion4'\n",
    "    )"
   ]
  },
  {
   "cell_type": "code",
   "execution_count": 7,
   "metadata": {},
   "outputs": [],
   "source": [
    "cursor = _db.cursor(pymysql.cursors.DictCursor)"
   ]
  },
  {
   "cell_type": "markdown",
   "metadata": {},
   "source": [
    "## UPDATE문에 조건문이 없다면?\n",
    "## UPDATE test SET password = '1'\n",
    "## 위의 sql문이 실행되면 데이터베이스와 테이블은 어떻게 변경이 되는가\n",
    "## test라는 테이블에 있는 모든 데이터에서 pasword 컬럼의 값이 1로 변경\n",
    "## where절을 사용하면 특정 데이터만 변경이 가능하다. \n",
    "## update,delete문은 where 조건을 특히 잘 사용해야 된다. "
   ]
  },
  {
   "cell_type": "markdown",
   "metadata": {},
   "source": [
    "## update문 -> input 2개 ID , password\n",
    "\n",
    "\n",
    "## 테이블은 test\n",
    "## update문 구조 -> password 변경 where id == input()\n",
    "## sql문 values 지정을 해서 execute commit 코드를 작성\n",
    "\n",
    "## update문 구조\n",
    "## update 테이블명 set 칼럼명 = 변경할 값 wehre 조건식"
   ]
  },
  {
   "cell_type": "code",
   "execution_count": 8,
   "metadata": {},
   "outputs": [],
   "source": [
    "\n",
    "## sql문 작성(where문은 꼭 작성해 줘야 함)\n",
    "sql =\"\"\"\n",
    "update test set password = %s where id = %s \n",
    "\"\"\"\n",
    "\n",
    "## ID,password 받아오는 input 2개를 만들고\n",
    "_id = input(\"ID: \")\n",
    "_pw = input(\"password: \")\n",
    "\n",
    "## 그 값들은 list로 변경\n",
    "_values= [_pw,_id]\n",
    "## execute\n",
    "cursor.execute(sql,_values)\n",
    "\n",
    "## commit\n",
    "_db.commit()"
   ]
  },
  {
   "cell_type": "code",
   "execution_count": 19,
   "metadata": {},
   "outputs": [],
   "source": [
    "## delete문\n",
    "sql =\"delete from test where id = %s \"\n",
    "## input값 1개 ID\n",
    "\n",
    "_id = input('ID: ')\n",
    "_values=[_id,]\n",
    "\n",
    "cursor.execute(sql,_values)\n",
    "_db.commit()\n",
    "## 해당 ID 값만 데이터가 삭제 되도록 sql문 구성"
   ]
  },
  {
   "cell_type": "code",
   "execution_count": 1,
   "metadata": {},
   "outputs": [
    {
     "name": "stdout",
     "output_type": "stream",
     "text": [
      "Requirement already satisfied: pymysql in c:\\users\\user\\appdata\\local\\programs\\python\\python39\\lib\\site-packages (1.0.2)\n",
      "Note: you may need to restart the kernel to use updated packages.\n"
     ]
    },
    {
     "name": "stderr",
     "output_type": "stream",
     "text": [
      "WARNING: You are using pip version 22.0.4; however, version 22.1.2 is available.\n",
      "You should consider upgrading via the 'c:\\Users\\user\\AppData\\Local\\Programs\\Python\\Python39\\python.exe -m pip install --upgrade pip' command.\n"
     ]
    }
   ],
   "source": [
    "pip install pymysql"
   ]
  },
  {
   "cell_type": "code",
   "execution_count": 2,
   "metadata": {},
   "outputs": [],
   "source": [
    "import pymysql\n",
    "import pandas as pd"
   ]
  },
  {
   "cell_type": "code",
   "execution_count": null,
   "metadata": {},
   "outputs": [],
   "source": [
    "_db = pymysql.connect(\n",
    "    user = 'root',\n",
    "    passwd = '1234',\n",
    "    host = 'localhost',\n",
    "    db = 'ubion4'\n",
    "    )"
   ]
  }
 ],
 "metadata": {
  "kernelspec": {
   "display_name": "Python 3.9.13 64-bit",
   "language": "python",
   "name": "python3"
  },
  "language_info": {
   "codemirror_mode": {
    "name": "ipython",
    "version": 3
   },
   "file_extension": ".py",
   "mimetype": "text/x-python",
   "name": "python",
   "nbconvert_exporter": "python",
   "pygments_lexer": "ipython3",
   "version": "3.9.13"
  },
  "orig_nbformat": 4,
  "vscode": {
   "interpreter": {
    "hash": "82ed002fa2d4956f5c6aec99bcefe0f73a9f79882f3c9e2319b14958a5896ac5"
   }
  }
 },
 "nbformat": 4,
 "nbformat_minor": 2
}
