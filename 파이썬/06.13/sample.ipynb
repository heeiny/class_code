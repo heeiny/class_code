{
 "cells": [
  {
   "cell_type": "markdown",
   "metadata": {},
   "source": [
    "12개의 파일 하나로 합치기"
   ]
  },
  {
   "cell_type": "code",
   "execution_count": null,
   "metadata": {},
   "outputs": [],
   "source": [
    "import pandas as pd\n",
    "import matplotlib.pyplot as plt\n",
    "import os"
   ]
  },
  {
   "cell_type": "code",
   "execution_count": null,
   "metadata": {},
   "outputs": [
    {
     "data": {
      "text/plain": [
       "5517"
      ]
     },
     "execution_count": 8,
     "metadata": {},
     "output_type": "execute_result"
    }
   ],
   "source": [
    "df = pd.read_csv(\"../csv/2017/201701_expense_list.csv\")\n",
    "len(df)"
   ]
  },
  {
   "cell_type": "code",
   "execution_count": null,
   "metadata": {},
   "outputs": [
    {
     "data": {
      "text/plain": [
       "'../csv/2017/'"
      ]
     },
     "execution_count": 6,
     "metadata": {},
     "output_type": "execute_result"
    }
   ],
   "source": [
    "## 파일명은 리스트화 해서 출력 \n",
    "## read_csv(상대경로+파일이름)\n",
    "\n",
    "path = \"../csv/2017/\"\n",
    "path\n",
    "## 리스트들을 하나의 프레임으로 출력\n",
    "## (행을 추가) index의 값은 초기화"
   ]
  },
  {
   "cell_type": "code",
   "execution_count": null,
   "metadata": {},
   "outputs": [
    {
     "data": {
      "text/plain": [
       "['201701_expense_list.csv',\n",
       " '201702_expense_list.csv',\n",
       " '201703_expense_list.csv',\n",
       " '201704_expense_list.csv',\n",
       " '201705_expense_list.csv',\n",
       " '201706_expense_list.csv',\n",
       " '201707_expense_list.csv',\n",
       " '201708_expense_list.csv',\n",
       " '201709_expense_list.csv',\n",
       " '201710_expense_list.csv',\n",
       " '201711_expense_list.csv',\n",
       " '201712_expense_list.csv']"
      ]
     },
     "execution_count": 4,
     "metadata": {},
     "output_type": "execute_result"
    }
   ],
   "source": [
    "#file의 리스트들을 출력\n",
    "\n",
    "files = os.listdir(\"../csv/2017/\")\n",
    "files"
   ]
  },
  {
   "cell_type": "code",
   "execution_count": null,
   "metadata": {},
   "outputs": [
    {
     "data": {
      "text/html": [
       "<div>\n",
       "<style scoped>\n",
       "    .dataframe tbody tr th:only-of-type {\n",
       "        vertical-align: middle;\n",
       "    }\n",
       "\n",
       "    .dataframe tbody tr th {\n",
       "        vertical-align: top;\n",
       "    }\n",
       "\n",
       "    .dataframe thead th {\n",
       "        text-align: right;\n",
       "    }\n",
       "</style>\n",
       "<table border=\"1\" class=\"dataframe\">\n",
       "  <thead>\n",
       "    <tr style=\"text-align: right;\">\n",
       "      <th></th>\n",
       "      <th>nid</th>\n",
       "      <th>title</th>\n",
       "      <th>url</th>\n",
       "      <th>dept_nm_lvl_1</th>\n",
       "      <th>dept_nm_lvl_2</th>\n",
       "      <th>dept_nm_lvl_3</th>\n",
       "      <th>dept_nm_lvl_4</th>\n",
       "      <th>dept_nm_lvl_5</th>\n",
       "      <th>exec_yr</th>\n",
       "      <th>exec_month</th>\n",
       "      <th>expense_budget</th>\n",
       "      <th>expense_execution</th>\n",
       "      <th>category</th>\n",
       "      <th>dept_nm_full</th>\n",
       "      <th>exec_dt</th>\n",
       "      <th>exec_loc</th>\n",
       "      <th>exec_purpose</th>\n",
       "      <th>target_nm</th>\n",
       "      <th>payment_method</th>\n",
       "      <th>exec_amount</th>\n",
       "    </tr>\n",
       "  </thead>\n",
       "  <tbody>\n",
       "    <tr>\n",
       "      <th>0</th>\n",
       "      <td>11430252</td>\n",
       "      <td>2017년 1월 장애인복지정책과 업무추진비 집행내역</td>\n",
       "      <td>http://opengov.seoul.go.kr/public/11430252</td>\n",
       "      <td>서울시본청</td>\n",
       "      <td>복지본부</td>\n",
       "      <td>장애인복지정책과</td>\n",
       "      <td>NaN</td>\n",
       "      <td>NaN</td>\n",
       "      <td>2017</td>\n",
       "      <td>1</td>\n",
       "      <td>NaN</td>\n",
       "      <td>NaN</td>\n",
       "      <td>NaN</td>\n",
       "      <td>복지본부 장애인복지정책과</td>\n",
       "      <td>2017-01-26 13:10</td>\n",
       "      <td>동해일식 (중구 무교동)</td>\n",
       "      <td>기본소득과 장애인복지 논의간담회</td>\n",
       "      <td>장애인복지정책팀장 외 2명</td>\n",
       "      <td>카드</td>\n",
       "      <td>76000</td>\n",
       "    </tr>\n",
       "    <tr>\n",
       "      <th>1</th>\n",
       "      <td>11430252</td>\n",
       "      <td>2017년 1월 장애인복지정책과 업무추진비 집행내역</td>\n",
       "      <td>http://opengov.seoul.go.kr/public/11430252</td>\n",
       "      <td>서울시본청</td>\n",
       "      <td>복지본부</td>\n",
       "      <td>장애인복지정책과</td>\n",
       "      <td>NaN</td>\n",
       "      <td>NaN</td>\n",
       "      <td>2017</td>\n",
       "      <td>1</td>\n",
       "      <td>NaN</td>\n",
       "      <td>NaN</td>\n",
       "      <td>NaN</td>\n",
       "      <td>복지본부 장애인복지정책과</td>\n",
       "      <td>2017-01-25 22:41</td>\n",
       "      <td>김앤장 (중구 무교로)</td>\n",
       "      <td>장애인단체 활동지원 논의간담회</td>\n",
       "      <td>장애인복지정책과장 외 3명</td>\n",
       "      <td>카드</td>\n",
       "      <td>102000</td>\n",
       "    </tr>\n",
       "    <tr>\n",
       "      <th>2</th>\n",
       "      <td>11430252</td>\n",
       "      <td>2017년 1월 장애인복지정책과 업무추진비 집행내역</td>\n",
       "      <td>http://opengov.seoul.go.kr/public/11430252</td>\n",
       "      <td>서울시본청</td>\n",
       "      <td>복지본부</td>\n",
       "      <td>장애인복지정책과</td>\n",
       "      <td>NaN</td>\n",
       "      <td>NaN</td>\n",
       "      <td>2017</td>\n",
       "      <td>1</td>\n",
       "      <td>NaN</td>\n",
       "      <td>NaN</td>\n",
       "      <td>NaN</td>\n",
       "      <td>복지본부 장애인복지정책과</td>\n",
       "      <td>2017-01-24 12:35</td>\n",
       "      <td>왕왕생고기 (중구 을지로)</td>\n",
       "      <td>장애인 기본돌봄 복지시책 논의간담회</td>\n",
       "      <td>장애인복지정책팀장외7명</td>\n",
       "      <td>카드</td>\n",
       "      <td>80000</td>\n",
       "    </tr>\n",
       "    <tr>\n",
       "      <th>3</th>\n",
       "      <td>11430252</td>\n",
       "      <td>2017년 1월 장애인복지정책과 업무추진비 집행내역</td>\n",
       "      <td>http://opengov.seoul.go.kr/public/11430252</td>\n",
       "      <td>서울시본청</td>\n",
       "      <td>복지본부</td>\n",
       "      <td>장애인복지정책과</td>\n",
       "      <td>NaN</td>\n",
       "      <td>NaN</td>\n",
       "      <td>2017</td>\n",
       "      <td>1</td>\n",
       "      <td>NaN</td>\n",
       "      <td>NaN</td>\n",
       "      <td>NaN</td>\n",
       "      <td>복지본부 장애인복지정책과</td>\n",
       "      <td>2017-01-24 12:23</td>\n",
       "      <td>서울불고기 (중구 남대문로)</td>\n",
       "      <td>서울시일자리통합지원센터 운영개선 논의간담회</td>\n",
       "      <td>장애인복지정책과장외5명</td>\n",
       "      <td>카드</td>\n",
       "      <td>112000</td>\n",
       "    </tr>\n",
       "    <tr>\n",
       "      <th>4</th>\n",
       "      <td>11430252</td>\n",
       "      <td>2017년 1월 장애인복지정책과 업무추진비 집행내역</td>\n",
       "      <td>http://opengov.seoul.go.kr/public/11430252</td>\n",
       "      <td>서울시본청</td>\n",
       "      <td>복지본부</td>\n",
       "      <td>장애인복지정책과</td>\n",
       "      <td>NaN</td>\n",
       "      <td>NaN</td>\n",
       "      <td>2017</td>\n",
       "      <td>1</td>\n",
       "      <td>NaN</td>\n",
       "      <td>NaN</td>\n",
       "      <td>NaN</td>\n",
       "      <td>복지본부 장애인복지정책과</td>\n",
       "      <td>2017-01-23 15:10</td>\n",
       "      <td>서울시청신매점</td>\n",
       "      <td>부서운영에 필요한 음료수 구매</td>\n",
       "      <td>장애인복지정책과직원</td>\n",
       "      <td>카드</td>\n",
       "      <td>16000</td>\n",
       "    </tr>\n",
       "  </tbody>\n",
       "</table>\n",
       "</div>"
      ],
      "text/plain": [
       "        nid                         title  \\\n",
       "0  11430252  2017년 1월 장애인복지정책과 업무추진비 집행내역   \n",
       "1  11430252  2017년 1월 장애인복지정책과 업무추진비 집행내역   \n",
       "2  11430252  2017년 1월 장애인복지정책과 업무추진비 집행내역   \n",
       "3  11430252  2017년 1월 장애인복지정책과 업무추진비 집행내역   \n",
       "4  11430252  2017년 1월 장애인복지정책과 업무추진비 집행내역   \n",
       "\n",
       "                                          url dept_nm_lvl_1 dept_nm_lvl_2  \\\n",
       "0  http://opengov.seoul.go.kr/public/11430252         서울시본청          복지본부   \n",
       "1  http://opengov.seoul.go.kr/public/11430252         서울시본청          복지본부   \n",
       "2  http://opengov.seoul.go.kr/public/11430252         서울시본청          복지본부   \n",
       "3  http://opengov.seoul.go.kr/public/11430252         서울시본청          복지본부   \n",
       "4  http://opengov.seoul.go.kr/public/11430252         서울시본청          복지본부   \n",
       "\n",
       "  dept_nm_lvl_3 dept_nm_lvl_4 dept_nm_lvl_5  exec_yr  exec_month  \\\n",
       "0      장애인복지정책과           NaN           NaN     2017           1   \n",
       "1      장애인복지정책과           NaN           NaN     2017           1   \n",
       "2      장애인복지정책과           NaN           NaN     2017           1   \n",
       "3      장애인복지정책과           NaN           NaN     2017           1   \n",
       "4      장애인복지정책과           NaN           NaN     2017           1   \n",
       "\n",
       "   expense_budget  expense_execution category   dept_nm_full  \\\n",
       "0             NaN                NaN      NaN  복지본부 장애인복지정책과   \n",
       "1             NaN                NaN      NaN  복지본부 장애인복지정책과   \n",
       "2             NaN                NaN      NaN  복지본부 장애인복지정책과   \n",
       "3             NaN                NaN      NaN  복지본부 장애인복지정책과   \n",
       "4             NaN                NaN      NaN  복지본부 장애인복지정책과   \n",
       "\n",
       "            exec_dt         exec_loc             exec_purpose       target_nm  \\\n",
       "0  2017-01-26 13:10    동해일식 (중구 무교동)        기본소득과 장애인복지 논의간담회  장애인복지정책팀장 외 2명   \n",
       "1  2017-01-25 22:41     김앤장 (중구 무교로)         장애인단체 활동지원 논의간담회  장애인복지정책과장 외 3명   \n",
       "2  2017-01-24 12:35   왕왕생고기 (중구 을지로)      장애인 기본돌봄 복지시책 논의간담회    장애인복지정책팀장외7명   \n",
       "3  2017-01-24 12:23  서울불고기 (중구 남대문로)  서울시일자리통합지원센터 운영개선 논의간담회    장애인복지정책과장외5명   \n",
       "4  2017-01-23 15:10          서울시청신매점         부서운영에 필요한 음료수 구매      장애인복지정책과직원   \n",
       "\n",
       "  payment_method  exec_amount  \n",
       "0             카드        76000  \n",
       "1             카드       102000  \n",
       "2             카드        80000  \n",
       "3             카드       112000  \n",
       "4             카드        16000  "
      ]
     },
     "execution_count": 5,
     "metadata": {},
     "output_type": "execute_result"
    }
   ],
   "source": [
    "#반복문 for  # 파일들의 리스트를 concat(합치는 것)\n",
    "\n",
    "df_2017 = pd.DataFrame()\n",
    "\n",
    "for file in files:\n",
    "    df = pd.read_csv(path+file)  ## file을 12번이 반복. 12개의 리스트가 존재하니까\n",
    "    df_2017 = pd.concat([df_2017,df], ignore_index=True)  ##ignore_index = True\n",
    "\n",
    "\n",
    "df_2017.head()"
   ]
  },
  {
   "cell_type": "code",
   "execution_count": null,
   "metadata": {},
   "outputs": [
    {
     "data": {
      "text/plain": [
       "70132"
      ]
     },
     "execution_count": 7,
     "metadata": {},
     "output_type": "execute_result"
    }
   ],
   "source": [
    "len(df_2017)"
   ]
  },
  {
   "cell_type": "code",
   "execution_count": null,
   "metadata": {},
   "outputs": [],
   "source": [
    "path = \"../csv/2017/\""
   ]
  },
  {
   "cell_type": "code",
   "execution_count": null,
   "metadata": {},
   "outputs": [],
   "source": [
    "## csv 파일 로드\n",
    "## json -> ???   dict형태의 파일\n",
    "## xlsx 엑셀파일 \n",
    "\n",
    "## json 파일 로드\n",
    "json_sample = pd.read_json(\"../csv/2019/201901_expense_list.json\")\n",
    "json_sample.head()"
   ]
  },
  {
   "cell_type": "code",
   "execution_count": null,
   "metadata": {},
   "outputs": [
    {
     "name": "stdout",
     "output_type": "stream",
     "text": [
      "Requirement already satisfied: openpyxl in c:\\users\\user\\appdata\\local\\programs\\python\\python39\\lib\\site-packages (3.0.10)Note: you may need to restart the kernel to use updated packages.\n"
     ]
    },
    {
     "name": "stderr",
     "output_type": "stream",
     "text": [
      "WARNING: You are using pip version 22.0.4; however, version 22.1.2 is available.\n",
      "You should consider upgrading via the 'c:\\Users\\user\\AppData\\Local\\Programs\\Python\\Python39\\python.exe -m pip install --upgrade pip' command.\n"
     ]
    },
    {
     "name": "stdout",
     "output_type": "stream",
     "text": [
      "\n",
      "Requirement already satisfied: et-xmlfile in c:\\users\\user\\appdata\\local\\programs\\python\\python39\\lib\\site-packages (from openpyxl) (1.1.0)\n"
     ]
    }
   ],
   "source": [
    "pip install openpyxl            #엑셀 작업을 위해 설치하는 library"
   ]
  },
  {
   "cell_type": "code",
   "execution_count": null,
   "metadata": {},
   "outputs": [
    {
     "ename": "FileNotFoundError",
     "evalue": "[Errno 2] No such file or directory: '../csv/2020/202001_expense_list.slsx'",
     "output_type": "error",
     "traceback": [
      "\u001b[1;31m---------------------------------------------------------------------------\u001b[0m",
      "\u001b[1;31mFileNotFoundError\u001b[0m                         Traceback (most recent call last)",
      "\u001b[1;32mc:\\Users\\user\\Desktop\\금융빅데이터\\2022.06.07\\06\\06.13\\sample.ipynb Cell 10'\u001b[0m in \u001b[0;36m<cell line: 1>\u001b[1;34m()\u001b[0m\n\u001b[1;32m----> <a href='vscode-notebook-cell:/c%3A/Users/user/Desktop/%EA%B8%88%EC%9C%B5%EB%B9%85%EB%8D%B0%EC%9D%B4%ED%84%B0/2022.06.07/06/06.13/sample.ipynb#ch0000009?line=0'>1</a>\u001b[0m pd\u001b[39m.\u001b[39;49mread_excel(\u001b[39m\"\u001b[39;49m\u001b[39m../csv/2020/202001_expense_list.slsx\u001b[39;49m\u001b[39m\"\u001b[39;49m,engine\u001b[39m=\u001b[39;49m\u001b[39m'\u001b[39;49m\u001b[39mopenpyxl\u001b[39;49m\u001b[39m'\u001b[39;49m)\n",
      "File \u001b[1;32mc:\\Users\\user\\AppData\\Local\\Programs\\Python\\Python39\\lib\\site-packages\\pandas\\util\\_decorators.py:311\u001b[0m, in \u001b[0;36mdeprecate_nonkeyword_arguments.<locals>.decorate.<locals>.wrapper\u001b[1;34m(*args, **kwargs)\u001b[0m\n\u001b[0;32m    305\u001b[0m \u001b[39mif\u001b[39;00m \u001b[39mlen\u001b[39m(args) \u001b[39m>\u001b[39m num_allow_args:\n\u001b[0;32m    306\u001b[0m     warnings\u001b[39m.\u001b[39mwarn(\n\u001b[0;32m    307\u001b[0m         msg\u001b[39m.\u001b[39mformat(arguments\u001b[39m=\u001b[39marguments),\n\u001b[0;32m    308\u001b[0m         \u001b[39mFutureWarning\u001b[39;00m,\n\u001b[0;32m    309\u001b[0m         stacklevel\u001b[39m=\u001b[39mstacklevel,\n\u001b[0;32m    310\u001b[0m     )\n\u001b[1;32m--> 311\u001b[0m \u001b[39mreturn\u001b[39;00m func(\u001b[39m*\u001b[39margs, \u001b[39m*\u001b[39m\u001b[39m*\u001b[39mkwargs)\n",
      "File \u001b[1;32mc:\\Users\\user\\AppData\\Local\\Programs\\Python\\Python39\\lib\\site-packages\\pandas\\io\\excel\\_base.py:457\u001b[0m, in \u001b[0;36mread_excel\u001b[1;34m(io, sheet_name, header, names, index_col, usecols, squeeze, dtype, engine, converters, true_values, false_values, skiprows, nrows, na_values, keep_default_na, na_filter, verbose, parse_dates, date_parser, thousands, decimal, comment, skipfooter, convert_float, mangle_dupe_cols, storage_options)\u001b[0m\n\u001b[0;32m    455\u001b[0m \u001b[39mif\u001b[39;00m \u001b[39mnot\u001b[39;00m \u001b[39misinstance\u001b[39m(io, ExcelFile):\n\u001b[0;32m    456\u001b[0m     should_close \u001b[39m=\u001b[39m \u001b[39mTrue\u001b[39;00m\n\u001b[1;32m--> 457\u001b[0m     io \u001b[39m=\u001b[39m ExcelFile(io, storage_options\u001b[39m=\u001b[39;49mstorage_options, engine\u001b[39m=\u001b[39;49mengine)\n\u001b[0;32m    458\u001b[0m \u001b[39melif\u001b[39;00m engine \u001b[39mand\u001b[39;00m engine \u001b[39m!=\u001b[39m io\u001b[39m.\u001b[39mengine:\n\u001b[0;32m    459\u001b[0m     \u001b[39mraise\u001b[39;00m \u001b[39mValueError\u001b[39;00m(\n\u001b[0;32m    460\u001b[0m         \u001b[39m\"\u001b[39m\u001b[39mEngine should not be specified when passing \u001b[39m\u001b[39m\"\u001b[39m\n\u001b[0;32m    461\u001b[0m         \u001b[39m\"\u001b[39m\u001b[39man ExcelFile - ExcelFile already has the engine set\u001b[39m\u001b[39m\"\u001b[39m\n\u001b[0;32m    462\u001b[0m     )\n",
      "File \u001b[1;32mc:\\Users\\user\\AppData\\Local\\Programs\\Python\\Python39\\lib\\site-packages\\pandas\\io\\excel\\_base.py:1419\u001b[0m, in \u001b[0;36mExcelFile.__init__\u001b[1;34m(self, path_or_buffer, engine, storage_options)\u001b[0m\n\u001b[0;32m   1416\u001b[0m \u001b[39mself\u001b[39m\u001b[39m.\u001b[39mengine \u001b[39m=\u001b[39m engine\n\u001b[0;32m   1417\u001b[0m \u001b[39mself\u001b[39m\u001b[39m.\u001b[39mstorage_options \u001b[39m=\u001b[39m storage_options\n\u001b[1;32m-> 1419\u001b[0m \u001b[39mself\u001b[39m\u001b[39m.\u001b[39m_reader \u001b[39m=\u001b[39m \u001b[39mself\u001b[39;49m\u001b[39m.\u001b[39;49m_engines[engine](\u001b[39mself\u001b[39;49m\u001b[39m.\u001b[39;49m_io, storage_options\u001b[39m=\u001b[39;49mstorage_options)\n",
      "File \u001b[1;32mc:\\Users\\user\\AppData\\Local\\Programs\\Python\\Python39\\lib\\site-packages\\pandas\\io\\excel\\_openpyxl.py:525\u001b[0m, in \u001b[0;36mOpenpyxlReader.__init__\u001b[1;34m(self, filepath_or_buffer, storage_options)\u001b[0m\n\u001b[0;32m    514\u001b[0m \u001b[39m\"\"\"\u001b[39;00m\n\u001b[0;32m    515\u001b[0m \u001b[39mReader using openpyxl engine.\u001b[39;00m\n\u001b[0;32m    516\u001b[0m \n\u001b[1;32m   (...)\u001b[0m\n\u001b[0;32m    522\u001b[0m \u001b[39m    passed to fsspec for appropriate URLs (see ``_get_filepath_or_buffer``)\u001b[39;00m\n\u001b[0;32m    523\u001b[0m \u001b[39m\"\"\"\u001b[39;00m\n\u001b[0;32m    524\u001b[0m import_optional_dependency(\u001b[39m\"\u001b[39m\u001b[39mopenpyxl\u001b[39m\u001b[39m\"\u001b[39m)\n\u001b[1;32m--> 525\u001b[0m \u001b[39msuper\u001b[39;49m()\u001b[39m.\u001b[39;49m\u001b[39m__init__\u001b[39;49m(filepath_or_buffer, storage_options\u001b[39m=\u001b[39;49mstorage_options)\n",
      "File \u001b[1;32mc:\\Users\\user\\AppData\\Local\\Programs\\Python\\Python39\\lib\\site-packages\\pandas\\io\\excel\\_base.py:508\u001b[0m, in \u001b[0;36mBaseExcelReader.__init__\u001b[1;34m(self, filepath_or_buffer, storage_options)\u001b[0m\n\u001b[0;32m    504\u001b[0m \u001b[39mself\u001b[39m\u001b[39m.\u001b[39mhandles \u001b[39m=\u001b[39m IOHandles(\n\u001b[0;32m    505\u001b[0m     handle\u001b[39m=\u001b[39mfilepath_or_buffer, compression\u001b[39m=\u001b[39m{\u001b[39m\"\u001b[39m\u001b[39mmethod\u001b[39m\u001b[39m\"\u001b[39m: \u001b[39mNone\u001b[39;00m}\n\u001b[0;32m    506\u001b[0m )\n\u001b[0;32m    507\u001b[0m \u001b[39mif\u001b[39;00m \u001b[39mnot\u001b[39;00m \u001b[39misinstance\u001b[39m(filepath_or_buffer, (ExcelFile, \u001b[39mself\u001b[39m\u001b[39m.\u001b[39m_workbook_class)):\n\u001b[1;32m--> 508\u001b[0m     \u001b[39mself\u001b[39m\u001b[39m.\u001b[39mhandles \u001b[39m=\u001b[39m get_handle(\n\u001b[0;32m    509\u001b[0m         filepath_or_buffer, \u001b[39m\"\u001b[39;49m\u001b[39mrb\u001b[39;49m\u001b[39m\"\u001b[39;49m, storage_options\u001b[39m=\u001b[39;49mstorage_options, is_text\u001b[39m=\u001b[39;49m\u001b[39mFalse\u001b[39;49;00m\n\u001b[0;32m    510\u001b[0m     )\n\u001b[0;32m    512\u001b[0m \u001b[39mif\u001b[39;00m \u001b[39misinstance\u001b[39m(\u001b[39mself\u001b[39m\u001b[39m.\u001b[39mhandles\u001b[39m.\u001b[39mhandle, \u001b[39mself\u001b[39m\u001b[39m.\u001b[39m_workbook_class):\n\u001b[0;32m    513\u001b[0m     \u001b[39mself\u001b[39m\u001b[39m.\u001b[39mbook \u001b[39m=\u001b[39m \u001b[39mself\u001b[39m\u001b[39m.\u001b[39mhandles\u001b[39m.\u001b[39mhandle\n",
      "File \u001b[1;32mc:\\Users\\user\\AppData\\Local\\Programs\\Python\\Python39\\lib\\site-packages\\pandas\\io\\common.py:798\u001b[0m, in \u001b[0;36mget_handle\u001b[1;34m(path_or_buf, mode, encoding, compression, memory_map, is_text, errors, storage_options)\u001b[0m\n\u001b[0;32m    789\u001b[0m         handle \u001b[39m=\u001b[39m \u001b[39mopen\u001b[39m(\n\u001b[0;32m    790\u001b[0m             handle,\n\u001b[0;32m    791\u001b[0m             ioargs\u001b[39m.\u001b[39mmode,\n\u001b[1;32m   (...)\u001b[0m\n\u001b[0;32m    794\u001b[0m             newline\u001b[39m=\u001b[39m\u001b[39m\"\u001b[39m\u001b[39m\"\u001b[39m,\n\u001b[0;32m    795\u001b[0m         )\n\u001b[0;32m    796\u001b[0m     \u001b[39melse\u001b[39;00m:\n\u001b[0;32m    797\u001b[0m         \u001b[39m# Binary mode\u001b[39;00m\n\u001b[1;32m--> 798\u001b[0m         handle \u001b[39m=\u001b[39m \u001b[39mopen\u001b[39;49m(handle, ioargs\u001b[39m.\u001b[39;49mmode)\n\u001b[0;32m    799\u001b[0m     handles\u001b[39m.\u001b[39mappend(handle)\n\u001b[0;32m    801\u001b[0m \u001b[39m# Convert BytesIO or file objects passed with an encoding\u001b[39;00m\n",
      "\u001b[1;31mFileNotFoundError\u001b[0m: [Errno 2] No such file or directory: '../csv/2020/202001_expense_list.slsx'"
     ]
    }
   ],
   "source": [
    "pd.read_excel(\"../csv/2020/202001_expense_list.slsx\",engine='openpyxl')"
   ]
  },
  {
   "cell_type": "code",
   "execution_count": null,
   "metadata": {},
   "outputs": [],
   "source": [
    "## 2017년도 데이터는 df_2017 \n",
    "## 2018,2019,2020 데이터를 df_연도 변수를 지정\n",
    "## df_2018"
   ]
  },
  {
   "cell_type": "markdown",
   "metadata": {},
   "source": [
    "## df_2018 데이터프레임 만들기\n",
    "1. 파일의 이름들을 리스트화 해서 변수에 지정\n",
    "2. 파일들이 있는 상대경로를 지정\n",
    "3. df_2018이라는 빈 데이터프레임을 생성\n",
    "4. 파일 이름들이 있는 리스트를 for문을 이용하여 반복\n",
    "  > df라는 변수에 파일을 로드\n",
    "  > df_2018 concat() 함수를 이용하여 행을 추가하는 작업"
   ]
  },
  {
   "cell_type": "code",
   "execution_count": null,
   "metadata": {},
   "outputs": [
    {
     "data": {
      "text/plain": [
       "72218"
      ]
     },
     "execution_count": 14,
     "metadata": {},
     "output_type": "execute_result"
    }
   ],
   "source": [
    "#1 파일의 이름들을 리스트로 로드\n",
    "df_2018 = pd.read_csv(\"../csv/2018/201801_expense_list.csv\")\n",
    "df_2018\n",
    "#2 파일의 위치를 변수에 선언\n",
    "path = \"../csv/2018/\"\n",
    "#3 리스트들 모아보기\n",
    "files = os.listdir(\"../csv/2018/\")\n",
    "files\n",
    "#4 데이터 프레임 생성\n",
    "df_2018 = pd.DataFrame()\n",
    "\n",
    "for file in files:\n",
    "    df = pd.read_csv(path+file)  ## file을 12번이 반복\n",
    "    df_2018 = pd.concat([df_2018,df], ignore_index=True)  ##ignore_index = True\n",
    "\n",
    "\n",
    "df_2018.head()\n",
    "len(df_2018)\n"
   ]
  },
  {
   "cell_type": "code",
   "execution_count": null,
   "metadata": {},
   "outputs": [
    {
     "data": {
      "text/plain": [
       "74207"
      ]
     },
     "execution_count": 15,
     "metadata": {},
     "output_type": "execute_result"
    }
   ],
   "source": [
    "#1 파일의 이름들을 리스트로 로드\n",
    "# df_2019 = pd.read_csv(\"../csv/2019/201901_expense_list.json\")\n",
    "# df_2019\n",
    "#2  파일의 위치를 변수에 선언\n",
    "path = \"../csv/2019/\"\n",
    "#3 리스트들 모아보기\n",
    "files = os.listdir(\"../csv/2019/\")\n",
    "files\n",
    "#4 데이터 프레임 생성\n",
    "df_2019 = pd.DataFrame()\n",
    "\n",
    "for file in files:\n",
    "    df = pd.read_json(path+file)  ## file을 12번이 반복\n",
    "    df_2019 = pd.concat([df_2019,df], ignore_index=True)  ##ignore_index = True\n",
    "\n",
    "\n",
    "df_2019.head()\n",
    "len(df_2019)"
   ]
  },
  {
   "cell_type": "code",
   "execution_count": null,
   "metadata": {},
   "outputs": [],
   "source": [
    "#1 파일의 이름들을 리스트로 로드\n",
    "# df_2020 = pd.read_csv(\"../csv/2020/202001_expense_list.xlsx\")\n",
    "# df_2020\n",
    "#2 파일의 위치를 변수에 선언\n",
    "path = \"../csv/2020/\"\n",
    "#3 리스트들 모아보기\n",
    "files = os.listdir(\"../csv/2020/\")\n",
    "files\n",
    "#4 데이터 프레임 생성\n",
    "df_2020 = pd.DataFrame()\n",
    "\n",
    "for file in files:\n",
    "    df = pd.read_excel(path+file)  ## file을 12번이 반복\n",
    "    df_2020 = pd.concat([df_2020,df], ignore_index=True)  ##ignore_index = True\n",
    "\n",
    "\n",
    "df_2020.head()"
   ]
  },
  {
   "cell_type": "code",
   "execution_count": null,
   "metadata": {},
   "outputs": [
    {
     "data": {
      "text/plain": [
       "['202101_expense_list.csv',\n",
       " '202101_expense_list.json',\n",
       " '202101_expense_list.xlsx',\n",
       " '202101_expense_list.xml',\n",
       " '202102_expense_list.csv',\n",
       " '202102_expense_list.json',\n",
       " '202102_expense_list.xlsx',\n",
       " '202102_expense_list.xml',\n",
       " '202103_expense_list.csv',\n",
       " '202103_expense_list.json',\n",
       " '202103_expense_list.xlsx',\n",
       " '202103_expense_list.xml',\n",
       " '202104_expense_list.csv',\n",
       " '202104_expense_list.json',\n",
       " '202104_expense_list.xlsx',\n",
       " '202104_expense_list.xml',\n",
       " '202105_expense_list.csv',\n",
       " '202105_expense_list.json',\n",
       " '202105_expense_list.xlsx',\n",
       " '202105_expense_list.xml',\n",
       " '202106_expense_list.csv',\n",
       " '202106_expense_list.json',\n",
       " '202106_expense_list.xlsx',\n",
       " '202106_expense_list.xml',\n",
       " '202107_expense_list.csv',\n",
       " '202107_expense_list.json',\n",
       " '202107_expense_list.xlsx',\n",
       " '202107_expense_list.xml',\n",
       " '202108_expense_list.csv',\n",
       " '202108_expense_list.json',\n",
       " '202108_expense_list.xlsx',\n",
       " '202108_expense_list.xml',\n",
       " '202109_expense_list.csv',\n",
       " '202109_expense_list.json',\n",
       " '202109_expense_list.xlsx',\n",
       " '202109_expense_list.xml',\n",
       " '202110_expense_list.csv',\n",
       " '202110_expense_list.json',\n",
       " '202110_expense_list.xlsx',\n",
       " '202110_expense_list.xml',\n",
       " '202111_expense_list.csv',\n",
       " '202111_expense_list.json',\n",
       " '202111_expense_list.xlsx',\n",
       " '202111_expense_list.xml',\n",
       " '202112_expense_list.csv',\n",
       " '202112_expense_list.json',\n",
       " '202112_expense_list.xlsx',\n",
       " '202112_expense_list.xml']"
      ]
     },
     "execution_count": 12,
     "metadata": {},
     "output_type": "execute_result"
    }
   ],
   "source": [
    "path = \"../csv/2021/\"\n",
    "files = os.listdir(path)\n",
    "files "
   ]
  },
  {
   "cell_type": "code",
   "execution_count": null,
   "metadata": {},
   "outputs": [],
   "source": [
    "files = [file for file in files if file.endswith(\".csv\")]\n",
    "files\n"
   ]
  },
  {
   "cell_type": "code",
   "execution_count": null,
   "metadata": {},
   "outputs": [
    {
     "data": {
      "text/plain": [
       "83819"
      ]
     },
     "execution_count": 19,
     "metadata": {},
     "output_type": "execute_result"
    }
   ],
   "source": [
    "df_2021 = pd.DataFrame()\n",
    "\n",
    "for file in files:\n",
    "    df = pd.read_csv(path+file)\n",
    "    df_2021 = pd.concat([df_2021,df], ignore_index = True)\n",
    "\n",
    "len(df_2021)"
   ]
  },
  {
   "cell_type": "code",
   "execution_count": null,
   "metadata": {},
   "outputs": [
    {
     "name": "stdout",
     "output_type": "stream",
     "text": [
      "<class 'pandas.core.frame.DataFrame'>\n",
      "RangeIndex: 70132 entries, 0 to 70131\n",
      "Data columns (total 20 columns):\n",
      " #   Column             Non-Null Count  Dtype  \n",
      "---  ------             --------------  -----  \n",
      " 0   nid                70132 non-null  int64  \n",
      " 1   title              70132 non-null  object \n",
      " 2   url                70132 non-null  object \n",
      " 3   dept_nm_lvl_1      70132 non-null  object \n",
      " 4   dept_nm_lvl_2      70074 non-null  object \n",
      " 5   dept_nm_lvl_3      61262 non-null  object \n",
      " 6   dept_nm_lvl_4      17939 non-null  object \n",
      " 7   dept_nm_lvl_5      3474 non-null   object \n",
      " 8   exec_yr            70132 non-null  int64  \n",
      " 9   exec_month         70132 non-null  int64  \n",
      " 10  expense_budget     3108 non-null   float64\n",
      " 11  expense_execution  2805 non-null   float64\n",
      " 12  category           1259 non-null   object \n",
      " 13  dept_nm_full       70053 non-null  object \n",
      " 14  exec_dt            70132 non-null  object \n",
      " 15  exec_loc           69360 non-null  object \n",
      " 16  exec_purpose       70110 non-null  object \n",
      " 17  target_nm          69597 non-null  object \n",
      " 18  payment_method     69929 non-null  object \n",
      " 19  exec_amount        70132 non-null  int64  \n",
      "dtypes: float64(2), int64(4), object(14)\n",
      "memory usage: 10.7+ MB\n"
     ]
    }
   ],
   "source": [
    "## 2017년도 데이터만 가지고 작업\n",
    "df_2017.info()"
   ]
  },
  {
   "cell_type": "code",
   "execution_count": null,
   "metadata": {},
   "outputs": [
    {
     "data": {
      "text/plain": [
       "nid                      0\n",
       "title                    0\n",
       "url                      0\n",
       "dept_nm_lvl_1            0\n",
       "dept_nm_lvl_2           58\n",
       "dept_nm_lvl_3         8870\n",
       "dept_nm_lvl_4        52193\n",
       "dept_nm_lvl_5        66658\n",
       "exec_yr                  0\n",
       "exec_month               0\n",
       "expense_budget       67024\n",
       "expense_execution    67327\n",
       "category             68873\n",
       "dept_nm_full            79\n",
       "exec_dt                  0\n",
       "exec_loc               772\n",
       "exec_purpose            22\n",
       "target_nm              535\n",
       "payment_method         203\n",
       "exec_amount              0\n",
       "dtype: int64"
      ]
     },
     "execution_count": 21,
     "metadata": {},
     "output_type": "execute_result"
    }
   ],
   "source": [
    "df_2017.isna().sum()"
   ]
  },
  {
   "cell_type": "code",
   "execution_count": null,
   "metadata": {},
   "outputs": [
    {
     "data": {
      "text/plain": [
       "서울시본청          42483\n",
       "사업소            16817\n",
       "소방재난본부(소방서)     7551\n",
       "의회사무처           3281\n",
       "Name: dept_nm_lvl_1, dtype: int64"
      ]
     },
     "execution_count": 22,
     "metadata": {},
     "output_type": "execute_result"
    }
   ],
   "source": [
    "df_2017[\"dept_nm_lvl_1\"].value_counts()"
   ]
  },
  {
   "cell_type": "code",
   "execution_count": null,
   "metadata": {},
   "outputs": [
    {
     "data": {
      "text/plain": [
       "exec_month\n",
       "1      710368860\n",
       "2      712679864\n",
       "3      737250454\n",
       "4      635265805\n",
       "5      647582378\n",
       "6      758257342\n",
       "7      701604626\n",
       "8      661174850\n",
       "9      806170700\n",
       "10     637219943\n",
       "11     843619171\n",
       "12    1225747394\n",
       "Name: exec_amount, dtype: int64"
      ]
     },
     "execution_count": 10,
     "metadata": {},
     "output_type": "execute_result"
    }
   ],
   "source": [
    "## 변수에는 숫자 입력 불가\n",
    "month_2017 = df_2017.groupby(\"exec_month\").sum()[\"exec_amount\"]\n",
    "month_2017"
   ]
  },
  {
   "cell_type": "code",
   "execution_count": null,
   "metadata": {},
   "outputs": [
    {
     "data": {
      "image/png": "[encoded data removed]",
      "text/plain": [
       "<Figure size 432x288 with 1 Axes>"
      ]
     },
     "metadata": {
      "needs_background": "light"
     },
     "output_type": "display_data"
    }
   ],
   "source": [
    "x = month_2017.index\n",
    "y = month_2017.tolist()\n",
    "\n",
    "plt.bar(x,y)\n",
    "plt.show()"
   ]
  },
  {
   "cell_type": "code",
   "execution_count": null,
   "metadata": {},
   "outputs": [],
   "source": [
    "# Concat함수 이용해서 합치는 것 \n",
    "total_df = pd.concat([df_2017, df_2018, df_2019, df_2020,df_2021], ignore_index = True)\n",
    "\n"
   ]
  },
  {
   "cell_type": "code",
   "execution_count": null,
   "metadata": {},
   "outputs": [
    {
     "data": {
      "text/plain": [
       "371238"
      ]
     },
     "execution_count": 31,
     "metadata": {},
     "output_type": "execute_result"
    }
   ],
   "source": [
    "len(total_df)"
   ]
  },
  {
   "cell_type": "markdown",
   "metadata": {},
   "source": [
    "###total_df\n",
    "1.컬럼명 변경(\"nid\",\"제목\",\"url\",\"부서레벨1\",\"부서레벨2\",\"부서레벨3\",\"부서레벨4\",\"부서레벨5\",\"집행연도\",\"집행월\",\"예산\",\"집행\",\"구분\",\"부서명\",\"집행일시\",\"집행장소\",\"집행목적\",\"대상인원\",\"결제방법\",\"집행금액\",\"비목\")\n",
    "2.컬럼 삭제(\"부서레벨3\",\"부서레벨4\",\"부서레벨5\",\"예산\",\"집행\",\"구분,\"비목\")\n",
    "3.연도별 집행금액 시각화(바형 그래프)\n",
    "4.그룹화(연도,월)집행금액의 합계를 그래프로 시각화(바형 그래프)"
   ]
  },
  {
   "cell_type": "code",
   "execution_count": null,
   "metadata": {},
   "outputs": [],
   "source": [
    "##칼럼명 변경\n",
    "total_df.columns=[\"nid\",\"제목\",\"url\",\"부서레벨1\",\"부서레벨2\",\"부서레벨3\",\"부서레벨4\",\"부서레벨5\",\"집행연도\",\"집행월\",\"예산\",\"집행\",\"구분\",\n",
    "\"부서명\",\"집행일시\",\"집행장소\",\"집행목적\",\"대상인원\",\"결제방법\",\"집행금액\",\"비목\"]"
   ]
  },
  {
   "cell_type": "code",
   "execution_count": null,
   "metadata": {},
   "outputs": [],
   "source": [
    "total_df.drop([\"부서레벨3\",\"부서레벨4\",\"부서레벨5\",\"예산\",\"집행\",\"구분\",\"비목\"], axis = 1, inplace=True)"
   ]
  },
  {
   "cell_type": "code",
   "execution_count": null,
   "metadata": {},
   "outputs": [
    {
     "data": {
      "text/plain": [
       "집행연도\n",
       "2017     9076941387\n",
       "2018     9937556542\n",
       "2019    10532330632\n",
       "2020     9808440264\n",
       "2021     9255689656\n",
       "Name: 집행금액, dtype: int64"
      ]
     },
     "execution_count": 62,
     "metadata": {},
     "output_type": "execute_result"
    }
   ],
   "source": [
    "#연도별 집행금액 시각화\n",
    "month_total = total_df.groupby(\"집행연도\").sum()[\"집행금액\"]\n",
    "month_total"
   ]
  },
  {
   "cell_type": "markdown",
   "metadata": {},
   "source": [
    "Bar graph로 그리기"
   ]
  },
  {
   "cell_type": "code",
   "execution_count": null,
   "metadata": {},
   "outputs": [
    {
     "data": {
      "image/png": "[encoded data removed]",
      "text/plain": [
       "<Figure size 432x288 with 1 Axes>"
      ]
     },
     "metadata": {
      "needs_background": "light"
     },
     "output_type": "display_data"
    }
   ],
   "source": [
    "x = month_total.index\n",
    "y = month_total.tolist()\n",
    "\n",
    "plt.bar(x,y)\n",
    "plt.show()"
   ]
  },
  {
   "cell_type": "code",
   "execution_count": null,
   "metadata": {},
   "outputs": [
    {
     "data": {
      "text/html": [
       "<div>\n",
       "<style scoped>\n",
       "    .dataframe tbody tr th:only-of-type {\n",
       "        vertical-align: middle;\n",
       "    }\n",
       "\n",
       "    .dataframe tbody tr th {\n",
       "        vertical-align: top;\n",
       "    }\n",
       "\n",
       "    .dataframe thead th {\n",
       "        text-align: right;\n",
       "    }\n",
       "</style>\n",
       "<table border=\"1\" class=\"dataframe\">\n",
       "  <thead>\n",
       "    <tr style=\"text-align: right;\">\n",
       "      <th></th>\n",
       "      <th>집행금액</th>\n",
       "    </tr>\n",
       "    <tr>\n",
       "      <th>집행연도</th>\n",
       "      <th></th>\n",
       "    </tr>\n",
       "  </thead>\n",
       "  <tbody>\n",
       "    <tr>\n",
       "      <th>2017</th>\n",
       "      <td>9076941387</td>\n",
       "    </tr>\n",
       "    <tr>\n",
       "      <th>2018</th>\n",
       "      <td>9937556542</td>\n",
       "    </tr>\n",
       "    <tr>\n",
       "      <th>2019</th>\n",
       "      <td>10532330632</td>\n",
       "    </tr>\n",
       "    <tr>\n",
       "      <th>2020</th>\n",
       "      <td>9808440264</td>\n",
       "    </tr>\n",
       "    <tr>\n",
       "      <th>2021</th>\n",
       "      <td>9255689656</td>\n",
       "    </tr>\n",
       "  </tbody>\n",
       "</table>\n",
       "</div>"
      ],
      "text/plain": [
       "             집행금액\n",
       "집행연도             \n",
       "2017   9076941387\n",
       "2018   9937556542\n",
       "2019  10532330632\n",
       "2020   9808440264\n",
       "2021   9255689656"
      ]
     },
     "execution_count": 67,
     "metadata": {},
     "output_type": "execute_result"
    }
   ],
   "source": [
    "## pivot table 형태로 바꿔서 시각화     #aggfunc:통계치\n",
    "\n",
    "month_total = pd.pivot_table(total_df,index=[\"집행연도\"],values=[\"집행금액\"],aggfunc=\"sum\")\n",
    "month_total"
   ]
  },
  {
   "cell_type": "code",
   "execution_count": null,
   "metadata": {},
   "outputs": [],
   "source": [
    "(month_total).plot.bar(rot=0)  ##rot는 글자 회전"
   ]
  },
  {
   "cell_type": "markdown",
   "metadata": {},
   "source": [
    "#그룹화(연도,월)집행금액의 합계를 그래프로 시각화(바형 그래프)"
   ]
  },
  {
   "cell_type": "code",
   "execution_count": null,
   "metadata": {},
   "outputs": [
    {
     "data": {
      "text/plain": [
       "<AxesSubplot:xlabel='집행연도'>"
      ]
     },
     "execution_count": 68,
     "metadata": {},
     "output_type": "execute_result"
    },
    {
     "data": {
      "image/png": "[encoded data removed]",
      "text/plain": [
       "<Figure size 432x288 with 1 Axes>"
      ]
     },
     "metadata": {
      "needs_background": "light"
     },
     "output_type": "display_data"
    }
   ],
   "source": [
    "import matplotlib\n",
    "\n",
    "matplotlib.rcParams['font.family'] = 'Malgun Gothic'\n",
    "matplotlib.rcParams['axes.unicode_minus'] = False\n",
    "\n",
    "(month_total).plot.bar(rot=0)"
   ]
  },
  {
   "cell_type": "code",
   "execution_count": null,
   "metadata": {},
   "outputs": [
    {
     "data": {
      "text/plain": [
       "집행연도  집행월\n",
       "2017  1       710368860\n",
       "      2       712679864\n",
       "      3       737250454\n",
       "      4       635265805\n",
       "      5       647582378\n",
       "      6       758257342\n",
       "      7       701604626\n",
       "      8       661174850\n",
       "      9       806170700\n",
       "      10      637219943\n",
       "      11      843619171\n",
       "      12     1225747394\n",
       "2018  1       735587570\n",
       "      2       769360005\n",
       "      3       761059010\n",
       "      4       703781418\n",
       "      5       669044701\n",
       "      6       690652154\n",
       "      7       788926477\n",
       "      8       730290532\n",
       "      9       769404957\n",
       "      10      827022975\n",
       "      11      960310221\n",
       "      12     1532116522\n",
       "2019  1       882512749\n",
       "      2       768931868\n",
       "      3       816280447\n",
       "      4       814657376\n",
       "      5       747256509\n",
       "      6       775945999\n",
       "      7       881725566\n",
       "      8       762251087\n",
       "      9       841641708\n",
       "      10      861865780\n",
       "      11      915992092\n",
       "      12     1463269451\n",
       "2020  1       776731595\n",
       "      2       759694988\n",
       "      3       662143473\n",
       "      4       752513810\n",
       "      5       770802340\n",
       "      6       913814872\n",
       "      7       821051025\n",
       "      8       589831097\n",
       "      9       776747261\n",
       "      10      760075068\n",
       "      11      878275658\n",
       "      12     1346759077\n",
       "2021  1       451098185\n",
       "      2       611418633\n",
       "      3       698362267\n",
       "      4       606388459\n",
       "      5       639039670\n",
       "      6       735812580\n",
       "      7       613015838\n",
       "      8       591177484\n",
       "      9       800143993\n",
       "      10      860936842\n",
       "      11     1203966624\n",
       "      12     1444329081\n",
       "Name: 집행금액, dtype: int64"
      ]
     },
     "execution_count": 70,
     "metadata": {},
     "output_type": "execute_result"
    }
   ],
   "source": [
    "year_month_total = total_df.groupby([\"집행연도\",\"집행월\"]).sum()[\"집행금액\"]\n",
    "year_month_total"
   ]
  },
  {
   "cell_type": "code",
   "execution_count": null,
   "metadata": {},
   "outputs": [
    {
     "data": {
      "text/html": [
       "<div>\n",
       "<style scoped>\n",
       "    .dataframe tbody tr th:only-of-type {\n",
       "        vertical-align: middle;\n",
       "    }\n",
       "\n",
       "    .dataframe tbody tr th {\n",
       "        vertical-align: top;\n",
       "    }\n",
       "\n",
       "    .dataframe thead tr th {\n",
       "        text-align: left;\n",
       "    }\n",
       "\n",
       "    .dataframe thead tr:last-of-type th {\n",
       "        text-align: right;\n",
       "    }\n",
       "</style>\n",
       "<table border=\"1\" class=\"dataframe\">\n",
       "  <thead>\n",
       "    <tr>\n",
       "      <th></th>\n",
       "      <th colspan=\"5\" halign=\"left\">집행금액</th>\n",
       "    </tr>\n",
       "    <tr>\n",
       "      <th>집행연도</th>\n",
       "      <th>2017</th>\n",
       "      <th>2018</th>\n",
       "      <th>2019</th>\n",
       "      <th>2020</th>\n",
       "      <th>2021</th>\n",
       "    </tr>\n",
       "    <tr>\n",
       "      <th>집행월</th>\n",
       "      <th></th>\n",
       "      <th></th>\n",
       "      <th></th>\n",
       "      <th></th>\n",
       "      <th></th>\n",
       "    </tr>\n",
       "  </thead>\n",
       "  <tbody>\n",
       "    <tr>\n",
       "      <th>1</th>\n",
       "      <td>710368860</td>\n",
       "      <td>735587570</td>\n",
       "      <td>882512749</td>\n",
       "      <td>776731595</td>\n",
       "      <td>451098185</td>\n",
       "    </tr>\n",
       "    <tr>\n",
       "      <th>2</th>\n",
       "      <td>712679864</td>\n",
       "      <td>769360005</td>\n",
       "      <td>768931868</td>\n",
       "      <td>759694988</td>\n",
       "      <td>611418633</td>\n",
       "    </tr>\n",
       "    <tr>\n",
       "      <th>3</th>\n",
       "      <td>737250454</td>\n",
       "      <td>761059010</td>\n",
       "      <td>816280447</td>\n",
       "      <td>662143473</td>\n",
       "      <td>698362267</td>\n",
       "    </tr>\n",
       "    <tr>\n",
       "      <th>4</th>\n",
       "      <td>635265805</td>\n",
       "      <td>703781418</td>\n",
       "      <td>814657376</td>\n",
       "      <td>752513810</td>\n",
       "      <td>606388459</td>\n",
       "    </tr>\n",
       "    <tr>\n",
       "      <th>5</th>\n",
       "      <td>647582378</td>\n",
       "      <td>669044701</td>\n",
       "      <td>747256509</td>\n",
       "      <td>770802340</td>\n",
       "      <td>639039670</td>\n",
       "    </tr>\n",
       "    <tr>\n",
       "      <th>6</th>\n",
       "      <td>758257342</td>\n",
       "      <td>690652154</td>\n",
       "      <td>775945999</td>\n",
       "      <td>913814872</td>\n",
       "      <td>735812580</td>\n",
       "    </tr>\n",
       "    <tr>\n",
       "      <th>7</th>\n",
       "      <td>701604626</td>\n",
       "      <td>788926477</td>\n",
       "      <td>881725566</td>\n",
       "      <td>821051025</td>\n",
       "      <td>613015838</td>\n",
       "    </tr>\n",
       "    <tr>\n",
       "      <th>8</th>\n",
       "      <td>661174850</td>\n",
       "      <td>730290532</td>\n",
       "      <td>762251087</td>\n",
       "      <td>589831097</td>\n",
       "      <td>591177484</td>\n",
       "    </tr>\n",
       "    <tr>\n",
       "      <th>9</th>\n",
       "      <td>806170700</td>\n",
       "      <td>769404957</td>\n",
       "      <td>841641708</td>\n",
       "      <td>776747261</td>\n",
       "      <td>800143993</td>\n",
       "    </tr>\n",
       "    <tr>\n",
       "      <th>10</th>\n",
       "      <td>637219943</td>\n",
       "      <td>827022975</td>\n",
       "      <td>861865780</td>\n",
       "      <td>760075068</td>\n",
       "      <td>860936842</td>\n",
       "    </tr>\n",
       "    <tr>\n",
       "      <th>11</th>\n",
       "      <td>843619171</td>\n",
       "      <td>960310221</td>\n",
       "      <td>915992092</td>\n",
       "      <td>878275658</td>\n",
       "      <td>1203966624</td>\n",
       "    </tr>\n",
       "    <tr>\n",
       "      <th>12</th>\n",
       "      <td>1225747394</td>\n",
       "      <td>1532116522</td>\n",
       "      <td>1463269451</td>\n",
       "      <td>1346759077</td>\n",
       "      <td>1444329081</td>\n",
       "    </tr>\n",
       "  </tbody>\n",
       "</table>\n",
       "</div>"
      ],
      "text/plain": [
       "            집행금액                                                \n",
       "집행연도        2017        2018        2019        2020        2021\n",
       "집행월                                                             \n",
       "1      710368860   735587570   882512749   776731595   451098185\n",
       "2      712679864   769360005   768931868   759694988   611418633\n",
       "3      737250454   761059010   816280447   662143473   698362267\n",
       "4      635265805   703781418   814657376   752513810   606388459\n",
       "5      647582378   669044701   747256509   770802340   639039670\n",
       "6      758257342   690652154   775945999   913814872   735812580\n",
       "7      701604626   788926477   881725566   821051025   613015838\n",
       "8      661174850   730290532   762251087   589831097   591177484\n",
       "9      806170700   769404957   841641708   776747261   800143993\n",
       "10     637219943   827022975   861865780   760075068   860936842\n",
       "11     843619171   960310221   915992092   878275658  1203966624\n",
       "12    1225747394  1532116522  1463269451  1346759077  1444329081"
      ]
     },
     "execution_count": 78,
     "metadata": {},
     "output_type": "execute_result"
    }
   ],
   "source": [
    "##피벗테이블을 통해 작업하면 편함\n",
    "year_month_total = pd.pivot_table(total_df,index=[\"집행월\"],columns=[\"집행연도\"],values={\"집행금액\"},aggfunc='sum')\n",
    "year_month_total"
   ]
  },
  {
   "cell_type": "code",
   "execution_count": null,
   "metadata": {},
   "outputs": [
    {
     "data": {
      "text/plain": [
       "<AxesSubplot:xlabel='집행월'>"
      ]
     },
     "execution_count": 113,
     "metadata": {},
     "output_type": "execute_result"
    },
    {
     "data": {
      "image/png": "[encoded data removed]",
      "text/plain": [
       "<Figure size 1440x1440 with 1 Axes>"
      ]
     },
     "metadata": {
      "needs_background": "light"
     },
     "output_type": "display_data"
    }
   ],
   "source": [
    "(year_month_total).plot.bar(rot=0, figsize= (20,20))   ##rot는 눈금값의 기울기\n",
    "\n"
   ]
  },
  {
   "cell_type": "code",
   "execution_count": null,
   "metadata": {},
   "outputs": [],
   "source": [
    "## pivot_table ->부서레벨1을 기준으로 연도별 집행금액 평균값을 테이블로 생성\n",
    "## bar 그래프로 시각화. "
   ]
  },
  {
   "cell_type": "code",
   "execution_count": null,
   "metadata": {},
   "outputs": [
    {
     "data": {
      "text/plain": [
       "부서레벨1\n",
       "사업소            122201.685788\n",
       "사업소,            96256.268657\n",
       "서울시본청          120581.742619\n",
       "소방재난본부(소방서)    223416.984792\n",
       "의회사무처          108262.595403\n",
       "Name: 집행금액, dtype: float64"
      ]
     },
     "execution_count": 90,
     "metadata": {},
     "output_type": "execute_result"
    }
   ],
   "source": [
    "dept_nm_lvl_1 = total_df.groupby([\"부서레벨1\"]).mean()[\"집행금액\"]\n",
    "dept_nm_lvl_1"
   ]
  },
  {
   "cell_type": "code",
   "execution_count": null,
   "metadata": {},
   "outputs": [
    {
     "data": {
      "text/html": [
       "<div>\n",
       "<style scoped>\n",
       "    .dataframe tbody tr th:only-of-type {\n",
       "        vertical-align: middle;\n",
       "    }\n",
       "\n",
       "    .dataframe tbody tr th {\n",
       "        vertical-align: top;\n",
       "    }\n",
       "\n",
       "    .dataframe thead tr th {\n",
       "        text-align: left;\n",
       "    }\n",
       "\n",
       "    .dataframe thead tr:last-of-type th {\n",
       "        text-align: right;\n",
       "    }\n",
       "</style>\n",
       "<table border=\"1\" class=\"dataframe\">\n",
       "  <thead>\n",
       "    <tr>\n",
       "      <th></th>\n",
       "      <th colspan=\"5\" halign=\"left\">집행금액</th>\n",
       "    </tr>\n",
       "    <tr>\n",
       "      <th>집행연도</th>\n",
       "      <th>2017</th>\n",
       "      <th>2018</th>\n",
       "      <th>2019</th>\n",
       "      <th>2020</th>\n",
       "      <th>2021</th>\n",
       "    </tr>\n",
       "    <tr>\n",
       "      <th>부서레벨1</th>\n",
       "      <th></th>\n",
       "      <th></th>\n",
       "      <th></th>\n",
       "      <th></th>\n",
       "      <th></th>\n",
       "    </tr>\n",
       "  </thead>\n",
       "  <tbody>\n",
       "    <tr>\n",
       "      <th>사업소</th>\n",
       "      <td>120432.199322</td>\n",
       "      <td>124290.371469</td>\n",
       "      <td>127433.368751</td>\n",
       "      <td>129439.526124</td>\n",
       "      <td>111246.799981</td>\n",
       "    </tr>\n",
       "    <tr>\n",
       "      <th>사업소,</th>\n",
       "      <td>NaN</td>\n",
       "      <td>NaN</td>\n",
       "      <td>NaN</td>\n",
       "      <td>96256.268657</td>\n",
       "      <td>NaN</td>\n",
       "    </tr>\n",
       "    <tr>\n",
       "      <th>서울시본청</th>\n",
       "      <td>119812.339642</td>\n",
       "      <td>130286.126921</td>\n",
       "      <td>134381.767970</td>\n",
       "      <td>126863.255869</td>\n",
       "      <td>95567.304657</td>\n",
       "    </tr>\n",
       "    <tr>\n",
       "      <th>소방재난본부(소방서)</th>\n",
       "      <td>215503.983578</td>\n",
       "      <td>226244.982045</td>\n",
       "      <td>230013.657973</td>\n",
       "      <td>237717.797878</td>\n",
       "      <td>208762.748234</td>\n",
       "    </tr>\n",
       "    <tr>\n",
       "      <th>의회사무처</th>\n",
       "      <td>101912.491923</td>\n",
       "      <td>104341.926548</td>\n",
       "      <td>121310.818857</td>\n",
       "      <td>117736.563900</td>\n",
       "      <td>95456.857930</td>\n",
       "    </tr>\n",
       "  </tbody>\n",
       "</table>\n",
       "</div>"
      ],
      "text/plain": [
       "                      집행금액                                               \\\n",
       "집행연도                  2017           2018           2019           2020   \n",
       "부서레벨1                                                                     \n",
       "사업소          120432.199322  124290.371469  127433.368751  129439.526124   \n",
       "사업소,                   NaN            NaN            NaN   96256.268657   \n",
       "서울시본청        119812.339642  130286.126921  134381.767970  126863.255869   \n",
       "소방재난본부(소방서)  215503.983578  226244.982045  230013.657973  237717.797878   \n",
       "의회사무처        101912.491923  104341.926548  121310.818857  117736.563900   \n",
       "\n",
       "                            \n",
       "집행연도                  2021  \n",
       "부서레벨1                       \n",
       "사업소          111246.799981  \n",
       "사업소,                   NaN  \n",
       "서울시본청         95567.304657  \n",
       "소방재난본부(소방서)  208762.748234  \n",
       "의회사무처         95456.857930  "
      ]
     },
     "execution_count": 94,
     "metadata": {},
     "output_type": "execute_result"
    }
   ],
   "source": [
    "dept_total = pd.pivot_table(total_df,index=[\"부서레벨1\"],columns=[\"집행연도\"],values={\"집행금액\"},aggfunc='mean')\n",
    "\n",
    "dept_total"
   ]
  },
  {
   "cell_type": "code",
   "execution_count": null,
   "metadata": {},
   "outputs": [
    {
     "data": {
      "text/html": [
       "<div>\n",
       "<style scoped>\n",
       "    .dataframe tbody tr th:only-of-type {\n",
       "        vertical-align: middle;\n",
       "    }\n",
       "\n",
       "    .dataframe tbody tr th {\n",
       "        vertical-align: top;\n",
       "    }\n",
       "\n",
       "    .dataframe thead tr th {\n",
       "        text-align: left;\n",
       "    }\n",
       "\n",
       "    .dataframe thead tr:last-of-type th {\n",
       "        text-align: right;\n",
       "    }\n",
       "</style>\n",
       "<table border=\"1\" class=\"dataframe\">\n",
       "  <thead>\n",
       "    <tr>\n",
       "      <th></th>\n",
       "      <th colspan=\"5\" halign=\"left\">집행금액</th>\n",
       "    </tr>\n",
       "    <tr>\n",
       "      <th>집행연도</th>\n",
       "      <th>2017</th>\n",
       "      <th>2018</th>\n",
       "      <th>2019</th>\n",
       "      <th>2020</th>\n",
       "      <th>2021</th>\n",
       "    </tr>\n",
       "    <tr>\n",
       "      <th>부서레벨1</th>\n",
       "      <th></th>\n",
       "      <th></th>\n",
       "      <th></th>\n",
       "      <th></th>\n",
       "      <th></th>\n",
       "    </tr>\n",
       "  </thead>\n",
       "  <tbody>\n",
       "    <tr>\n",
       "      <th>사업소</th>\n",
       "      <td>120432.199322</td>\n",
       "      <td>124290.371469</td>\n",
       "      <td>127433.368751</td>\n",
       "      <td>129315.618291</td>\n",
       "      <td>111246.799981</td>\n",
       "    </tr>\n",
       "    <tr>\n",
       "      <th>서울시본청</th>\n",
       "      <td>119812.339642</td>\n",
       "      <td>130286.126921</td>\n",
       "      <td>134381.767970</td>\n",
       "      <td>126863.255869</td>\n",
       "      <td>95567.304657</td>\n",
       "    </tr>\n",
       "    <tr>\n",
       "      <th>소방재난본부(소방서)</th>\n",
       "      <td>215503.983578</td>\n",
       "      <td>226244.982045</td>\n",
       "      <td>230013.657973</td>\n",
       "      <td>237717.797878</td>\n",
       "      <td>208762.748234</td>\n",
       "    </tr>\n",
       "    <tr>\n",
       "      <th>의회사무처</th>\n",
       "      <td>101912.491923</td>\n",
       "      <td>104341.926548</td>\n",
       "      <td>121310.818857</td>\n",
       "      <td>117736.563900</td>\n",
       "      <td>95456.857930</td>\n",
       "    </tr>\n",
       "  </tbody>\n",
       "</table>\n",
       "</div>"
      ],
      "text/plain": [
       "                      집행금액                                               \\\n",
       "집행연도                  2017           2018           2019           2020   \n",
       "부서레벨1                                                                     \n",
       "사업소          120432.199322  124290.371469  127433.368751  129315.618291   \n",
       "서울시본청        119812.339642  130286.126921  134381.767970  126863.255869   \n",
       "소방재난본부(소방서)  215503.983578  226244.982045  230013.657973  237717.797878   \n",
       "의회사무처        101912.491923  104341.926548  121310.818857  117736.563900   \n",
       "\n",
       "                            \n",
       "집행연도                  2021  \n",
       "부서레벨1                       \n",
       "사업소          111246.799981  \n",
       "서울시본청         95567.304657  \n",
       "소방재난본부(소방서)  208762.748234  \n",
       "의회사무처         95456.857930  "
      ]
     },
     "execution_count": 111,
     "metadata": {},
     "output_type": "execute_result"
    }
   ],
   "source": [
    "\n",
    "dept_total = pd.pivot_table(total_df,index=[\"부서레벨1\"],columns=[\"집행연도\"],values={\"집행금액\"},aggfunc='mean').fillna(0)\n",
    "dept_total\n",
    "\n",
    "\n",
    "##dept_total = pd.pivot_table(total_df,index=[\"부서레벨1\"],columns=[\"집행연도\"],values={\"집행금액\"},aggfunc='mean').fill_value=0"
   ]
  },
  {
   "cell_type": "code",
   "execution_count": null,
   "metadata": {},
   "outputs": [
    {
     "data": {
      "text/plain": [
       "<AxesSubplot:xlabel='부서레벨1'>"
      ]
     },
     "execution_count": 98,
     "metadata": {},
     "output_type": "execute_result"
    },
    {
     "data": {
      "image/png": "[encoded data removed]",
      "text/plain": [
       "<Figure size 504x504 with 1 Axes>"
      ]
     },
     "metadata": {
      "needs_background": "light"
     },
     "output_type": "display_data"
    }
   ],
   "source": [
    "(dept_total).plot.bar(rot=0, figsize= (7,7))"
   ]
  },
  {
   "cell_type": "code",
   "execution_count": null,
   "metadata": {},
   "outputs": [
    {
     "data": {
      "text/plain": [
       "<AxesSubplot:ylabel='부서레벨1'>"
      ]
     },
     "execution_count": 108,
     "metadata": {},
     "output_type": "execute_result"
    },
    {
     "data": {
      "image/png": "[encoded data removed]",
      "text/plain": [
       "<Figure size 504x504 with 1 Axes>"
      ]
     },
     "metadata": {
      "needs_background": "light"
     },
     "output_type": "display_data"
    }
   ],
   "source": [
    "(dept_total).plot.barh(rot=0, figsize= (7,7))   ##표 사이즈 변경하고 싶을 때는 식 안에 figsize=( *, *) 로 나타내기"
   ]
  },
  {
   "cell_type": "code",
   "execution_count": null,
   "metadata": {},
   "outputs": [
    {
     "data": {
      "text/plain": [
       "서울시본청          220630\n",
       "사업소             91868\n",
       "소방재난본부(소방서)     38401\n",
       "의회사무처           20272\n",
       "사업소,               67\n",
       "Name: 부서레벨1, dtype: int64"
      ]
     },
     "execution_count": 101,
     "metadata": {},
     "output_type": "execute_result"
    }
   ],
   "source": [
    "## total_df[\"부서레벨1\"]  데이터중에 사업소,되어있는 데이터에서 , 삭제.\n",
    "\n",
    "total_df[\"부서레벨1\"].value_counts()"
   ]
  },
  {
   "cell_type": "code",
   "execution_count": null,
   "metadata": {},
   "outputs": [],
   "source": [
    "## 사업소, 뒤에 ',' 없애기\n",
    "total_df[\"부서레벨1\"]=total_df[\"부서레벨1\"].str.replace(\",\",\"\")\n",
    "\n",
    "##(=)  total_df[\"부서레벨1\"]=total_df[\"부서레벨1\"].apply(Lambda x: x.replace(\",\",\"\"))"
   ]
  },
  {
   "cell_type": "code",
   "execution_count": null,
   "metadata": {},
   "outputs": [
    {
     "name": "stdout",
     "output_type": "stream",
     "text": [
      "Collecting pymysqlNote: you may need to restart the kernel to use updated packages.\n"
     ]
    },
    {
     "name": "stderr",
     "output_type": "stream",
     "text": [
      "WARNING: You are using pip version 22.0.4; however, version 22.1.2 is available.\n",
      "You should consider upgrading via the 'c:\\Users\\user\\AppData\\Local\\Programs\\Python\\Python39\\python.exe -m pip install --upgrade pip' command.\n"
     ]
    },
    {
     "name": "stdout",
     "output_type": "stream",
     "text": [
      "\n",
      "  Downloading PyMySQL-1.0.2-py3-none-any.whl (43 kB)\n",
      "     ---------------------------------------- 43.8/43.8 KB 1.1 MB/s eta 0:00:00\n",
      "Installing collected packages: pymysql\n",
      "Successfully installed pymysql-1.0.2\n"
     ]
    }
   ],
   "source": [
    "pip install pymysql"
   ]
  },
  {
   "cell_type": "code",
   "execution_count": 3,
   "metadata": {},
   "outputs": [],
   "source": [
    "import pymysql\n",
    "import pandas as pd"
   ]
  },
  {
   "cell_type": "code",
   "execution_count": 4,
   "metadata": {},
   "outputs": [],
   "source": [
    "_db = pymysql.connect(\n",
    "    user = 'root',\n",
    "    \n",
    "    passwd = '1234',\n",
    "    host = 'localhost',\n",
    "    db = 'ubion4'\n",
    "    port = 3306     #mysql의 기본 포트번호\n",
    "    )"
   ]
  },
  {
   "cell_type": "code",
   "execution_count": 5,
   "metadata": {},
   "outputs": [],
   "source": [
    "cursor = _db.cursor(pymysql.cursors.DictCursor)"
   ]
  },
  {
   "cell_type": "code",
   "execution_count": 6,
   "metadata": {},
   "outputs": [
    {
     "data": {
      "text/html": [
       "<div>\n",
       "<style scoped>\n",
       "    .dataframe tbody tr th:only-of-type {\n",
       "        vertical-align: middle;\n",
       "    }\n",
       "\n",
       "    .dataframe tbody tr th {\n",
       "        vertical-align: top;\n",
       "    }\n",
       "\n",
       "    .dataframe thead th {\n",
       "        text-align: right;\n",
       "    }\n",
       "</style>\n",
       "<table border=\"1\" class=\"dataframe\">\n",
       "  <thead>\n",
       "    <tr style=\"text-align: right;\">\n",
       "      <th></th>\n",
       "      <th>createDt</th>\n",
       "      <th>deathCnt</th>\n",
       "      <th>decideCnt</th>\n",
       "      <th>seq</th>\n",
       "      <th>stateDt</th>\n",
       "      <th>stateTime</th>\n",
       "      <th>updateDt</th>\n",
       "      <th>accExamCnt</th>\n",
       "      <th>accDefRate</th>\n",
       "    </tr>\n",
       "  </thead>\n",
       "  <tbody>\n",
       "    <tr>\n",
       "      <th>0</th>\n",
       "      <td>2020-03-10 00:00:00.000</td>\n",
       "      <td>54</td>\n",
       "      <td>7513</td>\n",
       "      <td>51</td>\n",
       "      <td>20200310</td>\n",
       "      <td>00:00</td>\n",
       "      <td>2021-10-07 10:30:51.51</td>\n",
       "      <td>210144</td>\n",
       "      <td>3.919308057</td>\n",
       "    </tr>\n",
       "    <tr>\n",
       "      <th>1</th>\n",
       "      <td>2020-03-11 00:00:00.000</td>\n",
       "      <td>60</td>\n",
       "      <td>7755</td>\n",
       "      <td>52</td>\n",
       "      <td>20200311</td>\n",
       "      <td>00:00</td>\n",
       "      <td>2021-10-07 10:30:51.51</td>\n",
       "      <td>222395</td>\n",
       "      <td>3.804174536</td>\n",
       "    </tr>\n",
       "    <tr>\n",
       "      <th>2</th>\n",
       "      <td>2020-03-12 00:00:00.000</td>\n",
       "      <td>66</td>\n",
       "      <td>7869</td>\n",
       "      <td>53</td>\n",
       "      <td>20200312</td>\n",
       "      <td>00:00</td>\n",
       "      <td>2021-10-07 10:30:51.51</td>\n",
       "      <td>234998</td>\n",
       "      <td>3.621744273</td>\n",
       "    </tr>\n",
       "    <tr>\n",
       "      <th>3</th>\n",
       "      <td>2020-03-13 00:00:00.000</td>\n",
       "      <td>67</td>\n",
       "      <td>7979</td>\n",
       "      <td>54</td>\n",
       "      <td>20200313</td>\n",
       "      <td>00:00</td>\n",
       "      <td>2021-10-07 10:30:51.51</td>\n",
       "      <td>248647</td>\n",
       "      <td>3.458499309</td>\n",
       "    </tr>\n",
       "    <tr>\n",
       "      <th>4</th>\n",
       "      <td>2020-03-14 00:00:00.000</td>\n",
       "      <td>72</td>\n",
       "      <td>8086</td>\n",
       "      <td>55</td>\n",
       "      <td>20200314</td>\n",
       "      <td>00:00</td>\n",
       "      <td>2021-10-07 10:30:51.51</td>\n",
       "      <td>261335</td>\n",
       "      <td>3.318000336</td>\n",
       "    </tr>\n",
       "    <tr>\n",
       "      <th>5</th>\n",
       "      <td>2020-03-15 00:00:00.000</td>\n",
       "      <td>75</td>\n",
       "      <td>8162</td>\n",
       "      <td>56</td>\n",
       "      <td>20200315</td>\n",
       "      <td>00:00</td>\n",
       "      <td>2021-10-07 10:30:51.51</td>\n",
       "      <td>268212</td>\n",
       "      <td>3.239660237</td>\n",
       "    </tr>\n",
       "    <tr>\n",
       "      <th>6</th>\n",
       "      <td>2020-03-16 00:00:00.000</td>\n",
       "      <td>75</td>\n",
       "      <td>8236</td>\n",
       "      <td>57</td>\n",
       "      <td>20200316</td>\n",
       "      <td>00:00</td>\n",
       "      <td>2021-10-07 10:30:51.51</td>\n",
       "      <td>274504</td>\n",
       "      <td>3.173392208</td>\n",
       "    </tr>\n",
       "    <tr>\n",
       "      <th>7</th>\n",
       "      <td>2020-03-17 00:00:00.000</td>\n",
       "      <td>81</td>\n",
       "      <td>8320</td>\n",
       "      <td>58</td>\n",
       "      <td>20200317</td>\n",
       "      <td>00:00</td>\n",
       "      <td>2021-10-07 10:30:51.51</td>\n",
       "      <td>286716</td>\n",
       "      <td>3.088057901</td>\n",
       "    </tr>\n",
       "    <tr>\n",
       "      <th>8</th>\n",
       "      <td>2020-03-18 00:00:00.000</td>\n",
       "      <td>84</td>\n",
       "      <td>8413</td>\n",
       "      <td>59</td>\n",
       "      <td>20200318</td>\n",
       "      <td>00:00</td>\n",
       "      <td>2021-10-07 10:30:51.51</td>\n",
       "      <td>295647</td>\n",
       "      <td>3.012162506</td>\n",
       "    </tr>\n",
       "    <tr>\n",
       "      <th>9</th>\n",
       "      <td>2020-03-19 00:00:00.000</td>\n",
       "      <td>91</td>\n",
       "      <td>8565</td>\n",
       "      <td>60</td>\n",
       "      <td>20200319</td>\n",
       "      <td>00:00</td>\n",
       "      <td>2021-10-07 10:30:51.51</td>\n",
       "      <td>307024</td>\n",
       "      <td>2.942085738</td>\n",
       "    </tr>\n",
       "  </tbody>\n",
       "</table>\n",
       "</div>"
      ],
      "text/plain": [
       "                  createDt  deathCnt  decideCnt  seq   stateDt stateTime  \\\n",
       "0  2020-03-10 00:00:00.000        54       7513   51  20200310     00:00   \n",
       "1  2020-03-11 00:00:00.000        60       7755   52  20200311     00:00   \n",
       "2  2020-03-12 00:00:00.000        66       7869   53  20200312     00:00   \n",
       "3  2020-03-13 00:00:00.000        67       7979   54  20200313     00:00   \n",
       "4  2020-03-14 00:00:00.000        72       8086   55  20200314     00:00   \n",
       "5  2020-03-15 00:00:00.000        75       8162   56  20200315     00:00   \n",
       "6  2020-03-16 00:00:00.000        75       8236   57  20200316     00:00   \n",
       "7  2020-03-17 00:00:00.000        81       8320   58  20200317     00:00   \n",
       "8  2020-03-18 00:00:00.000        84       8413   59  20200318     00:00   \n",
       "9  2020-03-19 00:00:00.000        91       8565   60  20200319     00:00   \n",
       "\n",
       "                 updateDt accExamCnt   accDefRate  \n",
       "0  2021-10-07 10:30:51.51     210144  3.919308057  \n",
       "1  2021-10-07 10:30:51.51     222395  3.804174536  \n",
       "2  2021-10-07 10:30:51.51     234998  3.621744273  \n",
       "3  2021-10-07 10:30:51.51     248647  3.458499309  \n",
       "4  2021-10-07 10:30:51.51     261335  3.318000336  \n",
       "5  2021-10-07 10:30:51.51     268212  3.239660237  \n",
       "6  2021-10-07 10:30:51.51     274504  3.173392208  \n",
       "7  2021-10-07 10:30:51.51     286716  3.088057901  \n",
       "8  2021-10-07 10:30:51.51     295647  3.012162506  \n",
       "9  2021-10-07 10:30:51.51     307024  2.942085738  "
      ]
     },
     "execution_count": 6,
     "metadata": {},
     "output_type": "execute_result"
    }
   ],
   "source": [
    "## SELECT 테이블명 컬럼명, ... FROM 테이블명\n",
    "## SELECT * FROM 테이블명\n",
    "\n",
    "sql = \"SELECT * FROM corona ORDER BY createDt LIMIT 10\"\n",
    "\n",
    "cursor.execute(sql)\n",
    "result = cursor.fetchall()\n",
    "#result는 딕셔너리 형태의 데이터\n",
    "#print(result)\n",
    "\n",
    "#딕셔너리 형태의 데이터를 데이터프레임으로 변경\n",
    "df_result = pd.DataFrame(result)\n",
    "df_result"
   ]
  },
  {
   "cell_type": "code",
   "execution_count": null,
   "metadata": {},
   "outputs": [
    {
     "data": {
      "text/html": [
       "<div>\n",
       "<style scoped>\n",
       "    .dataframe tbody tr th:only-of-type {\n",
       "        vertical-align: middle;\n",
       "    }\n",
       "\n",
       "    .dataframe tbody tr th {\n",
       "        vertical-align: top;\n",
       "    }\n",
       "\n",
       "    .dataframe thead th {\n",
       "        text-align: right;\n",
       "    }\n",
       "</style>\n",
       "<table border=\"1\" class=\"dataframe\">\n",
       "  <thead>\n",
       "    <tr style=\"text-align: right;\">\n",
       "      <th></th>\n",
       "      <th>날짜</th>\n",
       "      <th>누적사망자</th>\n",
       "      <th>누적확진자</th>\n",
       "    </tr>\n",
       "  </thead>\n",
       "  <tbody>\n",
       "    <tr>\n",
       "      <th>0</th>\n",
       "      <td>2020-03-10 00:00:00.000</td>\n",
       "      <td>54</td>\n",
       "      <td>7513</td>\n",
       "    </tr>\n",
       "    <tr>\n",
       "      <th>1</th>\n",
       "      <td>2020-03-11 00:00:00.000</td>\n",
       "      <td>60</td>\n",
       "      <td>7755</td>\n",
       "    </tr>\n",
       "    <tr>\n",
       "      <th>2</th>\n",
       "      <td>2020-03-12 00:00:00.000</td>\n",
       "      <td>66</td>\n",
       "      <td>7869</td>\n",
       "    </tr>\n",
       "    <tr>\n",
       "      <th>3</th>\n",
       "      <td>2020-03-13 00:00:00.000</td>\n",
       "      <td>67</td>\n",
       "      <td>7979</td>\n",
       "    </tr>\n",
       "    <tr>\n",
       "      <th>4</th>\n",
       "      <td>2020-03-14 00:00:00.000</td>\n",
       "      <td>72</td>\n",
       "      <td>8086</td>\n",
       "    </tr>\n",
       "    <tr>\n",
       "      <th>5</th>\n",
       "      <td>2020-03-15 00:00:00.000</td>\n",
       "      <td>75</td>\n",
       "      <td>8162</td>\n",
       "    </tr>\n",
       "    <tr>\n",
       "      <th>6</th>\n",
       "      <td>2020-03-16 00:00:00.000</td>\n",
       "      <td>75</td>\n",
       "      <td>8236</td>\n",
       "    </tr>\n",
       "    <tr>\n",
       "      <th>7</th>\n",
       "      <td>2020-03-17 00:00:00.000</td>\n",
       "      <td>81</td>\n",
       "      <td>8320</td>\n",
       "    </tr>\n",
       "    <tr>\n",
       "      <th>8</th>\n",
       "      <td>2020-03-18 00:00:00.000</td>\n",
       "      <td>84</td>\n",
       "      <td>8413</td>\n",
       "    </tr>\n",
       "    <tr>\n",
       "      <th>9</th>\n",
       "      <td>2020-03-19 00:00:00.000</td>\n",
       "      <td>91</td>\n",
       "      <td>8565</td>\n",
       "    </tr>\n",
       "  </tbody>\n",
       "</table>\n",
       "</div>"
      ],
      "text/plain": [
       "                        날짜  누적사망자  누적확진자\n",
       "0  2020-03-10 00:00:00.000     54   7513\n",
       "1  2020-03-11 00:00:00.000     60   7755\n",
       "2  2020-03-12 00:00:00.000     66   7869\n",
       "3  2020-03-13 00:00:00.000     67   7979\n",
       "4  2020-03-14 00:00:00.000     72   8086\n",
       "5  2020-03-15 00:00:00.000     75   8162\n",
       "6  2020-03-16 00:00:00.000     75   8236\n",
       "7  2020-03-17 00:00:00.000     81   8320\n",
       "8  2020-03-18 00:00:00.000     84   8413\n",
       "9  2020-03-19 00:00:00.000     91   8565"
      ]
     },
     "execution_count": 16,
     "metadata": {},
     "output_type": "execute_result"
    }
   ],
   "source": [
    "sql = \"\"\"SELECT createDt as 날짜,deathCnt as 누적사망자, \n",
    "decideCnt as 누적확진자\n",
    "FROM corona ORDER BY createDt LIMIT 10\"\"\"\n",
    " \n",
    "## \"\"\"\"를 쓰면 줄이 바뀌어도 유지가 됨\n",
    "\n",
    "cursor = cursor.execute(sql)\n",
    "result = cursor.fetchall()\n",
    "#result는 딕셔너리 형태의 데이터\n",
    "#print(result)\n",
    "\n",
    "#딕셔너리 형태의 데이터를 데이터프레임으로 변경\n",
    "df_result = pd.DataFrame(result)\n",
    "df_result"
   ]
  },
  {
   "cell_type": "code",
   "execution_count": 7,
   "metadata": {},
   "outputs": [],
   "source": [
    "## insert into 테이블명(컬럼명, ...) VALUES (데이터값, ...)\n",
    "## 컬럼의 개수와 VALUES 개수가 같아야 한다.\n",
    "## 모든 컬럼에 데이터를 삽입\n",
    "## INSERT INTO 테이블명 VALUES (데이터값)\n",
    "\n",
    "sql = \"\"\"insert into test (id,password,name,phone) values(%s,%s,%s,%s)\"\"\"\n",
    "values = [\"test3\",\"1234\",\"kim\",\"01012345678\"]\n",
    "\n",
    "cursor.execute(sql,values)\n",
    "_db.commit()                            ## commit을 사용해야 데이터베이스에 적용됨"
   ]
  },
  {
   "cell_type": "code",
   "execution_count": 8,
   "metadata": {},
   "outputs": [],
   "source": [
    "_id = input(\"id:chn\")\n",
    "_pw = input(\"password:1234 \")\n",
    "_name = input(\"name:heeiny \")\n",
    "_phone = input(\"phone:01087298372 \")\n",
    "\n",
    "values = [_id, _pw, _name, _phone]\n",
    "cursor.execute(sql, values)\n",
    "_db.commit()"
   ]
  },
  {
   "cell_type": "markdown",
   "metadata": {},
   "source": []
  }
 ],
 "metadata": {
  "kernelspec": {
   "display_name": "Python 3.9.13 64-bit",
   "language": "python",
   "name": "python3"
  },
  "language_info": {
   "codemirror_mode": {
    "name": "ipython",
    "version": 3
   },
   "file_extension": ".py",
   "mimetype": "text/x-python",
   "name": "python",
   "nbconvert_exporter": "python",
   "pygments_lexer": "ipython3",
   "version": "3.9.13"
  },
  "orig_nbformat": 4,
  "vscode": {
   "interpreter": {
    "hash": "82ed002fa2d4956f5c6aec99bcefe0f73a9f79882f3c9e2319b14958a5896ac5"
   }
  }
 },
 "nbformat": 4,
 "nbformat_minor": 2
}
